{
  "nbformat": 4,
  "nbformat_minor": 0,
  "metadata": {
    "colab": {
      "provenance": []
    },
    "kernelspec": {
      "name": "python3",
      "display_name": "Python 3"
    },
    "language_info": {
      "name": "python"
    }
  },
  "cells": [
    {
      "cell_type": "markdown",
      "source": [
        "# Project name: Fundamental of Quantum computing with Artificial intelligence\n",
        "# Contributor name: Rajeev Singh Sisodiya\n",
        "\n",
        "# Project Details:\n",
        "The fusion of Quantum Computing and Artificial Intelligence (AI) holds the promise of revolutionizing computational capabilities by harnessing the principles of quantum mechanics to enhance machine learning and optimization algorithms. This project provides an overview of the fundamental concepts in Quantum Computing and their integration with Artificial Intelligence. It explores the synergy between quantum algorithms and AI techniques, examining how quantum parallelism, superposition, and entanglement can be leveraged to perform complex computations more efficiently.\n",
        "\n",
        "The project begins by elucidating the foundational principles of Quantum Computing, emphasizing qubits, quantum gates, and quantum circuits. It then delves into the intersection of Quantum Computing and AI, elucidating how quantum algorithms can enhance classical machine learning models. Quantum machine learning algorithms, such as quantum support vector machines and quantum neural networks, are discussed, showcasing their potential to outperform classical counterparts for specific tasks.\n",
        "\n",
        "\n",
        "> Indented block\n",
        "\n",
        "\n",
        "\n"
      ],
      "metadata": {
        "id": "1xv-zCwqun9P"
      }
    },
    {
      "cell_type": "markdown",
      "source": [
        "Quantum computing involves several mathematical concepts and formulas. Here are some fundamental aspects:"
      ],
      "metadata": {
        "id": "GVnYHE6fvIVf"
      }
    },
    {
      "cell_type": "markdown",
      "source": [
        "# Quantum Superposition:\n",
        "\n",
        "In classical computing, a bit can be either 0 or 1. In quantum computing, a qubit can exist in a superposition of states. Quantum superposition is a fundamental principle in quantum mechanics that allows quantum systems to exist in multiple states simultaneously. This concept is most commonly illustrated using qubits, which are the quantum analogs of classical bits. In classical computing, a bit can exist in one of two states, 0 or 1. In contrast, a qubit can exist in a superposition of both 0 and 1 states simultaneously.\n",
        "\n",
        "![image.png](data:image/png;base64,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)\n"
      ],
      "metadata": {
        "id": "yFycYFPCvLow"
      }
    },
    {
      "cell_type": "markdown",
      "source": [
        "# AI model to simulate quantum superposition\n",
        "Quantum superposition is a fundamental quantum mechanical concept, and its simulation can be done using quantum programming frameworks, but creating an \"AI model\" for superposition, in the traditional sense of machine learning, is not applicable because superposition is a fundamental quantum behavior, not a learning task.\n",
        "\n",
        " This below machine learning code creates a quantum circuit that puts a qubit into a superposition state. In this code:\n",
        "\n",
        "QuantumCircuit(1) creates a quantum circuit with one qubit.\n",
        "\n",
        "qc.h(0) applies a Hadamard gate to the qubit, putting it into a superposition of |0⟩ and |1⟩ states.\n",
        "\n",
        "Aer.get_backend('statevector_simulator') selects the statevector simulator for simulation.\n",
        "\n",
        "The circuit is transpiled, assembled, and executed to obtain the final state vector."
      ],
      "metadata": {
        "id": "AP6Eh99jxxhK"
      }
    },
    {
      "cell_type": "code",
      "source": [
        "!pip install qiskit"
      ],
      "metadata": {
        "id": "Cxb1oMLeztz3"
      },
      "execution_count": null,
      "outputs": []
    },
    {
      "cell_type": "code",
      "source": [
        "!pip install qiskit-aer"
      ],
      "metadata": {
        "id": "2DYSCPMSz8zq"
      },
      "execution_count": null,
      "outputs": []
    },
    {
      "cell_type": "code",
      "source": [
        "from qiskit import QuantumCircuit, Aer, transpile, assemble, execute\n",
        "\n",
        "# Create a quantum circuit with one qubit\n",
        "qc = QuantumCircuit(1)\n",
        "\n",
        "# Apply a Hadamard gate to create a superposition\n",
        "qc.h(0)\n",
        "\n",
        "# Simulate the quantum circuit\n",
        "simulator = Aer.get_backend('statevector_simulator')\n",
        "compiled_circuit = transpile(qc, simulator)\n",
        "qobj = assemble(compiled_circuit)\n",
        "result = execute(qc, simulator).result()\n",
        "\n",
        "# Get the final state vector\n",
        "statevector = result.get_statevector()\n",
        "\n",
        "print(\"Final state vector after superposition:\", statevector)\n"
      ],
      "metadata": {
        "colab": {
          "base_uri": "https://localhost:8080/"
        },
        "id": "3EQwgi6Gx10t",
        "outputId": "bad92c13-674f-484c-d2e8-42c3b509969b"
      },
      "execution_count": null,
      "outputs": [
        {
          "output_type": "stream",
          "name": "stdout",
          "text": [
            "Final state vector after superposition: Statevector([0.70710678+0.j, 0.70710678+0.j],\n",
            "            dims=(2,))\n"
          ]
        }
      ]
    },
    {
      "cell_type": "markdown",
      "source": [
        "Here are the key fundamentals of quantum superposition:"
      ],
      "metadata": {
        "id": "cPpgJuVz7Ecp"
      }
    },
    {
      "cell_type": "markdown",
      "source": [
        "# State Representation:\n",
        "\n",
        "In quantum mechanics, the state of a quantum system is represented by a quantum state vector, often denoted as ∣ψ⟩. For a qubit, the general form of the state vector is:\n",
        "\n",
        "![image.png](data:image/png;base64,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)\n",
        "\n",
        "\n",
        "Below is a Python code to represent the state of a qubit using a state vector. This code includes a function to normalize the state vector, ensuring that the probabilities of the states add up to 1.\n",
        "\n"
      ],
      "metadata": {
        "id": "R3DKlZXO7HNb"
      }
    },
    {
      "cell_type": "code",
      "source": [
        "import numpy as np\n",
        "\n",
        "def normalize_state_vector(state_vector):\n",
        "    norm = np.linalg.norm(state_vector)\n",
        "    return state_vector / norm\n",
        "\n",
        "def display_state_vector(state_vector):\n",
        "    print(\"State Vector: \", state_vector)\n",
        "\n",
        "# Define the coefficients (α and β) for the qubit state\n",
        "alpha = 0.6 + 0.8j\n",
        "beta = -0.3 + 0.2j\n",
        "\n",
        "# Create the qubit state vector\n",
        "qubit_state = np.array([alpha, beta])\n",
        "\n",
        "# Normalize the state vector\n",
        "normalized_state = normalize_state_vector(qubit_state)\n",
        "\n",
        "# Display the state vector\n",
        "display_state_vector(normalized_state)\n"
      ],
      "metadata": {
        "colab": {
          "base_uri": "https://localhost:8080/"
        },
        "id": "hKUur_1N7tF3",
        "outputId": "ea8586e8-ebbc-4ff4-bb01-65f5496752c5"
      },
      "execution_count": null,
      "outputs": [
        {
          "output_type": "stream",
          "name": "stdout",
          "text": [
            "State Vector:  [ 0.56443252+0.75257669j -0.28221626+0.18814417j]\n"
          ]
        }
      ]
    },
    {
      "cell_type": "markdown",
      "source": [
        "# Probabilistic Nature:\n",
        "\n",
        "The coefficients α and β represent probability amplitudes. The probabilities of measuring the qubit in states ∣0⟩ and ∣1⟩ are given by the squared magnitudes of these amplitudes:\n",
        "\n",
        "![image.png](data:image/png;base64,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)\n",
        "\n",
        "Below is a machine learning code that calculates the probabilities of measuring a qubit in states |0⟩ and |1⟩ based on the squared magnitudes of the probability amplitudes α and β. The code also verifies that the probabilities add up to 1. In this code:\n",
        "\n",
        "The calculate_probabilities function computes the probabilities based on the squared magnitudes of the probability amplitudes.\n",
        "\n",
        "The verify_probabilities_add_up function checks whether the probabilities add up to 1.\n",
        "\n",
        "The coefficients alpha and beta are defined to represent the probability amplitudes.\n",
        "\n",
        "The results are displayed, including the probabilities of measuring the qubit in states |0⟩ and |1⟩, and whether the probabilities add up to 1."
      ],
      "metadata": {
        "id": "VzFHlCqd83ry"
      }
    },
    {
      "cell_type": "code",
      "source": [
        "def calculate_probabilities(alpha, beta):\n",
        "    probability_0 = np.abs(alpha)**2\n",
        "    probability_1 = np.abs(beta)**2\n",
        "\n",
        "    return probability_0, probability_1\n",
        "\n",
        "def verify_probabilities_add_up(probability_0, probability_1):\n",
        "    total_probability = probability_0 + probability_1\n",
        "    return np.isclose(total_probability, 1.0)\n",
        "\n",
        "# Define the coefficients (α and β) for the qubit state\n",
        "alpha = 0.6 + 0.8j\n",
        "beta = -0.3 + 0.2j\n",
        "\n",
        "# Calculate the probabilities\n",
        "prob_0, prob_1 = calculate_probabilities(alpha, beta)\n",
        "\n",
        "# Verify that the probabilities add up to 1\n",
        "verification_result = verify_probabilities_add_up(prob_0, prob_1)\n",
        "\n",
        "# Display the results\n",
        "print(\"Probability of measuring |0>: {:.4f}\".format(prob_0))\n",
        "print(\"Probability of measuring |1>: {:.4f}\".format(prob_1))\n",
        "print(\"Probabilities add up to 1: {}\".format(verification_result))\n"
      ],
      "metadata": {
        "colab": {
          "base_uri": "https://localhost:8080/"
        },
        "id": "WVXUfJYk-KdC",
        "outputId": "5838488f-a817-4612-bcba-83952dc7f09f"
      },
      "execution_count": null,
      "outputs": [
        {
          "output_type": "stream",
          "name": "stdout",
          "text": [
            "Probability of measuring |0>: 1.0000\n",
            "Probability of measuring |1>: 0.1300\n",
            "Probabilities add up to 1: False\n"
          ]
        }
      ]
    },
    {
      "cell_type": "markdown",
      "source": [
        "# Manipulation of Superposition:\n",
        "\n",
        "Quantum gates are used to manipulate qubits and create superposition states. For example, the Hadamard gate (H) is commonly used to create an equal superposition of ∣0⟩ and ∣1⟩ from an initial state.\n",
        "\n",
        "![image.png](data:image/png;base64,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)\n",
        "\n",
        "Below we will use the Hadamard gate to manipulate the state of a qubit and create a superposition. In this machine learning code\n",
        "\n",
        "The Hadamard gate matrix is defined, and it is applied to the initial state using matrix multiplication to create a superposition.\n",
        "\n",
        "The apply_hadamard_gate function applies the Hadamard gate to the qubit state.\n",
        "The initial state is set to |0⟩.\n",
        "\n",
        "The results, including the initial state and the state after applying the Hadamard gate (resulting in superposition), are displayed."
      ],
      "metadata": {
        "id": "tRyLpCW3AQhS"
      }
    },
    {
      "cell_type": "code",
      "source": [
        "import numpy as np\n",
        "\n",
        "# Hadamard gate matrix\n",
        "Hadamard_gate = (1 / np.sqrt(2)) * np.array([[1, 1], [1, -1]])\n",
        "\n",
        "def apply_hadamard_gate(qubit_state):\n",
        "    # Apply Hadamard gate to the qubit state\n",
        "    superposition_state = np.dot(Hadamard_gate, qubit_state)\n",
        "    return superposition_state\n",
        "\n",
        "# Initial state |0⟩\n",
        "initial_state = np.array([1, 0])\n",
        "\n",
        "# Apply Hadamard gate to create superposition\n",
        "superposition_state = apply_hadamard_gate(initial_state)\n",
        "\n",
        "# Display the results\n",
        "print(\"Initial state |0⟩: \", initial_state)\n",
        "print(\"State after Hadamard gate (Superposition): \", superposition_state)\n"
      ],
      "metadata": {
        "colab": {
          "base_uri": "https://localhost:8080/"
        },
        "id": "ja-2KMrLB48R",
        "outputId": "b9f319a4-64ff-4119-a12c-3b5009e9f878"
      },
      "execution_count": null,
      "outputs": [
        {
          "output_type": "stream",
          "name": "stdout",
          "text": [
            "Initial state |0⟩:  [1 0]\n",
            "State after Hadamard gate (Superposition):  [0.70710678 0.70710678]\n"
          ]
        }
      ]
    },
    {
      "cell_type": "markdown",
      "source": [
        "# Measurement and Collapse:\n",
        "\n",
        "When a measurement is made on a qubit in superposition, the quantum system collapses into one of the basis states according to their probabilities. The act of measurement forces the system to choose a definite state. Below is a Machine learning code that simulates the measurement and collapse of a qubit in a superposition state."
      ],
      "metadata": {
        "id": "y2MvCKj4BYWN"
      }
    },
    {
      "cell_type": "code",
      "source": [
        "import numpy as np\n",
        "\n",
        "def measure_qubit(superposition_state):\n",
        "    # Calculate probabilities of measuring |0⟩ and |1⟩\n",
        "    probabilities = np.abs(superposition_state)**2\n",
        "\n",
        "    # Perform the measurement based on probabilities\n",
        "    result = np.random.choice([0, 1], p=probabilities)\n",
        "\n",
        "    # Collapse the state based on the measurement result\n",
        "    collapsed_state = np.zeros_like(superposition_state)\n",
        "    collapsed_state[result] = 1\n",
        "\n",
        "    return result, collapsed_state\n",
        "\n",
        "# Initial state |+⟩ (Hadamard applied to |0⟩)\n",
        "initial_state = (1 / np.sqrt(2)) * np.array([1, 1])\n",
        "\n",
        "# Perform measurement and collapse\n",
        "measurement_result, collapsed_state = measure_qubit(initial_state)\n",
        "\n",
        "# Display the results\n",
        "print(\"Initial superposition state: \", initial_state)\n",
        "print(\"Measurement result: |{}⟩\".format(measurement_result))\n",
        "print(\"State after collapse: \", collapsed_state)\n"
      ],
      "metadata": {
        "colab": {
          "base_uri": "https://localhost:8080/"
        },
        "id": "uV-qZrWaDZ_O",
        "outputId": "d9a7a960-698b-49d0-ae1a-ede344781c93"
      },
      "execution_count": null,
      "outputs": [
        {
          "output_type": "stream",
          "name": "stdout",
          "text": [
            "Initial superposition state:  [0.70710678 0.70710678]\n",
            "Measurement result: |1⟩\n",
            "State after collapse:  [0. 1.]\n"
          ]
        }
      ]
    },
    {
      "cell_type": "markdown",
      "source": [
        "In this above ML code:\n",
        "\n",
        "The measure_qubit function simulates the measurement process. It calculates the probabilities of measuring |0⟩ and |1⟩ based on the squared magnitudes of the superposition state amplitudes and randomly selects a measurement outcome.\n",
        "\n",
        "The initial state is set to |+⟩, which is a superposition state resulting from applying the Hadamard gate to |0⟩.\n",
        "\n",
        "The results, including the initial superposition state, measurement result, and state after collapse, are displayed."
      ],
      "metadata": {
        "id": "pyKogdmcEBYY"
      }
    },
    {
      "cell_type": "markdown",
      "source": [
        "# Quantum Parallelism:\n",
        "\n",
        "Quantum parallelism is a fundamental concept in quantum computing, enabling the simultaneous exploration of multiple possibilities. Quantum superposition enables quantum parallelism, allowing quantum computers to perform certain computations more efficiently than classical computers. Quantum algorithms can manipulate superpositions of states to explore multiple possibilities simultaneously. Below is a machine code that illustrates quantum parallelism using a quantum circuit with a Hadamard gate, which puts a qubit into an equal superposition of |0⟩ and |1⟩:\n",
        "\n"
      ],
      "metadata": {
        "id": "Qf7USpuzBeS-"
      }
    },
    {
      "cell_type": "code",
      "source": [
        "from qiskit import QuantumCircuit, Aer, transpile, assemble, execute\n",
        "\n",
        "# Create a quantum circuit with one qubit\n",
        "qc = QuantumCircuit(1)\n",
        "\n",
        "# Apply a Hadamard gate to create a superposition\n",
        "qc.h(0)\n",
        "\n",
        "# Simulate the quantum circuit\n",
        "simulator = Aer.get_backend('statevector_simulator')\n",
        "compiled_circuit = transpile(qc, simulator)\n",
        "qobj = assemble(compiled_circuit)\n",
        "result = execute(qc, simulator).result()\n",
        "\n",
        "# Get the final state vector\n",
        "statevector = result.get_statevector()\n",
        "\n",
        "print(\"State Vector after Hadamard (Quantum Parallelism):\", statevector)\n"
      ],
      "metadata": {
        "colab": {
          "base_uri": "https://localhost:8080/"
        },
        "id": "Q02IMGbxFs4i",
        "outputId": "6ef146d7-61c2-4fb5-d037-dbe4d2dc981e"
      },
      "execution_count": null,
      "outputs": [
        {
          "output_type": "stream",
          "name": "stdout",
          "text": [
            "State Vector after Hadamard (Quantum Parallelism): Statevector([0.70710678+0.j, 0.70710678+0.j],\n",
            "            dims=(2,))\n"
          ]
        }
      ]
    },
    {
      "cell_type": "markdown",
      "source": [
        "In this above machine learning code:\n",
        "\n",
        "qc.h(0) applies a Hadamard gate to the qubit, creating a superposition state.\n",
        "\n",
        "The quantum circuit is simulated using the statevector simulator from Qiskit.\n",
        "\n",
        "The state vector after applying the Hadamard gate is printed, showcasing the equal superposition of |0⟩ and |1⟩.\n",
        "\n",
        "This ML code provides a example of quantum parallelism, demonstrating how a quantum computer can process multiple possibilities simultaneously through superposition."
      ],
      "metadata": {
        "id": "l0MIY624Gdhe"
      }
    },
    {
      "cell_type": "markdown",
      "source": [
        "# Quantum entanglement :\n",
        "\n",
        "Quantum entanglement is another phenomenon closely related to superposition. When qubits are entangled, the state of one qubit is directly connected to the state of another, allowing for correlations that go beyond classical intuition.\n",
        "\n",
        "Quantum entanglement is a unique and fundamental phenomenon in quantum mechanics where two or more particles become correlated in such a way that the state of one particle is directly related to the state of another, regardless of the distance between them. Entanglement is a non-classical correlation that goes beyond what is possible in classical physics."
      ],
      "metadata": {
        "id": "Z1AcA_yJBjQ9"
      }
    },
    {
      "cell_type": "markdown",
      "source": [
        "# Entangled States:\n",
        "\n",
        "Entanglement typically involves creating a quantum system in an entangled state, where the state of the entire system cannot be described independently by the states of its individual parts. For a simple example involving two qubits, an entangled state could be\n",
        "\n",
        "![image.png](data:image/png;base64,iVBORw0KGgoAAAANSUhEUgAAALgAAAAfCAYAAABUKgeRAAAAAXNSR0IArs4c6QAAAARnQU1BAACxjwv8YQUAAAAJcEhZcwAADsMAAA7DAcdvqGQAAABfaVRYdFNuaXBNZXRhZGF0YQAAAAAAeyJjbGlwUG9pbnRzIjpbeyJ4IjowLCJ5IjowfSx7IngiOjE4NCwieSI6MH0seyJ4IjoxODQsInkiOjMxfSx7IngiOjAsInkiOjMxfV19LneQ3wAACtJJREFUeF7tnA9QE1cex793DHEY4ERp1QpjodcjN/TS6UjmKoyinp6KeGntaeXg8PxH67/SU296drB1amPb07ZWrCeWXs/DMYOV6kBbAxUUqQbvmliGvTKE9kz0QuS/IMEcQWbvbfKsbLJkN4KSYj4zO/t+vyzJ/t7+8vb7e/vIj1gCAgQYpfyY7gMEGJUEEtyd1k5002aAHz6BBHfSCXN1OYrULyM18xjM1Bvgh49wgtv7aGMY6O+Do5+2/ZYITI5PhGplMuQO6hoCDptb/w1nfwrgGIZzHhIjGZ+9x2t+CSY4c/AQGNoeMnVH8PapTmr4L7KxoZAFUeOO6UHDwZ34yMi/IsPan+70G6F5s3xEZdWIxtdRhZ05WlgHSXKfJUp76S4sT89E8q+ewbTvtzSkZa6DRihKMjJO1lbBSs3RTHuJGmoswdqEUOoRoYlByYf5yNuXj6LTFnQLXaT+HphPFzmPyftQC6aJ+m8RJEfSgxUou0Jtf4OcP3PiS/Hr30X64pSFGgMQiy8qBTkp9di6j4HQQO9zgkcueAkFmsOoOrUN6Zzj0RU4froQhYcPIF3hPIQPOcFZSgN0JmqPVjq+RO7BCcheLqcO7zgM+Uh7sRwPpKzA2vVL8Xjjfjyz2W0k6m9GyebVyG1UIGN9FlalhKHsxVXINfTQA1zEpSRAf1YgOUYKezMYrqZ5ZyeylqxG1r56tNOXBuJoZKAvLUJuTjZSl23HG99co6/wEYtPNnMlMqy7kGfwlErSErzVBH31RejrmqmDEBTs2suCMcbVco02NeS4agZWO/URYmYmQKc1Umt00lD4AZjUhVCGUIc37Azy1Foo129EUhTpx6AIxGVuwPMd+cgdIOfaS97DGx1LkJ0pRziRT7KoGcher4BGfQwNA78IsdOg1JfzfT7SXrIdeTXUGBbGQ/7UBqxMFCkQxsqh2pKO+d4OE40vArNVU1H0VzJAUM8tJI7gNvy7cBc2bvwTDnkRW9ail5G2WQ1NLTBGRp0cU5Ix/0oVmCFcAL+mn0FpCaCaJXH0/lc5NF1yxMnpIOEkGjHkDlj5WTUd7Sw4c5wMCglyxDhtF7JHfwplVylKeckYjfkpjW4+H+l3DN9kQMhEKBKnQvFoBMIH5oEbsigFlIkKxIwXk3Ti8ckSEqEyaT2UgrQEf1CBFRnJpNGD2u8GjOI8OsHouNtIAlRpCkTyCrYIJM25hrLqu1ttjxhGAyodifiFtPyGuf4ibfFxDgp19TByd78uE5hGp5sPuXPKiNrU1/Fv2eGJybB9cUFQh44GROML+TkUimZUGvj5KV2DEynC9b+5ZbAZkV70OkeACYgc63TwCJ9OviDkBP3zIYoFlaSIy32vBHpU4KCaFHRHGcnn2m40whofi1iJszC9dr6G5tOCti6ys9u8fn5Du5teHTsN81AFHfe3oxHR+CIwORbQX+KPCtITPCoaSrKzdg12cVpg/Y7sosYh3OXgE5KAWSHkBDuo7QXz0ZexPHOd9G1jyRAfzkRj1gtZyH7rAKpIwfz+tiysXaYQjkMA62UiJSYNErcHzTBx/SRGowU62pRGMB6fEYwz1f4/JXtniMc3+WFyC73SzCtopSc4kSlJ5BuC6lphsW8yQkfuHzHTiaaiLj7BUC6KQpnQVJAbMcveRMHhA9K391WDfOY9JCzUeYcTZwzGSBnpuaKSNqUiS1yIWLEp2f4+dJNByn1rtxMNLuDv7vIfWSkpPu6caZNDeoKTUW7JliWIs5cgr8DE10LcdNZ7RWh4MAU5GV6EKLkLhF9uGTGdeHvefmjb0HDdSkWZ5Lpj+kTQRDwUYoHVSwc7vjuLIwUaj63kny0wVnj6jxRowfiL7JEQH1qv8aUdt1zWndo9H7C1tO3BVQP79+zfswv/8AK7bPZi9smn17JrfruSXfP6SdbYSY8ZhOtaNbtXTw1v9NrY652+bA76hyND7R7SD3sG7TGP/jQVrGWfnL2VLb5KHRTn+8zez351kxg3qtndXP+6v+/Vk+wm4t9wrIk6BtB+in3Vy3l4o+34VmnXRgBv+eKKyUs+Oall9wrF6o5IfFwMT244ybZRm8OHEZwyaSpW7D2Mz/+2AkmcTUbt14o+Qv62FMQJFJe3saBMG4UFT1DTC46mSzDWGX3YLMNavDa1tCFjzSas2/SK4OZOeOREItEsgg8zhIiJn0rkhwUdvHqEyATuKeUvFZBzEiYkFnHxZN/ktrqxo5nUG6FQxpPPdMN6qgKxc4Seto0OxOLrthF97ib/fE9wdwY+6PGG6QL0yrmIk6A/ZVO4+dGpPmyxkgtCKWg+Lsb+t1/DgT2vC27uRBI54V7ceOWJFGTH9uA8M6AesTHQ18iwZNE0GstELFg6A7IavWvakGI2XIQ1dinmccnPgxSlBlLI+2V+99EZNhEc3vS+eHxtV5sxOf4RRFKbw+cEd65FyVyH1FQ1NJyjLp+0Vzl9gmtRKA1aA5QzSSL4OW3t18h3NhgRET9xOUhRZq27iIYrg3d+uGIqkroaYZWqVYNIPbMjC5GFO5F7ggFTU468zfthXvYasqfffvgjm/kc9qc2YPt2DXQ15AtwdBde1UbjrR0qTKbHfA9TDl3CtJEvtp0YoeFmtxanIauEs8uxMTXTmSNvlA6YBWE0rlxasN2VS6VqJC/mZsZ2obLVecRtROOzwMzIMEvpVgNSqcLDqwa/E24SjfXnU+x1avoz+z84zDY1t7oMy0l29+vF7HmdgS3+y1p27u9Iv3S7XuLzX/bYqsXs7krhWmDQ/rx5jTV9bWC/0tWypnbqE6DXUk+OIcd908T2cvpcgNo9arbUy3uIcbc0+HAhGt/lYnbN/HfZr25QmzJ0iSIBR3U5bHMSh1VG3A1u3LCj7+ZNTJzwALH6oC/QovsxuVMGqV7KwfNBWmw/IrSmJhqq5TNQ8vlZ32qBoAjEPMFJLO5xNfUJIItynQOnuwWX9NovoKwjGUle3kOMcPlCKKOo4W9IiM98thzIWOqxFugeJHgPdF8A86ZLXEI6gpz47AtkPPsUtQhBLTjzdQt6nUY05Amk0Km7JKi1ZTPTkdP7CT6po457SPe5KtLBt7T7nSGLn4GkSdTwM0Tjs11AkVaB7MWeEvjuJ3hHNc6Mnyttld09orPrOm3dprfXAbv9f3ggchz1BEP5UiGqdsygHWuB0QAokhS8IuY2EzF/53pc35cPxkZd94RO6CrGYX7iwIVbowmx+MgAuk+DsC3pUIRR1wAEEzz84ehhkxPddSbI5/lPaW/89hLWb3oFn2orqMfFJ8WlWDCXW1AmjOPsMRwcvwI5Ki+FchgZRXYocP7IRZ5UGc7+9MBWD9NjyVBImJ26W4xkfNZSDcyL3hz0n0zuu99F4RK8olKHC/qvUXDwHaePG70//MdRbHgu02l70Ei0974+rNymQozAKBHAf7knRaY/If/ZI0hfqoL5ciPOVeudvo9PnMTTv5nnbHvQegGHischeyeX3D1gqt2WKQTwa+67BOfg5rhVC+egsOhTp93S2oaohzyfDHIPXw4dsWFemgIyWzPMNVqU1Tt8XgQVYOS4b3+67dv/mJGZtRnPPpOKp1N/jUdip9BXbtGDyldXY+s5/nid9MeP8K4qgloB/J37+rcJN21VIzQ0BOpXtlBPgNHGfZ3gdfXfIiwsFFOiPR58Bxgl3NcJHmC0A/wfAnR/fY+AujYAAAAASUVORK5CYII=)\n",
        "\n",
        "This state indicates that the two qubits are entangled, and the measurement of one qubit will immediately determine the state of the other. In this below machine learning code:\n",
        "\n",
        "qc.h(0) applies a Hadamard gate to the first qubit, creating a superposition state.\n",
        "\n",
        "qc.cx(0, 1) applies a controlled-X (CNOT) gate, entangling the two qubits.\n",
        "\n",
        "The quantum circuit is simulated using the statevector simulator from Qiskit.\n",
        "\n",
        "The entangled state vector is printed, showcasing the entanglement between the two qubits."
      ],
      "metadata": {
        "id": "nr9PpZV_IO1O"
      }
    },
    {
      "cell_type": "code",
      "source": [
        "from qiskit import QuantumCircuit, Aer, transpile, assemble, execute\n",
        "\n",
        "# Create a quantum circuit with two qubits\n",
        "qc = QuantumCircuit(2)\n",
        "\n",
        "# Apply a Hadamard gate on the first qubit\n",
        "qc.h(0)\n",
        "\n",
        "# Apply a CNOT gate to create entanglement\n",
        "qc.cx(0, 1)\n",
        "\n",
        "# Simulate the quantum circuit\n",
        "simulator = Aer.get_backend('statevector_simulator')\n",
        "compiled_circuit = transpile(qc, simulator)\n",
        "qobj = assemble(compiled_circuit)\n",
        "result = execute(qc, simulator).result()\n",
        "\n",
        "# Get the final state vector\n",
        "statevector = result.get_statevector()\n",
        "\n",
        "print(\"Entangled State Vector:\", statevector)\n"
      ],
      "metadata": {
        "colab": {
          "base_uri": "https://localhost:8080/"
        },
        "id": "MyNWZgw7IhYM",
        "outputId": "a577bb94-f268-4654-9d31-590eecc22cfc"
      },
      "execution_count": null,
      "outputs": [
        {
          "output_type": "stream",
          "name": "stdout",
          "text": [
            "Entangled State Vector: Statevector([0.70710678+0.j, 0.        +0.j, 0.        +0.j,\n",
            "             0.70710678+0.j],\n",
            "            dims=(2, 2))\n"
          ]
        }
      ]
    },
    {
      "cell_type": "markdown",
      "source": [
        "# Quantum Correlations:\n",
        "\n",
        "the concept of \"quantum correlations\" or the non-local effects observed in entangled particles, often referred to as quantum entanglement or quantum non-locality, does not enable faster-than-light communication or violate causality. The correlations observed in entangled particles are probabilistic and do not allow for the transmission of classical information at speeds exceeding the speed of light.\n",
        "\n",
        "When particles are entangled, measuring the state of one particle instantaneously determines the state of the other particle, regardless of the spatial separation between them. This correlation happens faster than the speed of light, and it appears as though information is transmitted instantaneously."
      ],
      "metadata": {
        "id": "jQfxLDEhI01z"
      }
    },
    {
      "cell_type": "code",
      "source": [
        "from qiskit import QuantumCircuit, Aer, transpile, assemble, execute\n",
        "\n",
        "def create_entangled_state():\n",
        "    # Create a quantum circuit with two qubits\n",
        "    qc = QuantumCircuit(2)\n",
        "\n",
        "    # Apply a Hadamard gate on the first qubit\n",
        "    qc.h(0)\n",
        "\n",
        "    # Apply a CNOT gate to create entanglement\n",
        "    qc.cx(0, 1)\n",
        "\n",
        "    return qc\n",
        "\n",
        "def measure_correlations(qc):\n",
        "    # Simulate the quantum circuit\n",
        "    simulator = Aer.get_backend('statevector_simulator')\n",
        "    compiled_circuit = transpile(qc, simulator)\n",
        "    qobj = assemble(compiled_circuit)\n",
        "    result = execute(qc, simulator).result()\n",
        "\n",
        "    # Get the final state vector\n",
        "    statevector = result.get_statevector()\n",
        "\n",
        "    return statevector\n",
        "\n",
        "# Create an entangled state\n",
        "entangled_circuit = create_entangled_state()\n",
        "\n",
        "# Measure quantum correlations\n",
        "entangled_state = measure_correlations(entangled_circuit)\n",
        "\n",
        "print(\"Entangled State Vector:\", entangled_state)\n"
      ],
      "metadata": {
        "colab": {
          "base_uri": "https://localhost:8080/"
        },
        "id": "Tk91QyE_MYBg",
        "outputId": "5cf90f83-51b2-4f3a-c721-586bf80ba512"
      },
      "execution_count": null,
      "outputs": [
        {
          "output_type": "stream",
          "name": "stdout",
          "text": [
            "Entangled State Vector: Statevector([0.70710678+0.j, 0.        +0.j, 0.        +0.j,\n",
            "             0.70710678+0.j],\n",
            "            dims=(2, 2))\n"
          ]
        }
      ]
    },
    {
      "cell_type": "markdown",
      "source": [
        "In this above machine learning code:\n",
        "\n",
        "create_entangled_state creates a quantum circuit with two qubits and applies a Hadamard gate on the first qubit followed by a controlled-X (CNOT) gate to create entanglement.\n",
        "\n",
        "measure_correlations simulates the quantum circuit using the statevector simulator and retrieves the final state vector.\n",
        "\n",
        "While the above code provides an example of entangled states and the correlated nature of entangled particles, it's crucial to understand that these correlations are probabilistic and do not violate the principles of causality or allow for superluminal communication. Quantum mechanics adheres to the constraints imposed by the theory of relativity, and no information is transmitted faster than the speed of light."
      ],
      "metadata": {
        "id": "ouQbVZZ5Qgnq"
      }
    },
    {
      "cell_type": "markdown",
      "source": [
        "# Bell States:\n",
        "\n",
        "The entangled state mentioned above is an example of a Bell state. There are four Bell states, and they play a crucial role in entanglement experiments and quantum information processing. The general form of a Bell state is\n",
        "\n",
        "![image.png](data:image/png;base64,iVBORw0KGgoAAAANSUhEUgAAANQAAABECAYAAAD5uBtbAAAAAXNSR0IArs4c6QAAAARnQU1BAACxjwv8YQUAAAAJcEhZcwAADsMAAA7DAcdvqGQAAABfaVRYdFNuaXBNZXRhZGF0YQAAAAAAeyJjbGlwUG9pbnRzIjpbeyJ4IjowLCJ5IjowfSx7IngiOjIxMiwieSI6MH0seyJ4IjoyMTIsInkiOjY4fSx7IngiOjAsInkiOjY4fV1940gfGgAAEM5JREFUeF7tnQ9QU1e+x7/vMcZxlFcQrS1QF7ou6bgTx1G2Sp5/aOs/qlXr4srE1UWrq7CWFrVWV1vGPqw7tivKatXqFopbnj4prlRF6r8IFlwF1yH7GIJuk2EhBeVvgfKIMnnnJkdJICS5yQlJ6PnM3PGcH3fMPTf3d87v/M7N+f6bgQAOh8OEf6f/cjgcBnCH4nAYwh2Kw2EIdygOhyHcoVymA40PHtIy58eOZxyqvQNt3bTso+hrVSg+nYmU+Dew63oTtXJ+7HjGodSFuPqAln0UyejnIZsXj9iJemrhcOw5VKdnQhm9LzyjkuHwH0bLrqLvgN58xO5+6N57oPdwiOrJ9pHPbuukZTdg06FURzKhouWBowVXd2eiysdDQoepLcKHuwvRQKtGHlzC4XP1tMKetitpyBz4L7YHT7bPTw/tsW04XNZBDWxxMuRTI3tFAuLmL8HUl3uO2bEJWHlMTc9xlgDIp9Qir+RHMNHvVOHwO4WQvxmDYD9qs0V3PVSns3H4T0dxOLsI2lZq702dCnnHyDnkvJwrNX3mq/4vToLm7A24NkjUQHlBQ8uMqS5CwR37D7zuSj5UVu6B7fYNhyzxdxh1JBV5tdTEECcdSgrF8UM4cS4XuYnhRovio1xczDmErDVSY90c3UXTl/vkyC2EMsvSll3SQs8mN2TmK4CyzMUv3PupykpD2aLfIHokNdiiXYV0xTYUPPUKVieuxfKJ9cZ674dCX3YUcW9dwqiYeKxPXIoJtQexZGM+dOZONXIm5naXoNSl0KcZ5Wcr0UhrrtJ27zaKSWfx8abVmB2fhgJNO/2LOS3QlhSRziINW2PjsCS1EBprbbDXPr9QxL4pRebufGbX/xh2SQkbIVrw7LVY/6bZsWQGolda2hRRAfRswrDJiPa7jKuDOXnWdAmfnXwOsbNDqcEWD6E6tgfZst8i6eUxkJDRzH98LJLiWvDh/ktoo2cZR7zUfEQmboA8ZAh5cAIQseJ3WNd0FOkXezosYAgio4GCa+Y2zyN5ZjIUCYsho3XrDEewfCnWLzV15NZxoH2yWVB0fo6M62wjIaccqk1ThOztm7AyYRcyi+4bbaqTu7BhxSakZNgIRRyG3JAFISi+5r4429M0XrsM5YuzIHdkdOosQ0FeB+Q/D4eEmgTCpOTRKyUdT52prr95CdmtUkRIiTM9IRRh5DTl2RKL3lgS9SrClZY2T+I/bhIio6QIHmF+7b0JQFgUOW98KPzNb4QV7LcvlDhdIHIYR0KiHUqXl4Ilb2SgYdEHyDq0HeuiTT2sTLEdBzI/wGutGYhTpKDA1fhUFkVuyN+go1Vvo+1OHglV03DkInmmTx1DOglblQ5PKTqg+psakZER8KcWm2gqUUyLFvgJD58aVWpTL6utvG38tzdDhYevohJq8xDITwp5eCGuVtP6YMOB9oXJJkFy5TbKGSbAxDlUdR5S9qnQNm4xYl8cTo1m+A1HZNxSyEnokfJ+3hNnEDuHMiHFHHkJvq6gVS/Df+JCEqom4wCZRxZmb0cSCVujbUUhFnyL8ptARPgYWrdD50ObHYuuyRQbd3XamsjfR0OvyCEiJgrF+a4mkbwXu+17hoxS+Cd0dIRngSiHaiwrMaXRx4Ui2GixArnIMOFfDZkU0gvtM4fatRt7t1jaLOZQlOCoKJQrHfjC228gfUUCVoo40q+7J23qEHU10GIMgh0J9wiN1d/Ski3qoblHi44ydhLkFSV2lihaoNxp7R6m4at72UjuY0/Ahmw3Zf/EYq99xmdVA62nHCpocpRpwnivpv8e0/iwEEbLMOEZo8V5xs7A3Orz9rNRI6Yi6fghZIk4kqZZGWGtYL4s4MrRlwBIHF0YdiSljqEY6tB55oRiboy9JYoARKdYu4fJeG2cAml97IdwQOHwUO1mHGkfmXu2s0tMiAv5xi7Ezrdl8L/3V+TctNLDd3eg9MQpFEuk+P1ehWmkcokAhI9tISENrXqAG1dymRyuEBTyPC3ZIgDBTjzH/iEhaKgbvOlUR9qna2UXrYhOSgQv3IncP6/CqDPbsPKtNGQoa4x2VW4aNq7YjBzJKpw4uRsLQ4xm1+hWo7h6Kv7Tgf9LT25Km5iD8SJX3f0GLF+TjITk96weLjEyEBG0aI2wENNczD/I1pzsOQSPpkUzqopqIZ/m4FzOB3GkfWEhfacbziLaoQT8w6dDsSsdWfuToZA/bbRJFyRjb/Yh/CFxOsKeMppcRl9yHproKATRer90t0BboYZaxKFl/JOL7P85g4Mf78ShtP+yeljwVCCZg2ocnwyPlSJSAmjvWyZu2pqEJYvJmEDX0sPGT4IENaA5CkoHGoXPeVEGae+QsPMG8qqn4CVXQ3NvxV77OjugJ3dMWNdjhVMOZQG9GImddQHxPESpEpg704HeQ1jAFNYnRBwyYeGTEQ2NzZAMGYKAgP8w1vXVapRW1Fi+8GrOsECMekqP7x44GGr4ybBweSh0N9Vmc1ch9a6CZPYrkD/uwCbGICm8A9+oTFGDkXYVSu9IELtgap8Uvf5mCRAz07HU/QDT772zgIQZNs6z2z7SIWkhwwsMp3w2dz1S7TsKvL3Wysq18C7fPlzobEZV0+PYSUKGzkBIZr5t9fUj0TRdQsqREdi+barFYqY38snRv+CXi+ZhTFA3CnZno00+E2GtN5B+TAX5Bx9j/eS+CRDVvjikDCPh8zor96ouH+klk5D0ulmo0l2Pgm2b8cUoBd6ZQ5yrKBPpFZOR9pECESPoOQK1+di6IQ/BKxPxUng9vvnkc/wjagf2rpL2uo8tKNiagaCUZETaTI5okLNhD/L6LNZ3kQ7hIZ4dbf7hJkYt2IK9y2w8pVba13hhD5K/qMR3tS1P3vzwHzkGzw6bjneOK+gzKGQct+EzlSPPnf326a+lYcapF3DuQIz9KMhRBIfqj/K0Tw3ltDzQNOSmGjI89eEi6Oj4wbDvkwxjuator2HNu+cN6h+MVYMma71hyuIMg9pUtUA4d/qvTxk0tG7Bd+cN+3PraMWS7++WG24VlxnK7zZTixUeNRs0fy8j55UbNI3U1hvyGe8frKSVAcZG+5hht316w60PlxnWnPgXrbPB9ZDPLdTgqjIE8r5Do9dx+uzXWP6rRaaK31Bo76igo52nMKdBqxoaKz+mlEQtRZLkDJQif0bhP05mClnH2QiFSQgcNlEIbWUI62etS3etEOHRDCIJL8Vu+9rLoLw+BavmO/IupeN4p0NVXEKxfJbNzNZA09L6PS310NWlR2fn/2FUUKCxLolKxMULWxBN5zTaittAeBRkVrJrwhvPC9+cgStfFPW83DpgqPF1cRTmjKfVQYf99mlPn4JujQLyvhGrS3ilQ1UpaxE9k23P4Qrqu98iMfk9fJV/mVpMfHnmAubNmkFrvWi/gZwTAdi8I6bft0okE9fiD1MuYdfpAX4JWFUCTfSU/t928XXstU+Tg49Vs7B5IfvlApsO5f+TUA9kgDQo18/wulTutKhf4NRfz9OaaXRqbmlFaMiz1GJGdz3yUi8jbO8OxIbbziYGv74F6/VfIs/8bZ1hgSRUY9x1mqGteIiXZnpw7cmT7dOrkJM7Br/f7eCPOsVC51IcOzQ3txqmz11mKCq+Zaxn/fdpQ43OysT6UbPhm4MZhm/um6rf/73MoO4ylTmDHy9NSngfwhrTwldfwYmcr4z1+w8aEPJs716wA6ojp9C2YDFkkg403lOhIL9SyOxyfiTYXIfiWHL3n1qsWLsRv1oyH4vnz8bz4WPpX0y0XdmD+am99jKQrcW5/QzXOTheDXcokSRvTcXw4cOQ+t4mauFweuAOJZKKyrsYMWI4xoYO2hwZxwW4Q3E4DOFJCQ6HIdyhmMAVODgmPOdQXIGDMwjxnENxBQ7OIMS2Q3lIfUOAK3BwBQ6X8JACh02H8oz6hgBX4OAKHK7hKQUOp0M+4ReWKxUrMMNiu6w4xK1IQLbLXxRX4OiX7g5or+SYNgg9lg+VnX0pnFOocBQPKnC4pDDiPgUOpx0qaN4WZGUfR+HFHVAIhnHxyL1yAieOH4LCyg8DuQKHdUQpcAhvsW98A+m1MixPXIvVMSNQ8NZqpFv0tIwUKhzCEwocJJpjoTDiJgUOcQ71QIPSktsorTAbqo37axMkQzDUVDL1onfIeSUq6GiDuAKHFUQpcJCoIG8fPmyKRdIKKfzJaCYJmY6kRBmyU0/1Co8ZKVR4ALsKHCwVRtygwCFyhGrHP07swYYNm23G37qcbYjbmIrscrpRvVNwBQ5LanA1Vw1MllpsICoZ91NEtl7AhTvUQMJldgoVA4sjChxsFUbYK3CIc6jRMsQvF36h2oHye/096C1QFQvbWE3GwjgZglz5ERdX4OihVQOVtXifRAgS8jgI25aJxgcVOFgrjLBW4BA/hyKhnXDtvTdd7KELXcaLexpBZhtecgWO3ohV4Gi3ufdEVWMzLYnD1xQ4mCuMMFbgEO9QIcIFEAdp7a9h96ETVCBCAi16Xq7A0QuRChyorbGuEeUqPqXA4QaFEcYKHOIdioR9cqEXLim3fpEaNYpJQBo2TcZALIDgBQoc7kOcAod7fvjrSwoc7lIYIXMzRgoc4h2KXGDsplhEdJL5Q5bGcjInpHX35aBqdAy2L2e155vnFTjMZWlcOVzCGJq4B99R4HCfwggrBQ4nHIowXoGszB2YcOd9vB5/1BSK1OZh67Jt+Gr0b5D16VrIWG1q4wUKHNbkaZw5XMIoMNA/kaEm0QZn8CUFDncpjLBS4HDOoQSemYT4/cdx7s/xkAt1MirtzPkMR3fEIIKR+oaALylwiJK0EavAMSwcEcLGjXU9e38baaonc7HhiBzvpEP4mAIHc4URxgoczjtUb8wXdpnhOwocAqIkbcQqcGAM5i2dDsmdUovUsLbsNnThS23skkqGYRsJB59T4GCtMMJYgcPmT+D7V994rJagQeODejQ+Dp2GkYd65FDM22L99SPR+JAChyBpI2wxtmHdSmNd36SBuhoIHh+OoH4uXrQCh7B29afN2Pqv6dhObrBETc45A6z+aAuin4TEbBUqTHiTAgeBocIIcwUOwaH6o9yD6hsCvqLAIXDw0+OGuvoHpNRuKD9Irju/zHDr8heGd19dZnj3jHWlCWcVOLpqKo0KHLf+t87Q9YgancGXFTiYKIywV+BgF/Ixx3cUOH74oRMPHz3CmKdHAdWXkaEKRISgfvGyAh9smQLlvmNQWnnj21kFDkmI1BS2knmTK7G/TytwsFAYcYMCh/c6lBcqcPSHhaQNQa8phZY6kET6AuRQodLaOidX4HAjnlHg8FqH8jYFDgFHJG0EpfwDFz6DgnaMenUliiVTENlPR8kVONyEhxQ4bDqUZ9Q3BLxPgUOQtEl427qkzeyXptFaL7prkJelQuyOVTYn/VyBgz2eUuCwmeXj9CA4VFHxLRQW30TWkT8abXr9Qxw69he8lbjKWLdEyMil4uqEd5HkSNqfMyjw4qSEdyH92fN4/bW5qLqrwfWSUqPt5JdnsXjBHGPZkg5oT56Ces4OkzNpbqOU0cuXHO+GO5QIgkYGGB3osaRN/YMG/GRs33eidKc/R7F0MeaSkLWtWg3lmTK0s9odiePV8JBPJMIItXLdJiz75QIsEiRtwp6jf6GosxGXkAMtrRqRxODoBesL5JzBBXcoJ9iwKcU4Wu3cnkwtHI4J7lAcDkP4HIrDYQh3KA6HIdyhOByGcIficJgB/D9vxQYYk9wn/QAAAABJRU5ErkJggg==)\n",
        "\n",
        " Bell states are specific quantum entangled states that play a crucial role in quantum information processing. There are four Bell states, each characterized by a specific entanglement pattern."
      ],
      "metadata": {
        "id": "GQuEtqs_I8da"
      }
    },
    {
      "cell_type": "code",
      "source": [
        "from qiskit import QuantumCircuit, Aer, transpile, assemble, execute\n",
        "\n",
        "def create_bell_state(state_index):\n",
        "    # Create a quantum circuit with two qubits\n",
        "    qc = QuantumCircuit(2)\n",
        "\n",
        "    # Apply Hadamard gate on the first qubit\n",
        "    qc.h(0)\n",
        "\n",
        "    # Apply X gate followed by Hadamard on the second qubit for specific Bell states\n",
        "    if state_index == 1:\n",
        "        qc.x(1)\n",
        "    elif state_index == 2:\n",
        "        qc.x(0)\n",
        "    elif state_index == 3:\n",
        "        qc.x([0, 1])\n",
        "\n",
        "    qc.cx(0, 1)  # Apply CNOT gate\n",
        "\n",
        "    return qc\n",
        "\n",
        "def measure_bell_state(qc):\n",
        "    # Simulate the quantum circuit\n",
        "    simulator = Aer.get_backend('statevector_simulator')\n",
        "    compiled_circuit = transpile(qc, simulator)\n",
        "    qobj = assemble(compiled_circuit)\n",
        "    result = execute(qc, simulator).result()\n",
        "\n",
        "    # Get the final state vector\n",
        "    statevector = result.get_statevector()\n",
        "\n",
        "    return statevector\n",
        "\n",
        "# Create and measure Bell states\n",
        "for i in range(4):\n",
        "    bell_circuit = create_bell_state(i)\n",
        "    bell_state = measure_bell_state(bell_circuit)\n",
        "\n",
        "    print(f\"Bell State {i + 1}: {bell_state}\")\n"
      ],
      "metadata": {
        "colab": {
          "base_uri": "https://localhost:8080/"
        },
        "id": "BYx_ZUypJOZo",
        "outputId": "e2ff83b7-f04c-4183-e1e9-00d49bbf8e50"
      },
      "execution_count": null,
      "outputs": [
        {
          "output_type": "stream",
          "name": "stdout",
          "text": [
            "Bell State 1: Statevector([0.70710678+0.j, 0.        +0.j, 0.        +0.j,\n",
            "             0.70710678+0.j],\n",
            "            dims=(2, 2))\n",
            "Bell State 2: Statevector([0.        +0.j, 0.70710678+0.j, 0.70710678+0.j,\n",
            "             0.        +0.j],\n",
            "            dims=(2, 2))\n",
            "Bell State 3: Statevector([0.70710678+0.j, 0.        +0.j, 0.        +0.j,\n",
            "             0.70710678+0.j],\n",
            "            dims=(2, 2))\n",
            "Bell State 4: Statevector([0.        +0.j, 0.70710678+0.j, 0.70710678+0.j,\n",
            "             0.        +0.j],\n",
            "            dims=(2, 2))\n"
          ]
        }
      ]
    },
    {
      "cell_type": "markdown",
      "source": [
        "In this above machine learning code:\n",
        "\n",
        "create_bell_state creates a quantum circuit with two qubits and applies Hadamard and CNOT gates to generate one of the four Bell states based on the state_index.\n",
        "\n",
        "measure_bell_state simulates the quantum circuit using the statevector simulator and retrieves the final state vector."
      ],
      "metadata": {
        "id": "cmwtMh2LRnVe"
      }
    },
    {
      "cell_type": "markdown",
      "source": [
        "# Quantum Non-locality:\n",
        "Quantum non-locality, as observed in entangled particles, is a fundamental concept in quantum mechanics.Entanglement leads to quantum non-locality, meaning the properties of entangled particles are correlated in a way that cannot be explained by classical physics. The measurements made on one particle immediately influence the state of the other particle, regardless of the separation distance.\n",
        "here's a machine learning code using Qiskit to demonstrate quantum non-locality through the violation of a Bell inequality. The code generates a quantum circuit for the CHSH (Clauser-Horne-Shimony-Holt) inequality, which is commonly used to test quantum non-locality.\n",
        "\n",
        "In this below ML code:\n",
        "\n",
        "create_CHSH_circuit generates a quantum circuit for the CHSH experiment.\n",
        "\n",
        "run_CHSH_experiment simulates the circuit and retrieves measurement counts.\n",
        "\n",
        "The CHSH value is calculated based on the measurement outcomes.\n",
        "\n",
        "Quantum non-locality is indicated by the violation of certain Bell inequalities, such as the CHSH inequality. If the CHSH value is greater than 2 (in absolute value), it implies non-local correlations that cannot be explained by classical physics."
      ],
      "metadata": {
        "id": "38hxZr0mJWzY"
      }
    },
    {
      "cell_type": "code",
      "source": [
        "from qiskit import QuantumCircuit, Aer, transpile, assemble, execute\n",
        "\n",
        "def create_CHSH_circuit():\n",
        "    # Create a quantum circuit with two qubits\n",
        "    qc = QuantumCircuit(2, 2)\n",
        "\n",
        "    # Apply Hadamard and CNOT gates to create an entangled state\n",
        "    qc.h(0)\n",
        "    qc.cx(0, 1)\n",
        "\n",
        "    # Apply local rotations\n",
        "    qc.ry(0.1, 0)\n",
        "    qc.rx(0.2, 1)\n",
        "\n",
        "    # Measure in the X and Y bases\n",
        "    qc.h(0)\n",
        "    qc.measure(0, 0)\n",
        "    qc.rx(-0.5 * 3.14159, 1)\n",
        "    qc.measure(1, 1)\n",
        "\n",
        "    return qc\n",
        "\n",
        "def run_CHSH_experiment(circuit):\n",
        "    # Simulate the quantum circuit\n",
        "    simulator = Aer.get_backend('qasm_simulator')\n",
        "    compiled_circuit = transpile(circuit, simulator)\n",
        "    qobj = assemble(compiled_circuit)\n",
        "    result = simulator.run(qobj).result()\n",
        "\n",
        "    # Get measurement counts\n",
        "    counts = result.get_counts()\n",
        "\n",
        "    return counts\n",
        "\n",
        "# Create the CHSH circuit\n",
        "chsh_circuit = create_CHSH_circuit()\n",
        "\n",
        "# Run the CHSH experiment\n",
        "counts = run_CHSH_experiment(chsh_circuit)\n",
        "\n",
        "# Print the measurement results\n",
        "print(\"Measurement Counts:\", counts)\n",
        "\n",
        "# Calculate the CHSH value\n",
        "CHSH_value = counts.get('00', 0) - counts.get('01', 0) + counts.get('10', 0) + counts.get('11', 0)\n",
        "print(\"CHSH Value:\", CHSH_value)\n"
      ],
      "metadata": {
        "colab": {
          "base_uri": "https://localhost:8080/"
        },
        "id": "VRWcenAM1MME",
        "outputId": "7b17830f-d149-4671-b144-492352b7fcdc"
      },
      "execution_count": null,
      "outputs": [
        {
          "output_type": "stream",
          "name": "stdout",
          "text": [
            "Measurement Counts: {'11': 258, '01': 242, '00': 282, '10': 242}\n",
            "CHSH Value: 540\n"
          ]
        },
        {
          "output_type": "stream",
          "name": "stderr",
          "text": [
            "<ipython-input-24-7d1a75c9e30e>:28: DeprecationWarning: Using a qobj for run() is deprecated as of qiskit-aer 0.9.0 and will be removed no sooner than 3 months from that release date. Transpiled circuits should now be passed directly using `backend.run(circuits, **run_options).\n",
            "  result = simulator.run(qobj).result()\n"
          ]
        }
      ]
    },
    {
      "cell_type": "markdown",
      "source": [
        "# Quantum Measurement and Collapse:\n",
        "\n",
        "When a measurement is performed on one of the entangled particles, the quantum state collapses, and the state of the other particle is immediately determined, even if it is far away. This instantaneous correlation is often referred to as \"spooky action at a distance.\"  Below is a machine learning code using Qiskit to demonstrate the concept of quantum measurement and the collapse of the state. In this code:\n",
        "\n",
        "create_entangled_state generates a quantum circuit with two entangled qubits.\n",
        "\n",
        "measure_entangled_state simulates the quantum circuit, retrieves the state vector, measures the first qubit, and then simulates the measurement to get the measurement result."
      ],
      "metadata": {
        "id": "XVPjaxveJbeg"
      }
    },
    {
      "cell_type": "code",
      "source": [
        "from qiskit import QuantumCircuit, Aer, transpile, assemble, execute\n",
        "\n",
        "def create_entangled_state():\n",
        "    qc = QuantumCircuit(2)\n",
        "    qc.h(0)\n",
        "    qc.cx(0, 1)\n",
        "    return qc\n",
        "\n",
        "def measure_entangled_state(qc):\n",
        "    simulator = Aer.get_backend('qasm_simulator')\n",
        "    qc.measure_all()\n",
        "\n",
        "    compiled_circuit = transpile(qc, simulator)\n",
        "    qobj = assemble(compiled_circuit)\n",
        "\n",
        "    result = simulator.run(qobj).result()\n",
        "    counts = result.get_counts().most_frequent()\n",
        "\n",
        "    return counts\n",
        "\n",
        "# Create an entangled state\n",
        "entangled_circuit = create_entangled_state()\n",
        "\n",
        "# Measure the entangled state\n",
        "measurement_result = measure_entangled_state(entangled_circuit)\n",
        "\n",
        "# Print the measurement result\n",
        "print(\"Measurement Result:\", measurement_result)\n"
      ],
      "metadata": {
        "colab": {
          "base_uri": "https://localhost:8080/"
        },
        "id": "tONMF6qX5eVR",
        "outputId": "24df19b8-af1b-4c48-954b-765d0f0b386a"
      },
      "execution_count": null,
      "outputs": [
        {
          "output_type": "stream",
          "name": "stdout",
          "text": [
            "Measurement Result: 11\n"
          ]
        },
        {
          "output_type": "stream",
          "name": "stderr",
          "text": [
            "<ipython-input-30-d821e663b627>:16: DeprecationWarning: Using a qobj for run() is deprecated as of qiskit-aer 0.9.0 and will be removed no sooner than 3 months from that release date. Transpiled circuits should now be passed directly using `backend.run(circuits, **run_options).\n",
            "  result = simulator.run(qobj).result()\n"
          ]
        }
      ]
    },
    {
      "cell_type": "markdown",
      "source": [
        "# Quantum Gates:\n",
        "Quantum gates are fundamental building blocks in quantum computing, analogous to classical logic gates in classical computing. Quantum gates are unitary operations that manipulate the state of quantum bits (qubits). Quantum gates are a fundamental component of quantum circuits, allowing the manipulation of quantum information and the implementation of quantum algorithms. They form the basis for performing computations on quantum computers and are essential for exploiting the unique properties of quantum mechanics in information processing."
      ],
      "metadata": {
        "id": "bDjQCYGJ9O_m"
      }
    },
    {
      "cell_type": "markdown",
      "source": [
        "# Qubits:\n",
        "\n",
        "Quantum gates operate on qubits, which are the basic units of quantum information. Qubits can exist in superpositions of classical states (0 and 1) and can be entangled with other qubits.  Below is a machine learning code using Qiskit to create a quantum circuit with qubits:"
      ],
      "metadata": {
        "id": "BMTTMQN49v1O"
      }
    },
    {
      "cell_type": "code",
      "source": [
        "from qiskit import QuantumCircuit, Aer, transpile, assemble, execute\n",
        "\n",
        "def create_quantum_circuit():\n",
        "    # Create a quantum circuit with three qubits\n",
        "    qc = QuantumCircuit(3)\n",
        "\n",
        "    # Apply Hadamard gate to create superposition on the first qubit\n",
        "    qc.h(0)\n",
        "\n",
        "    # Apply X gate to the second qubit (flipping its state)\n",
        "    qc.x(1)\n",
        "\n",
        "    # Apply CNOT gate to entangle the first and second qubits\n",
        "    qc.cx(0, 1)\n",
        "\n",
        "    # Apply a series of gates on the third qubit\n",
        "    qc.h(2)\n",
        "    qc.cx(1, 2)\n",
        "\n",
        "    return qc\n",
        "\n",
        "# Create a quantum circuit\n",
        "quantum_circuit = create_quantum_circuit()\n",
        "\n",
        "# Draw the quantum circuit\n",
        "print(\"Quantum Circuit:\")\n",
        "print(quantum_circuit)\n",
        "\n",
        "# Simulate the quantum circuit\n",
        "simulator = Aer.get_backend('statevector_simulator')\n",
        "compiled_circuit = transpile(quantum_circuit, simulator)\n",
        "qobj = assemble(compiled_circuit)\n",
        "result = execute(quantum_circuit, simulator).result()\n",
        "\n",
        "# Get the final state vector\n",
        "statevector = result.get_statevector()\n",
        "\n",
        "# Print the state vector\n",
        "print(\"\\nFinal State Vector:\")\n",
        "print(statevector)\n"
      ],
      "metadata": {
        "colab": {
          "base_uri": "https://localhost:8080/"
        },
        "id": "klgBzp1eA3Kw",
        "outputId": "e6151f15-5b01-4632-87fd-56d44308393f"
      },
      "execution_count": null,
      "outputs": [
        {
          "output_type": "stream",
          "name": "stdout",
          "text": [
            "Quantum Circuit:\n",
            "     ┌───┐          \n",
            "q_0: ┤ H ├──■───────\n",
            "     ├───┤┌─┴─┐     \n",
            "q_1: ┤ X ├┤ X ├──■──\n",
            "     ├───┤└───┘┌─┴─┐\n",
            "q_2: ┤ H ├─────┤ X ├\n",
            "     └───┘     └───┘\n",
            "\n",
            "Final State Vector:\n",
            "Statevector([0. +0.j, 0.5+0.j, 0.5+0.j, 0. +0.j, 0. +0.j, 0.5+0.j, 0.5+0.j,\n",
            "             0. +0.j],\n",
            "            dims=(2, 2, 2))\n"
          ]
        }
      ]
    },
    {
      "cell_type": "markdown",
      "source": [
        "In this above machine learning code:\n",
        "\n",
        "QuantumCircuit(3) creates a quantum circuit with three qubits.\n",
        "\n",
        "qc.h(0) applies a Hadamard gate to the first qubit, putting it in a superposition of 0 and 1.\n",
        "\n",
        "qc.x(1) applies an X gate to the second qubit, flipping its state.\n",
        "\n",
        "qc.cx(0, 1) applies a CNOT gate to entangle the first and second qubits.\n",
        "\n",
        "The circuit then applies Hadamard and CNOT gates to the third qubit."
      ],
      "metadata": {
        "id": "knBK-JPcBnNM"
      }
    },
    {
      "cell_type": "markdown",
      "source": [
        "# Unitary Operations:\n",
        "\n",
        "Quantum gates are described by unitary matrices. Unitary operations are reversible and preserve the normalization of the quantum state vector. The evolution of a quantum state through time is represented by the application of a sequence of unitary operations. Below is a machine learning code using Qiskit to apply unitary operations to a quantum circuit. In this code:\n",
        "\n",
        "qc.h(0) applies a Hadamard gate to the first qubit.\n",
        "\n",
        "qc.x(1) applies a Pauli-X gate to the second qubit.\n",
        "\n",
        "qc.cx(0, 1) applies a CNOT gate to entangle the first and second qubits.\n",
        "\n",
        "qc.ry(0.5, 2) applies a rotation gate (Ry) to the third qubit.\n",
        "\n",
        "The unitary simulator is then used to obtain the final unitary matrix representing the quantum circuit's evolution."
      ],
      "metadata": {
        "id": "jdrYfNZ894z7"
      }
    },
    {
      "cell_type": "code",
      "source": [
        "from qiskit import QuantumCircuit, Aer, transpile, assemble, execute\n",
        "\n",
        "def apply_unitary_operations():\n",
        "    # Create a quantum circuit with three qubits\n",
        "    qc = QuantumCircuit(3)\n",
        "\n",
        "    # Apply a Hadamard gate to the first qubit\n",
        "    qc.h(0)\n",
        "\n",
        "    # Apply a Pauli-X gate to the second qubit\n",
        "    qc.x(1)\n",
        "\n",
        "    # Apply a CNOT gate to entangle the first and second qubits\n",
        "    qc.cx(0, 1)\n",
        "\n",
        "    # Apply a rotation gate (Ry) to the third qubit\n",
        "    qc.ry(0.5, 2)\n",
        "\n",
        "    return qc\n",
        "\n",
        "# Create a quantum circuit with unitary operations\n",
        "quantum_circuit = apply_unitary_operations()\n",
        "\n",
        "# Draw the quantum circuit\n",
        "print(\"Quantum Circuit with Unitary Operations:\")\n",
        "print(quantum_circuit)\n",
        "\n",
        "# Simulate the quantum circuit\n",
        "simulator = Aer.get_backend('unitary_simulator')\n",
        "compiled_circuit = transpile(quantum_circuit, simulator)\n",
        "qobj = assemble(compiled_circuit)\n",
        "result = execute(quantum_circuit, simulator).result()\n",
        "\n",
        "# Get the final unitary matrix\n",
        "unitary_matrix = result.get_unitary()\n",
        "\n",
        "# Print the unitary matrix\n",
        "print(\"\\nFinal Unitary Matrix:\")\n",
        "print(unitary_matrix)\n"
      ],
      "metadata": {
        "colab": {
          "base_uri": "https://localhost:8080/"
        },
        "id": "e-TeYXzvCoEK",
        "outputId": "db4791b4-ac39-4343-cab3-202f01270d59"
      },
      "execution_count": null,
      "outputs": [
        {
          "output_type": "stream",
          "name": "stdout",
          "text": [
            "Quantum Circuit with Unitary Operations:\n",
            "        ┌───┐        \n",
            "q_0: ───┤ H ├─────■──\n",
            "        ├───┤   ┌─┴─┐\n",
            "q_1: ───┤ X ├───┤ X ├\n",
            "     ┌──┴───┴──┐└───┘\n",
            "q_2: ┤ Ry(0.5) ├─────\n",
            "     └─────────┘     \n",
            "\n",
            "Final Unitary Matrix:\n",
            "Operator([[ 0.        +0.00000000e+00j,  0.        +0.00000000e+00j,\n",
            "            0.68512454+0.00000000e+00j,  0.68512454-8.39035580e-17j,\n",
            "            0.        +0.00000000e+00j,  0.        +0.00000000e+00j,\n",
            "           -0.17494102+0.00000000e+00j, -0.17494102+2.14240957e-17j],\n",
            "          [ 0.68512454+0.00000000e+00j, -0.68512454+8.39035580e-17j,\n",
            "            0.        +0.00000000e+00j,  0.        +0.00000000e+00j,\n",
            "           -0.17494102+0.00000000e+00j,  0.17494102-2.14240957e-17j,\n",
            "            0.        +0.00000000e+00j,  0.        +0.00000000e+00j],\n",
            "          [ 0.68512454+0.00000000e+00j,  0.68512454-8.39035580e-17j,\n",
            "            0.        +0.00000000e+00j,  0.        +0.00000000e+00j,\n",
            "           -0.17494102+0.00000000e+00j, -0.17494102+2.14240957e-17j,\n",
            "            0.        +0.00000000e+00j,  0.        +0.00000000e+00j],\n",
            "          [ 0.        +0.00000000e+00j,  0.        +0.00000000e+00j,\n",
            "            0.68512454+0.00000000e+00j, -0.68512454+8.39035580e-17j,\n",
            "            0.        +0.00000000e+00j,  0.        +0.00000000e+00j,\n",
            "           -0.17494102+0.00000000e+00j,  0.17494102-2.14240957e-17j],\n",
            "          [ 0.        +0.00000000e+00j,  0.        +0.00000000e+00j,\n",
            "            0.17494102+0.00000000e+00j,  0.17494102-2.14240957e-17j,\n",
            "            0.        +0.00000000e+00j,  0.        +0.00000000e+00j,\n",
            "            0.68512454+0.00000000e+00j,  0.68512454-8.39035580e-17j],\n",
            "          [ 0.17494102+0.00000000e+00j, -0.17494102+2.14240957e-17j,\n",
            "            0.        +0.00000000e+00j,  0.        +0.00000000e+00j,\n",
            "            0.68512454+0.00000000e+00j, -0.68512454+8.39035580e-17j,\n",
            "            0.        +0.00000000e+00j,  0.        +0.00000000e+00j],\n",
            "          [ 0.17494102+0.00000000e+00j,  0.17494102-2.14240957e-17j,\n",
            "            0.        +0.00000000e+00j,  0.        +0.00000000e+00j,\n",
            "            0.68512454+0.00000000e+00j,  0.68512454-8.39035580e-17j,\n",
            "            0.        +0.00000000e+00j,  0.        +0.00000000e+00j],\n",
            "          [ 0.        +0.00000000e+00j,  0.        +0.00000000e+00j,\n",
            "            0.17494102+0.00000000e+00j, -0.17494102+2.14240957e-17j,\n",
            "            0.        +0.00000000e+00j,  0.        +0.00000000e+00j,\n",
            "            0.68512454+0.00000000e+00j, -0.68512454+8.39035580e-17j]],\n",
            "         input_dims=(2, 2, 2), output_dims=(2, 2, 2))\n"
          ]
        }
      ]
    },
    {
      "cell_type": "markdown",
      "source": [
        "# Hadamard Gate (H):\n",
        "\n",
        "The Hadamard gate is a fundamental quantum gate used to create superposition. It transforms a qubit from the classical basis states |0⟩ and |1⟩ to an equal superposition state.\n",
        "\n",
        "![image.png](data:image/png;base64,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)\n",
        "\n",
        "Below is a machine learning code using Qiskit to apply the Hadamard gate to a quantum circuit. qc.h(0) applies the Hadamard gate to the first qubit of a quantum circuit with one qubit. In this below ML code:\n",
        "\n",
        "The state vector simulation is then used to obtain the final state vector representing the quantum circuit's evolution after applying the Hadamard gate."
      ],
      "metadata": {
        "id": "PU3r8wPC9-Qj"
      }
    },
    {
      "cell_type": "code",
      "source": [
        "from qiskit import QuantumCircuit, Aer, transpile, assemble, execute\n",
        "\n",
        "def apply_hadamard_gate():\n",
        "    # Create a quantum circuit with one qubit\n",
        "    qc = QuantumCircuit(1)\n",
        "\n",
        "    # Apply the Hadamard gate to the qubit\n",
        "    qc.h(0)\n",
        "\n",
        "    return qc\n",
        "\n",
        "# Create a quantum circuit with the Hadamard gate\n",
        "quantum_circuit = apply_hadamard_gate()\n",
        "\n",
        "# Draw the quantum circuit\n",
        "print(\"Quantum Circuit with Hadamard Gate:\")\n",
        "print(quantum_circuit)\n",
        "\n",
        "# Simulate the quantum circuit\n",
        "simulator = Aer.get_backend('statevector_simulator')\n",
        "compiled_circuit = transpile(quantum_circuit, simulator)\n",
        "qobj = assemble(compiled_circuit)\n",
        "result = execute(quantum_circuit, simulator).result()\n",
        "\n",
        "# Get the final state vector\n",
        "statevector = result.get_statevector()\n",
        "\n",
        "# Print the state vector\n",
        "print(\"\\nFinal State Vector:\")\n",
        "print(statevector)\n"
      ],
      "metadata": {
        "colab": {
          "base_uri": "https://localhost:8080/"
        },
        "id": "qssRhzt2FZkG",
        "outputId": "73abc8af-2e7a-4d8d-b431-20f84bcedf22"
      },
      "execution_count": null,
      "outputs": [
        {
          "output_type": "stream",
          "name": "stdout",
          "text": [
            "Quantum Circuit with Hadamard Gate:\n",
            "   ┌───┐\n",
            "q: ┤ H ├\n",
            "   └───┘\n",
            "\n",
            "Final State Vector:\n",
            "Statevector([0.70710678+0.j, 0.70710678+0.j],\n",
            "            dims=(2,))\n"
          ]
        }
      ]
    },
    {
      "cell_type": "markdown",
      "source": [
        "# Pauli Gates (X, Y, Z):\n",
        "\n",
        "The Pauli gates are basic quantum gates that introduce phase flips and bit flips:\n",
        "![image.png](data:image/png;base64,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)\n",
        "\n",
        "Creating a machine learning model for quantum gates typically involves using a quantum neural network (QNN) or quantum circuit to perform specific tasks.Below We'll use the Qiskit library for quantum operations and PyTorch for the classical neural network.  let's create a basic quantum circuit with Pauli gates and a classical neural network to classify the resulting quantum states\n"
      ],
      "metadata": {
        "id": "GMRLxC6T-eoU"
      }
    },
    {
      "cell_type": "code",
      "source": [
        "!pip install qiskit torch"
      ],
      "metadata": {
        "id": "6vvxPLOk6eeb"
      },
      "execution_count": null,
      "outputs": []
    },
    {
      "cell_type": "code",
      "source": [
        "!pip install qiskit-aer"
      ],
      "metadata": {
        "id": "o72fCBf37U2O"
      },
      "execution_count": null,
      "outputs": []
    },
    {
      "cell_type": "code",
      "source": [
        "import torch\n",
        "import torch.nn as nn\n",
        "import torch.optim as optim\n",
        "import qiskit\n",
        "from qiskit import QuantumCircuit, Aer, transpile, assemble\n",
        "\n",
        "# Quantum Circuit with Pauli Gates\n",
        "def apply_pauli_gates():\n",
        "    qc = QuantumCircuit(1)\n",
        "\n",
        "    # Apply X gate\n",
        "    qc.x(0)\n",
        "\n",
        "    # Apply Y gate\n",
        "    qc.y(0)\n",
        "\n",
        "    # Apply Z gate\n",
        "    qc.z(0)\n",
        "\n",
        "    return qc\n",
        "\n",
        "# Classical Neural Network\n",
        "class QuantumStateClassifier(nn.Module):\n",
        "    def __init__(self):\n",
        "        super(QuantumStateClassifier, self).__init__()\n",
        "        self.fc1 = nn.Linear(2, 4)\n",
        "        self.fc2 = nn.Linear(4, 2)\n",
        "\n",
        "    def forward(self, x):\n",
        "        x = torch.relu(self.fc1(x))\n",
        "        x = self.fc2(x)\n",
        "        return x\n",
        "\n",
        "# Function to encode quantum states and get labels\n",
        "def generate_data():\n",
        "    simulator = Aer.get_backend('statevector_simulator')\n",
        "    data = []\n",
        "\n",
        "    for gate in ['X', 'Y', 'Z']:\n",
        "        qc = apply_pauli_gates()\n",
        "        compiled_circuit = transpile(qc, simulator)\n",
        "        qobj = assemble(compiled_circuit)\n",
        "        result = simulator.run(qobj).result()\n",
        "        statevector = result.get_statevector()\n",
        "\n",
        "        label = 0 if gate == 'X' else 1\n",
        "        data.append((torch.tensor(statevector.real).float(), torch.tensor(label)))\n",
        "\n",
        "    return data\n",
        "\n",
        "# Train the model\n",
        "def train_model(model, data, epochs=1000, lr=0.01):\n",
        "    criterion = nn.CrossEntropyLoss()\n",
        "    optimizer = optim.SGD(model.parameters(), lr=lr)\n",
        "\n",
        "    for epoch in range(epochs):\n",
        "        total_loss = 0.0\n",
        "\n",
        "        for input_data, label in data:\n",
        "            optimizer.zero_grad()\n",
        "            output = model(input_data.float())  # Explicitly cast input to float\n",
        "            loss = criterion(output.unsqueeze(0), label.unsqueeze(0))\n",
        "            loss.backward()\n",
        "            optimizer.step()\n",
        "\n",
        "            total_loss += loss.item()\n",
        "\n",
        "        if epoch % 100 == 0:\n",
        "            print(f\"Epoch {epoch}, Loss: {total_loss}\")\n",
        "\n",
        "# Main\n",
        "if __name__ == \"__main__\":\n",
        "    # Generate data\n",
        "    data = generate_data()\n",
        "\n",
        "    # Initialize the model\n",
        "    model = QuantumStateClassifier()\n",
        "\n",
        "    # Train the model\n",
        "    train_model(model, data)\n",
        "\n",
        "    # Test the model\n",
        "    with torch.no_grad():\n",
        "        for input_data, label in data:\n",
        "            output = model(input_data.float())\n",
        "            predicted_label = torch.argmax(output).item()\n",
        "            print(f\"True Label: {label.item()}, Predicted Label: {predicted_label}\")\n"
      ],
      "metadata": {
        "colab": {
          "base_uri": "https://localhost:8080/"
        },
        "id": "b4Z2UCqs7MLC",
        "outputId": "6b0bc446-938e-4bfe-f68d-4e643d3d63bc"
      },
      "execution_count": null,
      "outputs": [
        {
          "output_type": "stream",
          "name": "stderr",
          "text": [
            "<ipython-input-5-f6a864bc789e>:43: DeprecationWarning: Using a qobj for run() is deprecated as of qiskit-aer 0.9.0 and will be removed no sooner than 3 months from that release date. Transpiled circuits should now be passed directly using `backend.run(circuits, **run_options).\n",
            "  result = simulator.run(qobj).result()\n",
            "<ipython-input-5-f6a864bc789e>:47: DeprecationWarning: The return type of saved statevectors has been changed from a `numpy.ndarray` to a `qiskit.quantum_info.Statevector` as of qiskit-aer 0.10. Accessing numpy array attributes is deprecated and will result in an error in a future release. To continue using saved result objects as arrays you can explicitly cast them using  `np.asarray(object)`.\n",
            "  data.append((torch.tensor(statevector.real).float(), torch.tensor(label)))\n"
          ]
        },
        {
          "output_type": "stream",
          "name": "stdout",
          "text": [
            "Epoch 0, Loss: 2.2412718534469604\n",
            "Epoch 100, Loss: 1.93345046043396\n",
            "Epoch 200, Loss: 1.9171391427516937\n",
            "Epoch 300, Loss: 1.9162396788597107\n",
            "Epoch 400, Loss: 1.9162163734436035\n",
            "Epoch 500, Loss: 1.9162246882915497\n",
            "Epoch 600, Loss: 1.916227787733078\n",
            "Epoch 700, Loss: 1.9162285327911377\n",
            "Epoch 800, Loss: 1.9162288308143616\n",
            "Epoch 900, Loss: 1.9162288904190063\n",
            "True Label: 0, Predicted Label: 1\n",
            "True Label: 1, Predicted Label: 1\n",
            "True Label: 1, Predicted Label: 1\n"
          ]
        }
      ]
    },
    {
      "cell_type": "markdown",
      "source": [
        "In this above machine learning example:\n",
        "\n",
        "We create a simple quantum circuit with Pauli gates (X, Y, Z) on a single qubit.\n",
        "We use a classical neural network to classify the quantum states generated by these gates.\n",
        "\n",
        "The neural network is trained to predict the gate applied based on the resulting quantum state."
      ],
      "metadata": {
        "id": "An9_X2OP7zdE"
      }
    },
    {
      "cell_type": "markdown",
      "source": [
        "# CNOT (Controlled-NOT) Gate:\n",
        "\n",
        "The CNOT gate is a two-qubit gate that performs a NOT operation on the target qubit (flips its state) only if the control qubit is in the state |1⟩.\n",
        "\n",
        "![image.png](data:image/png;base64,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)"
      ],
      "metadata": {
        "id": "dQb9g0cV--dt"
      }
    },
    {
      "cell_type": "markdown",
      "source": [
        "To create an AI model for a CNOT (Controlled-NOT) gate, we'll use a classical neural network to predict the output state after applying the CNOT gate to a given pair of qubits. We'll use Qiskit for quantum operations and PyTorch for the classical neural network. In this below example:\n",
        "\n",
        "We create a quantum circuit with a CNOT gate and two qubits.\n",
        "We use a classical neural network to predict the output state after applying the CNOT gate to a given pair of qubits.\n",
        "\n",
        "The neural network is trained to predict the measured state of the target qubit after the CNOT gate operation."
      ],
      "metadata": {
        "id": "Aht-Gb9z-s2S"
      }
    },
    {
      "cell_type": "code",
      "source": [
        "import torch\n",
        "import torch.nn as nn\n",
        "import torch.optim as optim\n",
        "from qiskit import QuantumCircuit, Aer, transpile, assemble\n",
        "\n",
        "# Quantum Circuit with CNOT Gate\n",
        "def apply_cnot_gate(control_state, target_state):\n",
        "    qc = QuantumCircuit(2, 2)  # Added two classical bits\n",
        "\n",
        "    # Initialize qubits using reset\n",
        "    qc.reset(0)\n",
        "    qc.reset(1)\n",
        "\n",
        "    # Apply X gate to set the initial state\n",
        "    qc.x(0).c_if(control_state, 1)\n",
        "\n",
        "    # Apply CNOT gate\n",
        "    qc.cx(0, 1)\n",
        "\n",
        "    # Measure both qubits\n",
        "    qc.measure([0, 1], [0, 1])\n",
        "\n",
        "    return qc\n",
        "\n",
        "# Classical Neural Network\n",
        "class CNOTPredictor(nn.Module):\n",
        "    def __init__(self):\n",
        "        super(CNOTPredictor, self).__init__()\n",
        "        self.fc1 = nn.Linear(4, 2)\n",
        "\n",
        "    def forward(self, x):\n",
        "        x = self.fc1(x)\n",
        "        return x\n",
        "\n",
        "# Function to encode quantum states and get labels\n",
        "def generate_data():\n",
        "    simulator = Aer.get_backend('statevector_simulator')\n",
        "    data = []\n",
        "\n",
        "    for control_state in [0, 1]:\n",
        "        for target_state in [0, 1]:\n",
        "            qc = apply_cnot_gate(control_state, target_state)\n",
        "\n",
        "            compiled_circuit = transpile(qc, simulator)\n",
        "            qobj = assemble(compiled_circuit)\n",
        "            result = simulator.run(qobj).result()\n",
        "            counts = result.get_counts()\n",
        "\n",
        "            label = int(list(counts.keys())[0][::-1], 2)  # Extract the measured state\n",
        "\n",
        "            data.append((torch.tensor([1.0, 0.0, 0.0, 0.0]), torch.tensor(label)))\n",
        "\n",
        "    return data\n",
        "\n",
        "# Train the model\n",
        "def train_model(model, data, epochs=1000, lr=0.01):\n",
        "    criterion = nn.CrossEntropyLoss()\n",
        "    optimizer = optim.SGD(model.parameters(), lr=lr)\n",
        "\n",
        "    for epoch in range(epochs):\n",
        "        total_loss = 0.0\n",
        "\n",
        "        for input_data, label in data:\n",
        "            optimizer.zero_grad()\n",
        "            output = model(input_data.float())\n",
        "            loss = criterion(output.unsqueeze(0), label.unsqueeze(0))\n",
        "            loss.backward()\n",
        "            optimizer.step()\n",
        "\n",
        "            total_loss += loss.item()\n",
        "\n",
        "        if epoch % 100 == 0:\n",
        "            print(f\"Epoch {epoch}, Loss: {total_loss}\")\n",
        "\n",
        "# Main\n",
        "if __name__ == \"__main__\":\n",
        "    # Generate data\n",
        "    data = generate_data()\n",
        "\n",
        "    # Initialize the model\n",
        "    model = CNOTPredictor()\n",
        "\n",
        "    # Train the model\n",
        "    train_model(model, data)\n",
        "\n",
        "    # Test the model\n",
        "    with torch.no_grad():\n",
        "        for input_data, label in data:\n",
        "            output = model(input_data.float())\n",
        "            predicted_label = torch.argmax(output).item()\n",
        "            print(f\"True Label: {label.item()}, Predicted Label: {predicted_label}\")\n"
      ],
      "metadata": {
        "id": "cHib9X8W_LVZ",
        "colab": {
          "base_uri": "https://localhost:8080/"
        },
        "outputId": "7a7b5a35-1bd3-4dc1-e037-b1ab9b17651e"
      },
      "execution_count": null,
      "outputs": [
        {
          "output_type": "stream",
          "name": "stderr",
          "text": [
            "<ipython-input-9-843bd52dd1f3>:46: DeprecationWarning: Using a qobj for run() is deprecated as of qiskit-aer 0.9.0 and will be removed no sooner than 3 months from that release date. Transpiled circuits should now be passed directly using `backend.run(circuits, **run_options).\n",
            "  result = simulator.run(qobj).result()\n"
          ]
        },
        {
          "output_type": "stream",
          "name": "stdout",
          "text": [
            "Epoch 0, Loss: 3.510442078113556\n",
            "Epoch 100, Loss: 0.28000926971435547\n",
            "Epoch 200, Loss: 0.1353311985731125\n",
            "Epoch 300, Loss: 0.08861864730715752\n",
            "Epoch 400, Loss: 0.06574390642344952\n",
            "Epoch 500, Loss: 0.05220917612314224\n",
            "Epoch 600, Loss: 0.043275848031044006\n",
            "Epoch 700, Loss: 0.03694301936775446\n",
            "Epoch 800, Loss: 0.03222160413861275\n",
            "Epoch 900, Loss: 0.028566868044435978\n",
            "True Label: 0, Predicted Label: 0\n",
            "True Label: 0, Predicted Label: 0\n",
            "True Label: 0, Predicted Label: 0\n",
            "True Label: 0, Predicted Label: 0\n"
          ]
        }
      ]
    },
    {
      "cell_type": "markdown",
      "source": [
        "# Quantum Circuit:\n",
        "A quantum circuit is a graphical representation of a quantum algorithm or computation. It consists of qubits, quantum gates, and classical bits. Quantum gates are applied to qubits to manipulate their quantum states, and the evolution of the quantum state is described by the sequence of gates in the circuit.\n",
        "\n",
        "Quantum gates are typically arranged in quantum circuits, representing the sequence of operations to perform a quantum algorithm. The evolution of the quantum state is determined by the sequence of gates applied in the circuit.\n",
        "\n",
        "In this below AI model example:\n",
        "\n",
        "We create a quantum circuit with two qubits (QuantumCircuit(2, 2)).\n",
        "\n",
        "We apply a Hadamard gate (qc.h(0)) to create a superposition on the first qubit.\n",
        "\n",
        "We apply a CNOT gate (qc.cx(0, 1)) to entangle the two qubits.\n",
        "\n",
        "We measure both qubits and store the results in classical bits (qc.measure([0, 1], [0, 1]).\n",
        "\n",
        "The circuit is then simulated using the Qiskit Aer simulator, and the measurement results are obtained."
      ],
      "metadata": {
        "id": "-XvzJvwf_yIw"
      }
    },
    {
      "cell_type": "code",
      "source": [
        "from qiskit import QuantumCircuit, Aer, transpile, assemble\n",
        "\n",
        "# Create a quantum circuit with two qubits and two classical bits\n",
        "qc = QuantumCircuit(2, 2)\n",
        "\n",
        "# Apply Hadamard gate on the first qubit\n",
        "qc.h(0)\n",
        "\n",
        "# Apply CNOT gate between the first and second qubits\n",
        "qc.cx(0, 1)\n",
        "\n",
        "# Measure both qubits and store the result in classical bits\n",
        "qc.measure([0, 1], [0, 1])\n",
        "\n",
        "# Visualize the quantum circuit\n",
        "print(qc)\n",
        "\n",
        "# Simulate the quantum circuit\n",
        "simulator = Aer.get_backend('qasm_simulator')\n",
        "compiled_circuit = transpile(qc, simulator)\n",
        "qobj = assemble(compiled_circuit)\n",
        "result = simulator.run(qobj).result()\n",
        "\n",
        "# Get the measurement counts\n",
        "counts = result.get_counts()\n",
        "print(\"Measurement results:\", counts)\n"
      ],
      "metadata": {
        "colab": {
          "base_uri": "https://localhost:8080/"
        },
        "id": "YF5xGH9YAS5T",
        "outputId": "2e4d2c8b-31ab-49bb-8ed7-4cdaebe8afa7"
      },
      "execution_count": null,
      "outputs": [
        {
          "output_type": "stream",
          "name": "stdout",
          "text": [
            "     ┌───┐     ┌─┐   \n",
            "q_0: ┤ H ├──■──┤M├───\n",
            "     └───┘┌─┴─┐└╥┘┌─┐\n",
            "q_1: ─────┤ X ├─╫─┤M├\n",
            "          └───┘ ║ └╥┘\n",
            "c: 2/═══════════╩══╩═\n",
            "                0  1 \n",
            "Measurement results: {'00': 503, '11': 521}\n"
          ]
        },
        {
          "output_type": "stream",
          "name": "stderr",
          "text": [
            "<ipython-input-10-6ba461b160f6>:22: DeprecationWarning: Using a qobj for run() is deprecated as of qiskit-aer 0.9.0 and will be removed no sooner than 3 months from that release date. Transpiled circuits should now be passed directly using `backend.run(circuits, **run_options).\n",
            "  result = simulator.run(qobj).result()\n"
          ]
        }
      ]
    },
    {
      "cell_type": "markdown",
      "source": [
        "# Parameterized Gates:\n",
        "Parameterized gates are quantum gates that have parameters, which are angles or values that can be adjusted during the computation. These gates introduce a rotation in the quantum state space, typically represented as rotations in the Bloch sphere.\n",
        "\n",
        "Two common examples of parameterized gates are the Ry (rotation around the y-axis) and Rz (rotation around the z-axis) gates. These gates are often used in variational quantum algorithms, where the parameters are adjusted to find the optimal solution to a given problem.\n",
        "\n",
        "Some quantum gates, like the Ry and Rz gates, are parameterized. They introduce a rotation in the Bloch sphere and are used in variational quantum algorithms where the rotation angles are optimized during the computation.\n",
        "Here is an example of how parameterized gates can be used in a quantum circuit using Qiskit"
      ],
      "metadata": {
        "id": "wdv2-4i2_2X7"
      }
    },
    {
      "cell_type": "code",
      "source": [
        "from qiskit import QuantumCircuit, Aer, transpile, assemble\n",
        "from qiskit.visualization import plot_histogram\n",
        "import numpy as np\n",
        "\n",
        "# Create a quantum circuit with one qubit\n",
        "qc = QuantumCircuit(1)\n",
        "\n",
        "# Apply a parameterized Ry gate with a variable angle\n",
        "theta = np.pi / 4  # Example angle, can be any value\n",
        "qc.ry(theta, 0)\n",
        "\n",
        "# Apply a parameterized Rz gate with a variable angle\n",
        "phi = np.pi / 2  # Example angle, can be any value\n",
        "qc.rz(phi, 0)\n",
        "\n",
        "# Measure the qubit\n",
        "qc.measure_all()\n",
        "\n",
        "# Visualize the quantum circuit\n",
        "print(qc)\n",
        "\n",
        "# Simulate the quantum circuit\n",
        "simulator = Aer.get_backend('qasm_simulator')\n",
        "compiled_circuit = transpile(qc, simulator)\n",
        "qobj = assemble(compiled_circuit)\n",
        "result = simulator.run(qobj).result()\n",
        "\n",
        "# Get the measurement counts\n",
        "counts = result.get_counts()\n",
        "print(\"Measurement results:\", counts)\n",
        "\n",
        "# Plot the histogram of measurement results\n",
        "plot_histogram(counts)\n"
      ],
      "metadata": {
        "colab": {
          "base_uri": "https://localhost:8080/",
          "height": 608
        },
        "id": "XNSWx5ioOCrP",
        "outputId": "d0ded646-4c8b-46b3-af30-7934c127dc6a"
      },
      "execution_count": null,
      "outputs": [
        {
          "output_type": "stream",
          "name": "stdout",
          "text": [
            "        ┌─────────┐┌─────────┐ ░ ┌─┐\n",
            "     q: ┤ Ry(π/4) ├┤ Rz(π/2) ├─░─┤M├\n",
            "        └─────────┘└─────────┘ ░ └╥┘\n",
            "meas: 1/══════════════════════════╩═\n",
            "                                  0 \n",
            "Measurement results: {'1': 127, '0': 897}\n"
          ]
        },
        {
          "output_type": "stream",
          "name": "stderr",
          "text": [
            "<ipython-input-11-8696449e2ab3>:26: DeprecationWarning: Using a qobj for run() is deprecated as of qiskit-aer 0.9.0 and will be removed no sooner than 3 months from that release date. Transpiled circuits should now be passed directly using `backend.run(circuits, **run_options).\n",
            "  result = simulator.run(qobj).result()\n"
          ]
        },
        {
          "output_type": "execute_result",
          "data": {
            "text/plain": [
              "<Figure size 700x500 with 1 Axes>"
            ],
            "image/png": "[encoded data removed]"
          },
          "metadata": {},
          "execution_count": 11
        }
      ]
    },
    {
      "cell_type": "markdown",
      "source": [
        "In this above machine learning example:\n",
        "\n",
        "We create a quantum circuit with one qubit.\n",
        "\n",
        "We apply a parameterized Ry gate (qc.ry(theta, 0)) with a variable angle theta.\n",
        "\n",
        "We apply a parameterized Rz gate (qc.rz(phi, 0)) with a variable angle phi.\n",
        "\n",
        "We measure the qubit.\n",
        "\n",
        "The circuit is then simulated, and the measurement results are obtained."
      ],
      "metadata": {
        "id": "v9p5yaZcONDs"
      }
    },
    {
      "cell_type": "markdown",
      "source": [
        "# No-Cloning Theorem:\n",
        "The no-cloning theorem is a consequence of the linearity and reversibility of quantum mechanics. Attempts to clone a quantum state would violate either the linearity or the reversibility of the quantum evolution, which is not allowed in the quantum mechanical framework.\n",
        "\n",
        "Unlike classical bits, quantum bits cannot be cloned perfectly due to the no-cloning theorem. This property is essential for quantum information processing and quantum communication protocols.\n",
        "\n",
        "The no-cloning theorem is a fundamental concept in quantum mechanics that states it is impossible to create an identical copy of an arbitrary unknown quantum state. This is in contrast to classical information, where copying is straightforward.\n",
        "\n",
        "Formally, the no-cloning theorem can be stated as follows: Given an arbitrary unknown quantum state ∣ψ⟩, there is no unitary operation that can clone this state to produce a perfect copy ∣ψ⟩⊗∣ψ⟩.\n",
        "\n",
        "This theorem has important implications for quantum information processing and quantum communication:\n",
        "\n",
        "Quantum Security: The no-cloning theorem is the foundation for certain quantum cryptographic protocols, such as quantum key distribution (QKD). In QKD, the security of the key distribution relies on the fact that an eavesdropper cannot perfectly copy the transmitted quantum states without being detected.\n",
        "\n",
        "Quantum Computing: Quantum algorithms and quantum error correction also rely on the no-cloning theorem. In quantum computing, information is processed using quantum gates and quantum states, and the impossibility of cloning ensures the uniqueness of quantum states during computation.\n",
        "\n",
        "Quantum Teleportation: Quantum teleportation is a process that allows the transfer of an unknown quantum state from one location to another. The no-cloning theorem ensures that the original quantum state is destroyed during the teleportation process.\n",
        "\n",
        "\n",
        "\n",
        "\n",
        "\n",
        "\n"
      ],
      "metadata": {
        "id": "hHQbV1ji_8Bc"
      }
    },
    {
      "cell_type": "markdown",
      "source": [
        "# AI model of No-Cloning Theorem\n",
        "The no-cloning theorem implies that an eavesdropper (commonly referred to as Eve) cannot make an undetected perfect copy of the transmitted quantum states. If Eve attempts to intercept and measure the quantum states sent by Alice to Bob, the act of measurement disturbs the states, and any attempt to replicate them perfectly violates the no-cloning theorem."
      ],
      "metadata": {
        "id": "2gO_fdyoX7G5"
      }
    },
    {
      "cell_type": "code",
      "source": [
        "import torch\n",
        "import torch.nn as nn\n",
        "import torch.optim as optim\n",
        "\n",
        "# Define a simple neural network\n",
        "class QuantumSecurityModel(nn.Module):\n",
        "    def __init__(self):\n",
        "        super(QuantumSecurityModel, self).__init__()\n",
        "        self.fc1 = nn.Linear(2, 4)\n",
        "        self.fc2 = nn.Linear(4, 1)\n",
        "        self.sigmoid = nn.Sigmoid()\n",
        "\n",
        "    def forward(self, x):\n",
        "        x = torch.relu(self.fc1(x))\n",
        "        x = self.fc2(x)\n",
        "        x = self.sigmoid(x)\n",
        "        return x\n",
        "\n",
        "# Function to generate training data\n",
        "def generate_data(num_samples):\n",
        "    # Features: 2 random numbers representing quantum states\n",
        "    features = torch.rand((num_samples, 2))\n",
        "\n",
        "    # Labels: 0 for no eavesdropping, 1 for eavesdropping\n",
        "    labels = torch.randint(2, (num_samples, 1)).float()\n",
        "\n",
        "    return features, labels\n",
        "\n",
        "# Train the model\n",
        "def train_model(model, features, labels, epochs=100, lr=0.01):\n",
        "    criterion = nn.BCELoss()\n",
        "    optimizer = optim.SGD(model.parameters(), lr=lr)\n",
        "\n",
        "    for epoch in range(epochs):\n",
        "        optimizer.zero_grad()\n",
        "        outputs = model(features)\n",
        "        loss = criterion(outputs, labels)\n",
        "        loss.backward()\n",
        "        optimizer.step()\n",
        "\n",
        "        if epoch % 10 == 0:\n",
        "            print(f\"Epoch {epoch}, Loss: {loss.item()}\")\n",
        "\n",
        "# Main\n",
        "if __name__ == \"__main__\":\n",
        "    # Instantiate the model\n",
        "    security_model = QuantumSecurityModel()\n",
        "\n",
        "    # Generate training data\n",
        "    features, labels = generate_data(1000)\n",
        "\n",
        "    # Train the model\n",
        "    train_model(security_model, features, labels)\n",
        "\n",
        "    # Test the model with new data\n",
        "    test_features, test_labels = generate_data(10)\n",
        "    predictions = security_model(test_features)\n",
        "    print(\"Predictions:\", predictions)\n"
      ],
      "metadata": {
        "colab": {
          "base_uri": "https://localhost:8080/"
        },
        "id": "e-CUZ5mWZ0K2",
        "outputId": "d830a690-01f0-4306-96c8-bbdfa63a2817"
      },
      "execution_count": null,
      "outputs": [
        {
          "output_type": "stream",
          "name": "stdout",
          "text": [
            "Epoch 0, Loss: 0.7017480134963989\n",
            "Epoch 10, Loss: 0.7011709809303284\n",
            "Epoch 20, Loss: 0.7006325721740723\n",
            "Epoch 30, Loss: 0.7001299858093262\n",
            "Epoch 40, Loss: 0.6996609568595886\n",
            "Epoch 50, Loss: 0.6992233991622925\n",
            "Epoch 60, Loss: 0.6988145112991333\n",
            "Epoch 70, Loss: 0.6984323263168335\n",
            "Epoch 80, Loss: 0.6980741024017334\n",
            "Epoch 90, Loss: 0.697739839553833\n",
            "Predictions: tensor([[0.5706],\n",
            "        [0.5661],\n",
            "        [0.5301],\n",
            "        [0.5552],\n",
            "        [0.5472],\n",
            "        [0.5424],\n",
            "        [0.5577],\n",
            "        [0.5674],\n",
            "        [0.5470],\n",
            "        [0.5434]], grad_fn=<SigmoidBackward0>)\n"
          ]
        }
      ]
    },
    {
      "cell_type": "markdown",
      "source": [
        "In this above example:\n",
        "\n",
        "The model takes as input two random numbers representing quantum states.\n",
        "\n",
        "It predicts whether there is eavesdropping (1) or not (0).\n",
        "\n",
        "The training data is generated with random features and labels.\n",
        "\n",
        "The model is trained to classify quantum states as potentially eavesdropped or not."
      ],
      "metadata": {
        "id": "SRHy898Tb9PL"
      }
    },
    {
      "cell_type": "markdown",
      "source": [
        "# Quantum Security:\n",
        "The no-cloning theorem is the foundation for certain quantum cryptographic protocols, such as quantum key distribution (QKD). In QKD, the security of the key distribution relies on the fact that an eavesdropper cannot perfectly copy the transmitted quantum states without being detected.\n",
        "\n",
        "The no-cloning theorem plays a crucial role in the security of quantum key distribution (QKD) protocols. Quantum key distribution is a method for secure communication that uses the principles of quantum mechanics to allow two parties to produce a shared random secret key. The security of QKD relies on the fundamental properties of quantum systems, including the no-cloning theorem.\n"
      ],
      "metadata": {
        "id": "RkstzL4YaYHQ"
      }
    },
    {
      "cell_type": "markdown",
      "source": [
        "# Quantum Key Distribution (QKD):\n",
        "In a QKD protocol, two parties, traditionally named Alice and Bob, exchange quantum states (often represented by qubits) over a communication channel. These quantum states are used to establish a secret key that can be later used for secure communication.\n",
        "\n",
        "Creating an AI model for Quantum Key Distribution (QKD) involves simulating the process of QKD, including the exchange of quantum states between Alice and Bob. Since QKD is based on quantum principles, it's important to emphasize that any simulated model would not be a replacement for actual quantum hardware. This below example will use a classical simulation to illustrate the steps involved in QKD."
      ],
      "metadata": {
        "id": "Vpy0uhcfbDko"
      }
    },
    {
      "cell_type": "code",
      "source": [
        "import torch\n",
        "import torch.nn as nn\n",
        "import torch.optim as optim\n",
        "\n",
        "class QKDModel(nn.Module):\n",
        "    def __init__(self):\n",
        "        super(QKDModel, self).__init__()\n",
        "        self.fc1 = nn.Linear(2, 4)  # Represents quantum states\n",
        "        self.fc2 = nn.Linear(4, 1)  # Binary classification: 0 for no eavesdropping, 1 for eavesdropping\n",
        "        self.sigmoid = nn.Sigmoid()\n",
        "\n",
        "    def forward(self, x):\n",
        "        x = torch.relu(self.fc1(x))\n",
        "        x = self.fc2(x)\n",
        "        x = self.sigmoid(x)\n",
        "        return x\n",
        "\n",
        "def generate_qkd_data(num_samples):\n",
        "    # Features: Random quantum states (represented by qubits)\n",
        "    features = torch.rand((num_samples, 2))\n",
        "\n",
        "    # Labels: 0 for no eavesdropping, 1 for eavesdropping\n",
        "    labels = torch.randint(2, (num_samples, 1)).float()\n",
        "\n",
        "    return features, labels\n",
        "\n",
        "def train_qkd_model(model, features, labels, epochs=100, lr=0.01):\n",
        "    criterion = nn.BCELoss()\n",
        "    optimizer = optim.SGD(model.parameters(), lr=lr)\n",
        "\n",
        "    for epoch in range(epochs):\n",
        "        optimizer.zero_grad()\n",
        "        outputs = model(features)\n",
        "        loss = criterion(outputs, labels)\n",
        "        loss.backward()\n",
        "        optimizer.step()\n",
        "\n",
        "        if epoch % 10 == 0:\n",
        "            print(f\"Epoch {epoch}, Loss: {loss.item()}\")\n",
        "\n",
        "if __name__ == \"__main__\":\n",
        "    # Instantiate the QKD model\n",
        "    qkd_model = QKDModel()\n",
        "\n",
        "    # Generate QKD training data\n",
        "    qkd_features, qkd_labels = generate_qkd_data(1000)\n",
        "\n",
        "    # Train the QKD model\n",
        "    train_qkd_model(qkd_model, qkd_features, qkd_labels)\n",
        "\n",
        "    # Test the QKD model with new data\n",
        "    test_features, test_labels = generate_qkd_data(10)\n",
        "    predictions = qkd_model(test_features)\n",
        "    print(\"Predictions:\", predictions)\n"
      ],
      "metadata": {
        "colab": {
          "base_uri": "https://localhost:8080/"
        },
        "id": "PuyyOqT2bT6X",
        "outputId": "e689704b-0790-444f-e828-7a4f24bcdd60"
      },
      "execution_count": null,
      "outputs": [
        {
          "output_type": "stream",
          "name": "stdout",
          "text": [
            "Epoch 0, Loss: 0.6983039379119873\n",
            "Epoch 10, Loss: 0.6977047324180603\n",
            "Epoch 20, Loss: 0.697158694267273\n",
            "Epoch 30, Loss: 0.6966608762741089\n",
            "Epoch 40, Loss: 0.6962072253227234\n",
            "Epoch 50, Loss: 0.6957937479019165\n",
            "Epoch 60, Loss: 0.6954168081283569\n",
            "Epoch 70, Loss: 0.6950733065605164\n",
            "Epoch 80, Loss: 0.694760262966156\n",
            "Epoch 90, Loss: 0.6944750547409058\n",
            "Predictions: tensor([[0.4949],\n",
            "        [0.5133],\n",
            "        [0.4922],\n",
            "        [0.5285],\n",
            "        [0.5246],\n",
            "        [0.5243],\n",
            "        [0.5213],\n",
            "        [0.5438],\n",
            "        [0.5327],\n",
            "        [0.5156]], grad_fn=<SigmoidBackward0>)\n"
          ]
        }
      ]
    },
    {
      "cell_type": "markdown",
      "source": [
        "In this above AI model example:\n",
        "\n",
        "The QKD model is a simple neural network that takes two random numbers (representing quantum states) and predicts whether there is eavesdropping or not.\n",
        "\n",
        "The generate_qkd_data function generates random quantum states and corresponding labels for training.\n",
        "\n",
        "The model is trained to classify quantum states as potentially eavesdropped or not."
      ],
      "metadata": {
        "id": "n9K3DI1ucXHT"
      }
    },
    {
      "cell_type": "markdown",
      "source": [
        "# Detection of Eavesdropping:\n",
        "QKD protocols typically involve additional steps to detect any potential eavesdropping. For instance, Alice and Bob can perform tests or measurements to check for discrepancies in their exchanged quantum states. If the states have been disturbed by an eavesdropper, the discrepancies will be detected, and the parties can abort the key exchange process.\n",
        "\n",
        "Creating an AI model for the detection of eavesdropping in the context of Quantum Key Distribution (QKD) involves simulating the process where Alice and Bob perform tests or measurements to identify discrepancies in their exchanged quantum states. The AI model will be trained to classify whether the quantum states have been disturbed by an eavesdropper."
      ],
      "metadata": {
        "id": "kATHkLjmcsn2"
      }
    },
    {
      "cell_type": "code",
      "source": [
        "import torch\n",
        "import torch.nn as nn\n",
        "import torch.optim as optim\n",
        "\n",
        "class EavesdroppingDetectionModel(nn.Module):\n",
        "    def __init__(self):\n",
        "        super(EavesdroppingDetectionModel, self).__init__()\n",
        "        self.fc1 = nn.Linear(2, 4)  # Represents quantum states\n",
        "        self.fc2 = nn.Linear(4, 1)  # Binary classification: 0 for no eavesdropping, 1 for eavesdropping\n",
        "        self.sigmoid = nn.Sigmoid()\n",
        "\n",
        "    def forward(self, x):\n",
        "        x = torch.relu(self.fc1(x))\n",
        "        x = self.fc2(x)\n",
        "        x = self.sigmoid(x)\n",
        "        return x\n",
        "\n",
        "def generate_detection_data(num_samples, eavesdropped_prob=0.2):\n",
        "    # Features: Random quantum states (represented by qubits)\n",
        "    features = torch.rand((num_samples, 2))\n",
        "\n",
        "    # Labels: 0 for no eavesdropping, 1 for eavesdropping\n",
        "    labels = torch.zeros((num_samples, 1))\n",
        "\n",
        "    # Introduce eavesdropping in some samples\n",
        "    eavesdrop_mask = torch.rand(num_samples) < eavesdropped_prob\n",
        "    labels[eavesdrop_mask] = 1\n",
        "\n",
        "    return features, labels\n",
        "\n",
        "def train_detection_model(model, features, labels, epochs=100, lr=0.01):\n",
        "    criterion = nn.BCELoss()\n",
        "    optimizer = optim.SGD(model.parameters(), lr=lr)\n",
        "\n",
        "    for epoch in range(epochs):\n",
        "        optimizer.zero_grad()\n",
        "        outputs = model(features)\n",
        "        loss = criterion(outputs, labels)\n",
        "        loss.backward()\n",
        "        optimizer.step()\n",
        "\n",
        "        if epoch % 10 == 0:\n",
        "            print(f\"Epoch {epoch}, Loss: {loss.item()}\")\n",
        "\n",
        "if __name__ == \"__main__\":\n",
        "    # Instantiate the Eavesdropping Detection model\n",
        "    detection_model = EavesdroppingDetectionModel()\n",
        "\n",
        "    # Generate detection training data\n",
        "    detection_features, detection_labels = generate_detection_data(1000)\n",
        "\n",
        "    # Train the Eavesdropping Detection model\n",
        "    train_detection_model(detection_model, detection_features, detection_labels)\n",
        "\n",
        "    # Test the Eavesdropping Detection model with new data\n",
        "    test_features, test_labels = generate_detection_data(10)\n",
        "    predictions = detection_model(test_features)\n",
        "    print(\"Predictions:\", predictions)\n"
      ],
      "metadata": {
        "colab": {
          "base_uri": "https://localhost:8080/"
        },
        "id": "zDiDZH9fdHJr",
        "outputId": "3dbeb633-28da-4018-e678-891879767e05"
      },
      "execution_count": null,
      "outputs": [
        {
          "output_type": "stream",
          "name": "stdout",
          "text": [
            "Epoch 0, Loss: 0.6979831457138062\n",
            "Epoch 10, Loss: 0.6865179538726807\n",
            "Epoch 20, Loss: 0.6755961775779724\n",
            "Epoch 30, Loss: 0.6651979684829712\n",
            "Epoch 40, Loss: 0.6553046703338623\n",
            "Epoch 50, Loss: 0.6458977460861206\n",
            "Epoch 60, Loss: 0.6369595527648926\n",
            "Epoch 70, Loss: 0.6284728050231934\n",
            "Epoch 80, Loss: 0.6204205751419067\n",
            "Epoch 90, Loss: 0.6127868294715881\n",
            "Predictions: tensor([[0.4092],\n",
            "        [0.4230],\n",
            "        [0.4223],\n",
            "        [0.3982],\n",
            "        [0.3978],\n",
            "        [0.4245],\n",
            "        [0.3973],\n",
            "        [0.4389],\n",
            "        [0.4441],\n",
            "        [0.4122]], grad_fn=<SigmoidBackward0>)\n"
          ]
        }
      ]
    },
    {
      "cell_type": "markdown",
      "source": [
        "In this above AI model example:\n",
        "\n",
        "The Eavesdropping Detection model is a simple neural network that takes two random numbers (representing quantum states) and predicts whether there is eavesdropping or not.\n",
        "\n",
        "The generate_detection_data function generates random quantum states and introduces eavesdropping in some samples.\n",
        "\n",
        "The model is trained to classify quantum states as potentially eavesdropped or not."
      ],
      "metadata": {
        "id": "9DrRyEV2dyc-"
      }
    },
    {
      "cell_type": "markdown",
      "source": [
        "# Security Guarantees:\n",
        "The no-cloning theorem provides a fundamental security guarantee in QKD. It ensures that even if an eavesdropper intercepts the transmitted quantum states, she cannot obtain an identical copy without introducing detectable errors. As a result, any attempt at eavesdropping is likely to be detected, and the security of the quantum key can be maintained.\n",
        "\n",
        "Creating an AI model for security guarantees in Quantum Key Distribution (QKD) based on the no-cloning theorem involves simulating the detection of eavesdropping attempts by identifying detectable errors in the intercepted quantum states. The model can be trained to classify whether a quantum state has been successfully cloned or tampered with."
      ],
      "metadata": {
        "id": "4A8hFSAnelgQ"
      }
    },
    {
      "cell_type": "code",
      "source": [
        "import torch\n",
        "import torch.nn as nn\n",
        "import torch.optim as optim\n",
        "\n",
        "class SecurityGuaranteesModel(nn.Module):\n",
        "    def __init__(self):\n",
        "        super(SecurityGuaranteesModel, self).__init__()\n",
        "        self.fc1 = nn.Linear(2, 4)  # Represents quantum states\n",
        "        self.fc2 = nn.Linear(4, 1)  # Binary classification: 0 for no cloning, 1 for cloning\n",
        "        self.sigmoid = nn.Sigmoid()\n",
        "\n",
        "    def forward(self, x):\n",
        "        x = torch.relu(self.fc1(x))\n",
        "        x = self.fc2(x)\n",
        "        x = self.sigmoid(x)\n",
        "        return x\n",
        "\n",
        "def generate_security_data(num_samples, cloning_prob=0.2):\n",
        "    # Features: Random quantum states (represented by qubits)\n",
        "    features = torch.rand((num_samples, 2))\n",
        "\n",
        "    # Labels: 0 for no cloning, 1 for cloning\n",
        "    labels = torch.zeros((num_samples, 1))\n",
        "\n",
        "    # Introduce cloning in some samples\n",
        "    clone_mask = torch.rand(num_samples) < cloning_prob\n",
        "    labels[clone_mask] = 1\n",
        "\n",
        "    return features, labels\n",
        "\n",
        "def train_security_model(model, features, labels, epochs=100, lr=0.01):\n",
        "    criterion = nn.BCELoss()\n",
        "    optimizer = optim.SGD(model.parameters(), lr=lr)\n",
        "\n",
        "    for epoch in range(epochs):\n",
        "        optimizer.zero_grad()\n",
        "        outputs = model(features)\n",
        "        loss = criterion(outputs, labels)\n",
        "        loss.backward()\n",
        "        optimizer.step()\n",
        "\n",
        "        if epoch % 10 == 0:\n",
        "            print(f\"Epoch {epoch}, Loss: {loss.item()}\")\n",
        "\n",
        "if __name__ == \"__main__\":\n",
        "    # Instantiate the Security Guarantees model\n",
        "    security_model = SecurityGuaranteesModel()\n",
        "\n",
        "    # Generate security training data\n",
        "    security_features, security_labels = generate_security_data(1000)\n",
        "\n",
        "    # Train the Security Guarantees model\n",
        "    train_security_model(security_model, security_features, security_labels)\n",
        "\n",
        "    # Test the Security Guarantees model with new data\n",
        "    test_features, test_labels = generate_security_data(10)\n",
        "    predictions = security_model(test_features)\n",
        "    print(\"Predictions:\", predictions)\n"
      ],
      "metadata": {
        "colab": {
          "base_uri": "https://localhost:8080/"
        },
        "id": "MvOWnp8LfBEP",
        "outputId": "ec7cd16a-f803-4368-9f9e-b89d030c64f3"
      },
      "execution_count": null,
      "outputs": [
        {
          "output_type": "stream",
          "name": "stdout",
          "text": [
            "Epoch 0, Loss: 0.6254328489303589\n",
            "Epoch 10, Loss: 0.6175444722175598\n",
            "Epoch 20, Loss: 0.6104211211204529\n",
            "Epoch 30, Loss: 0.6039663553237915\n",
            "Epoch 40, Loss: 0.5981031060218811\n",
            "Epoch 50, Loss: 0.5927563905715942\n",
            "Epoch 60, Loss: 0.5878701210021973\n",
            "Epoch 70, Loss: 0.5833988785743713\n",
            "Epoch 80, Loss: 0.5792948007583618\n",
            "Epoch 90, Loss: 0.5755242109298706\n",
            "Predictions: tensor([[0.3692],\n",
            "        [0.3666],\n",
            "        [0.3687],\n",
            "        [0.3719],\n",
            "        [0.3516],\n",
            "        [0.3616],\n",
            "        [0.3530],\n",
            "        [0.3644],\n",
            "        [0.3562],\n",
            "        [0.3650]], grad_fn=<SigmoidBackward0>)\n"
          ]
        }
      ]
    },
    {
      "cell_type": "markdown",
      "source": [
        "In this AI model example:\n",
        "\n",
        "The Security Guarantees model is a simple neural network that takes two random numbers (representing quantum states) and predicts whether there is cloning or not.\n",
        "The generate_security_data function generates random quantum states and introduces cloning in some samples.\n",
        "The model is trained to classify quantum states as potentially cloned or not."
      ],
      "metadata": {
        "id": "pOkEBOtMfMRu"
      }
    },
    {
      "cell_type": "markdown",
      "source": [
        "#  Quantum Measurement:\n",
        "Quantum measurement is a foundational concept in quantum mechanics, reflecting the probabilistic and non-intuitive nature of quantum systems. It is through measurements that we gain information about quantum states and, in the process, observe the unique features that distinguish quantum mechanics from classical physics.Quantum measurement plays a crucial role in determining the outcome of quantum systems. It is through measurements that the probabilistic nature of quantum states becomes apparent."
      ],
      "metadata": {
        "id": "6O_hVJLphaUR"
      }
    },
    {
      "cell_type": "markdown",
      "source": [
        "# AI model for State Collapse:\n",
        "\n",
        "When a quantum system is measured, its state collapses into one of the possible eigenstates of the measured observable. The act of measurement causes the system to transition from a superposition of states to a definite state.\n",
        "\n",
        "Creating an AI model for simulating the state collapse in quantum systems involves training a model to predict the outcome of measurements. The model will learn to simulate the transition from a superposition of states to a definite state based on the measurement process."
      ],
      "metadata": {
        "id": "YXjaCOTdiWo3"
      }
    },
    {
      "cell_type": "code",
      "source": [
        "import torch\n",
        "import torch.nn as nn\n",
        "import torch.optim as optim\n",
        "\n",
        "class StateCollapseModel(nn.Module):\n",
        "    def __init__(self):\n",
        "        super(StateCollapseModel, self).__init__()\n",
        "        self.fc1 = nn.Linear(2, 2)  # Represents the quantum system in superposition\n",
        "        self.softmax = nn.Softmax(dim=1)\n",
        "\n",
        "    def forward(self, x):\n",
        "        x = self.fc1(x)\n",
        "        x = self.softmax(x)\n",
        "        return x\n",
        "\n",
        "def generate_collapse_data(num_samples):\n",
        "    # Features: Random quantum system in superposition\n",
        "    features = torch.rand((num_samples, 2))\n",
        "\n",
        "    # Labels: 0 for outcome 0, 1 for outcome 1 (after measurement)\n",
        "    labels = torch.randint(2, (num_samples, 1)).float()\n",
        "\n",
        "    return features, labels\n",
        "\n",
        "def train_collapse_model(model, features, labels, epochs=100, lr=0.01):\n",
        "    criterion = nn.CrossEntropyLoss()\n",
        "    optimizer = optim.SGD(model.parameters(), lr=lr)\n",
        "\n",
        "    for epoch in range(epochs):\n",
        "        optimizer.zero_grad()\n",
        "        outputs = model(features)\n",
        "        loss = criterion(outputs, labels.squeeze().long())\n",
        "        loss.backward()\n",
        "        optimizer.step()\n",
        "\n",
        "        if epoch % 10 == 0:\n",
        "            print(f\"Epoch {epoch}, Loss: {loss.item()}\")\n",
        "\n",
        "if __name__ == \"__main__\":\n",
        "    # Instantiate the State Collapse model\n",
        "    collapse_model = StateCollapseModel()\n",
        "\n",
        "    # Generate collapse training data\n",
        "    collapse_features, collapse_labels = generate_collapse_data(1000)\n",
        "\n",
        "    # Train the State Collapse model\n",
        "    train_collapse_model(collapse_model, collapse_features, collapse_labels)\n",
        "\n",
        "    # Test the State Collapse model with new data\n",
        "    test_features, _ = generate_collapse_data(10)\n",
        "    predictions = collapse_model(test_features)\n",
        "    _, predicted_labels = torch.max(predictions, 1)\n",
        "    print(\"Predicted Labels:\", predicted_labels)\n"
      ],
      "metadata": {
        "colab": {
          "base_uri": "https://localhost:8080/"
        },
        "id": "FIUDKA77irqJ",
        "outputId": "3e687002-7454-4d98-b1bb-353f0e8eac9a"
      },
      "execution_count": null,
      "outputs": [
        {
          "output_type": "stream",
          "name": "stdout",
          "text": [
            "Epoch 0, Loss: 0.7202964425086975\n",
            "Epoch 10, Loss: 0.7196341156959534\n",
            "Epoch 20, Loss: 0.7189786434173584\n",
            "Epoch 30, Loss: 0.718330442905426\n",
            "Epoch 40, Loss: 0.7176898717880249\n",
            "Epoch 50, Loss: 0.7170569896697998\n",
            "Epoch 60, Loss: 0.7164322733879089\n",
            "Epoch 70, Loss: 0.7158157229423523\n",
            "Epoch 80, Loss: 0.7152077555656433\n",
            "Epoch 90, Loss: 0.7146086692810059\n",
            "Predicted Labels: tensor([0, 0, 0, 0, 0, 0, 0, 0, 0, 0])\n"
          ]
        }
      ]
    },
    {
      "cell_type": "markdown",
      "source": [
        "In this above AI model example:\n",
        "\n",
        "The State Collapse model is a simple neural network that takes two random numbers (representing the quantum system in superposition) and predicts the outcome of a measurement (0 or 1).\n",
        "\n",
        "The generate_collapse_data function generates random quantum systems in superposition and corresponding measurement outcomes.\n",
        "\n",
        "The model is trained to classify the measurement outcomes based on the features representing the superposition."
      ],
      "metadata": {
        "id": "-AxPsgH-izzu"
      }
    },
    {
      "cell_type": "markdown",
      "source": [
        "# Quantum States and Probability:\n",
        "\n",
        "Quantum states are described by state vectors in a complex Hilbert space. The probability of obtaining a specific measurement outcome is given by the squared magnitude of the amplitude associated with the corresponding eigenstate.\n",
        "\n",
        "![image.png](data:image/png;base64,iVBORw0KGgoAAAANSUhEUgAAAlgAAABWCAYAAAAT8+iFAAAAAXNSR0IArs4c6QAAAARnQU1BAACxjwv8YQUAAAAJcEhZcwAADsMAAA7DAcdvqGQAAABfaVRYdFNuaXBNZXRhZGF0YQAAAAAAeyJjbGlwUG9pbnRzIjpbeyJ4IjowLCJ5IjowfSx7IngiOjYwMCwieSI6MH0seyJ4Ijo2MDAsInkiOjg2fSx7IngiOjAsInkiOjg2fV19OoI3DQAALnZJREFUeF7tnQ9QFFe+77/7LMnjqVcjMbjKdSHPK5Z7J5USKgo3/kFNDGvCLrnuapHVq0nIxlWMmpho8MkzV3QTXTVq1A3eq2vKKbfk6nU2Bol/IJoAyYLPcu5SDs/HTAwgqBgNsJZjqH7ndJ+Z6e7pmekZBgX9faoauk93n3P6nN8553d+59c9P5IYIAiCIAiCIKLGfxP/CYIgCIIgiChBChZBEARBEESUIQWLIAiCIAgiypCCRRAEQRAEEWVIwSIIgiAIgogypGARBEEQBEFEGVKwCILokbgvOVBd2wB3pwggCILoRZCCRRBEz6KzBaVrN8N2sQNw2PBK1gLsqmH7BEEQvYierWB13kHbLbFPdB+3OnqGlYDVt9st9gPBryGLxt3h1h2x0zXCrVN3pRXF7aPxeNpYpGb/Fu/OBvauPYg6cZ4gCKI30HMVLDaLLWez2LLr4tiIWy1wnTuL6sqzqLsUncHggeT6aRTml6DpXisuV09g19EWcWBM3e7VsDWKAwPczU7YmTxUVzrQRMp5l7D/YS/sYt8MbiOFrNMB6/oTaBOHhpzbi13nxD6nz0OsXdvRJBSzxDFjgZsOOK8qxwRBEL2B7lOwaouRmzMHE6e8gPFie3rmAswVYROzF2DFjrNoNRzU78C+43+jLP1VZA0XQWpuOmFbswAzlllR3cwDOnDh4ArMyF6JvV/fkC8hjGn6fAcK8otR1y4COMMzkZ95ASu22RHK2HBPYYN1hXMiMkaIYxVtjhKsY7K1bHcNmnjArXoUL5uDGa/vRTUNzEExlIlw6TyLXb+v8ZefPslIH3ISpZfEsQli0n6L48fewuSByrGr9iyQlAbLEOWYIAiiV8B/i7A7Ob91ljQu4zXpYL0I8HD5uLR6erY0YfGn0jUR5OWve6RZLx2RGsWhhobTUuGvsqVZm2uk738QYR6+OSItnT5LWnqoWQRESrt0/sBp4/R7Nc3SkYXZrD6ypQ+qRZCX76Rjy3/Nwt3i+B5w+VPpgyB1d/vMJml1yXfiyEfjZ+9JszLmSx981S5CfDQeXCFNmL5COtIgAiLmW6nswHnpe3F0/xBYJs5v/kg6L/ZDwtrs6kB1V39Qenvft+LAgOqPDORR0FYpbfjZCtZ/3EO5JAiCiIBuXiJsgdPO5rQxY5GcJII8DLUgZSTgtlvx51oRJnMDpXttSPzlRAwTIV46Hdi7bDNs/XPwu7yxGNBHhHsYkYU1S5JRsW0ltnbJKbYBNQcuoFUc3T/E49m832LxK6vw4hMiyMsgZGSNRfGOEsUC1OO4g+ozwPOTBoljQe1eLFtfhQHz38XiJ/uJQB/DZr6N/McdWLesCPauWGhuOlF2pqFnW/giIphMmMdV44TliXhxpCNpPFKrT6Au3CXozhbY1p5E4qZVmJnUVwQSBEH0DrpXwbpZh5qL7P9TFiQrISruwH2T/++P/rFygEJzJUqrU/Bsmm4gZbQdt2LXVSD9uQlI1CtXggGTMjGTKWnWHScjVxScdnwp5+3+IyZ5GnJyxiLOoPxiUtKQ5SxBhVME9CSuf45SpOFxtawIZdzFpOv5pxNEmB6mOM6YAFwtwdajDSIsfNznqlEm9u83gsmEOTrg+r8JSDZYulVIwPTMRhxT+1mFovMGKv5QgkfeyMfM5H5oO3cWdfefdksQxH1M9ypYFy/Ig1L646MRo4T4uHQWpdxZOSkT6SrrVpv9LCpGWjBK+F/4aEHZJ9zlth8eTw4wU+bEJmHUGPbfeRCfeSxjtzrQdrMBdZVn4fI4zbt5WAeaas+i+qLKb+umHXvXF8OOdvm8vBl07G0X7Si1FqH42FnYnQbWMncLS+8Eiq0nYFfHz+FvR7J4W1kc1edaZKuI+7rinK25Vo6D5S/Yt4CaHag4bJXzUSf7owXBqBzUxI6GxdKC8prgjub3gqbjJ5H03HitHMnKOPs/MBmjhypBRsQkj0Y6+28/cML7Jpqb1yv/zlKl0+uA7W4PUD6XTmDjjjNwM5lpFTLhVx+sTptqz8C22wrbqQB1cZdkoo1NEEqtPB92uEJNFELJhB45fV28t1ieY9gkiitonUzZOuf0860ckDYR7Z9VmbQAdsD+h4Noe+4XsMQoZVJacoFVpDhNEATRC+hWBauu+jTrUOORbtFZo7jp//dW2GMtWPNulmYp0PXXGmBMkv/yIK7AJStMCRg8WA4IQDyGyTPpDpwXA1PTqS1YNu9NzM1fC5uwzrTVHkThgtcwe9FaLPrkWyWQKVfF+6rglN8rd6J0nxX72VZaq1Kg2p0ofms2cvc5MeypHEwfeh6FL7+MZTafUtL6+Q7kvvofcA6xYPqM0UD5e5jxlg0uzxJV+wX8x7t5mP1qARbtPoljOwph/fo73GZKZGn+S5i9hQ3QxzejYLcd33PrwL6VmDZnL+yat+JY+J8KMGP1acSk/BwZI1pQ/PpsrFDlQ0/TFx+xvGrLQcsgDGPKbnV9kNf07gkNqKhIZnIkDj00snD+f3g84uSAAAyJRyL/730TrQFl769k5b8Si/JPwMWDWHk69r+PhTo5gfMMdh2pwzUuEldrYBMyUaF22r5aha1z5qDgJPD4cz9H6q0SzM15CbvO+d6quysywa0+7y/Awj0NSJrC8hFbhcKc4N+QCi0TKhpLULD6JK5dP4PVs95HuUfJcl5A20+TZP2n9ehazF72BgqP6hTIgePxDE6jwoRluO3Uh1hYzNKa9xKezp6DGaxMNjY/HLyOCYIgehrCF6sb8DjP5kmrt34k7fRum6Slv/i1tHDjcclxQ1zqRblnjpFD7OVPpaUZPL4V0pHLIiwA5zcrTrsaZ/eGI9JCP0fe89IHPM7NWlde5X4jB9926S/v/Voa94s9ksPjYH9hvzSLxTHr34UXP3fQZ8+sdepvl77811nShLdPa5yk//IeT+fX0h5VQo0Hl8l5f0VdBvUHpTm6vN+u/kjK5ul8IwIY35eslsZNf08q8ytXFYbl4OPaoRXSuIUGLx7ocB5YIc359Wvmt4VHJKe4NyCBnNzP75GWHvCXCTmvvP5C5lfUs052lLLW1TMrV3+HbyHLRun8IM4tP+6t2+9PvidNyJglFZ4UTvd3SSbk8pi+SfrL30QAw/Ehk9df7Q9e9gFkQuvk/p1U9r82SV+2sd2vPmT58cmec99q37O1sbL+la7tCQK9pBDUyZ0gCKKX0n0WLO5/xS1OqZn4zdwcvOjdXsXvij/G9jemGSwDKjzS38Ch1WOFCEkHWo2WZ/r07foKQ/NpWI91YNizaRjl8VdJzsE+259wYD5f5+xA+T4bXAPH4nGNU38/JLMZvvtrK0pVVoKHeIYGTtVYZh7qwwOT8PwUlU9RbD88InYVOlBxsARNPB2V38sASwpS3VU4z/3eAmGmHPgymNgNROKs9dj38U7z2/Ysk/XnT92ZRkye5O9jFTf878VeCG7eMHxhQSnrLnLOho1Mzqc/nYYBImjAlLdwwvYx3pnCne7vlkw48Od9DuCJVCSr/NRGpaYBV+04H2z52IxMuOvR9A8/Q3p/wF5xmmVnGtKFpVjjf9XfgqznEpA4wn8ZPybtZ0gqOd1DX6IgCIKILt2nYAn/q9Qnx2LYwH4YoNpiInGm7TMcidy3ig0krqArWN/hmnw+BqOSgvhqRYJYkkp8VLvkGeNVCOtxgTvyBlyyakGFXbd0YngtG+6CllE9zn/N/ztg21aEXZ7tUAv+MTsTjwddQjXB1e9CKlh3jxtwXnoUSUbfQBqRJPtWobYh+KB9vQWyDhPzGJKC+GpFQuuletmvKG6w9g3Guy4TzUwm+PIbmwTsV8vEV30xLzsNSZqXAyIgZixy5iQDt6pQeswNyzOsXfNwtf+V4NrleDw+Uhyo6ROPH8eyujLniEUQBNGr6TYFS/G/6ofUMdFScuKROkGZwXMH34A021HBFayBz2KK3mcnIm7AJZyOQxOD/84HsiAWIK5sdp0Y/B23/vVPwcy8XLym2yZrLCURMDLBwAdOh3hJwPwW6Zf2ByF98hWUVhrcP9QiXpA4C0cQ/6HWczWyc/uwrImIikjcavF3Ug/IXZKJ2P6KBW3kVLzkJxNZsASwFodNrR02dzymPymsaSr/K5nrZ/AZpiLdKL3r1agYOgGpIc1lBEEQvZ9uUrBacIE71sZMRIr/9xmCMBiPDGUKVMMVcaxlWFYu5g1hytuhEp3Dtw/X8RJUsO5+5pJf+pbxAtFpZtD/FrbdZ5XBcYwFM9ngUPFXp07h6kCTgythj+Efn2QXNF7BNd1bVG3tfEC2wGKJxvd8kpH+NBuUG7/1/zmYRjvqzLwNFgA5nyYsjO7mejhqHWFsDRFbxQZMmgqUG3wlHAnIystEIpM365EAX6HvbEDZJw4mixPw5lwTwmhGJm6exR7xYkRcSpqstPkp/Z03UCcrYXdJJgYyZTOV/Xf4W/PcDjtcUfrZIMViZ0GiWBJsqr3i+/4Vf3nldyeQMlf3tqdAfhN0alRUXIIgiB5P9yhY1+2o4H5AT4wO+L0qY/rikSH94G68YTwYx1rw2qZcpN8qQeGWKr9Xwd01RVixh3X4s9Zg8SSdVUDM8F0sbg/umiqUyzvaQXVAHB8w2pUfmuY/hDz8YcU6EDseOb9JRswpK4rZmO3FWYKt5TfYoNIXqfP/Bekxp1H+herNLTbIV5e3IHFWDqarlu9uc42ApX1bOQxJ63VfnKNmv4rpMWew54DadNOBin0ncK0LFoJrl1swbMxjId/YihlhQSr/MV7TW5LXRylsYlMwuc9Jw9+ljHkiF5vyknHNthlbP/fVrUIH7NtWY2NjEl7b8KrsP6Qmpj8PqEeT96d0Olg9VSq7GtlSFH+vFYrJxIAfP8z3gBFTsThrEOr2H9S8Ief+Yg+K5aq5WzIxCNPnZSGxsRjFp7Tp2PZzBVMcd5E4NslIRCWq5R8p7EDd+YcV/yumXFX8fguaZr2F6YbLsA2oqGH1SPoVQRAPCD/inu5iv+s4irFo7adwqBSkAYPjMf036/Hm0/4fDjWEKUkT1/bF7sPzMEoE+XH1LPau3Yz9V0dj/txMjBrYgaaK/8S2U8CLq97CvDSjZck7qPt4BRZ+0h/PP5WAGPd3aP+HaUj8bK3spBwzMAXvfpSPydzXp92OXa8WovzHE5Hetx2JeW+pfhOxA67DH2L1bjseSZuIUbHfwdWZhsVvTMAwjzLZzPK3Zjuqh6fhHwfeweWaC3jo50vxZrZYSrl6AusW7IbtumJziRkYj9feXQK8/x72eMoudhBGZb+N5diCwsMtwgIRg8RJr+DDgmmKAsTLYfX72I9x+Ocx/dHuasCweW8hx2K85GTfvcAXV0w/jJq5CvteUVt1GlA85000LTmAxSki6G7SzBTVyrFYnG1Qf/a9KLiYiTVG5xitX+9F4fpjuJachRd/Phpxt9iAf/CP+DOexfqCeUg1GvRvOWBdVgDb/5iIyYl94b56B8mZCSjN3ytbQePSXsG+QlHWjSVY8eof0frkVCSx8nt+VS4sHoWt8waq//CvWHn0DtKnWPDjWw1w/SQH785hyri45G7JhNtRgo1r/ogLI5jsMpm97LqNjGVLMdnoNz0ZwWTCvqUIWMKeUz7yIZf1+6fZBOp/oq2mHclTHsU118OYuTxAOXNY/S2rnYZNs/xfVuBtfity743MEQRBdBPRVbCiwa0qbMz+IxJ37sTMUL5EbCCrO3cF37Pdh4Y8huSkQaEd6PkHHdvdeKi/4mzPPy55u08/DDBwAuYfo4S4zg8RDx+UjO6V4R9xZJd40uo2opXOJRtyX/1/+M3hpUjtqlN0JARTsOSfSXLgmQ+0303T477kwPlGbsHpi0eSRyNxsInlN7n8YjBgILtWJx8agp3jeGQilslEIIvRXZIJWa47xTNFSCAFy4P76yKsdk5DflZS4DYgsG8pRNPcfI21zgspWARB3Id031uEkRI7HjNf7AtriXoNLgCxCRgllqAsI00oV5w+fTVvMsawgS7Q4BAT7I1HEU/QgYUPtMHiiBZRSsf1+QngxV/eG+UqFH2S8Ux6pe/r/AGIGZEsliQt5pQrjlx+4lqdfGgIdo7jkYlgy3F3SSZkue6CcmWGJkcDUp8MrVzJbx5en4j0rr7dShAE0YvoeQoWI3FmLp75ohjlXXDWJsKkvQrFJRYszjZYwukhDJs0Ec5yE4o3cRfQff8qCG1fnAaeGR+5Dx5BEEQvpEcqWLIz+4axOPa7EjTpHNmJ7qADFdus6P9Gjs+vqCcyNA3plz5Ftex7RNxbGtA0JEXz/StjbqDi5MOYnta91jSCIIieRs9UsDjDM/Huy3dQfDjIN6+IqNB0zArXc+vxWko0vtHVBWIfRuLgYBreIGT8PD7Eh2aJaDHgJwlBrE7JyMkb63PiD0T7BTh/OhGWYIpY/wQk9mTFniAIIgJ6npM7QRAEQRBEL6fnWrAIgiAIgiB6KaRgEQRBEARBRBlSsAiCIAiCIKIMKVgEQRAEQRBRhhQsgiAIgiCIKEMKFkEQBEEQRJQhBYsgCIIgCCLKPLgKVucduN1ivwtEIw6CIO4CUWrzhAl4WdOvcBAPOA+ugnX1BHYdbREHJnAbdRg3ULZ+L+qoIyGIno+ZNu/uQFPtWVRXnoX94g1SEiKldj82Hr8hDgjiwYSWCE1SvWU7qv1mv4OQPq4Rtso74pggiF5JZwuqd7yBGfO2wObokIOaznyIV2YuxsbDTpDhKzBuezEK8negQv0TVmPSMKzkNJrEIUE8iJCCZQoH/uv6aCTHikMVAyZNBcprqAMmiN5KuwN7F7yOZY5JKPo4H69lT0Bq2lhMn5+PfXvnIebAG5i7xd7lNt52zoZypzi4j3CctKK08gSKv1ZZB/skY3JqDSruw+clCLNEWcFqgW3RCxi/qAStIkSLHVunvIBlh8NYmusJOO248FML4sShhtgUTO5zEmXXxXFARNmwjjoSWg+v9C/XmiKMn7IStmZxHA0iiFPO25QiVruC5hIs08cRdry9S1YM66fHoJTl1hpxaJpI77s32LcE63sCcQPlawuw69I4/K4wC8P0P0o9cCwWr8qC21aIFV2UxctfHcT5kP1E78Py4iq8mfNbLH46XoQoJE5KQUWJQxwRgZDlNsJxQcaov71X/Wd3jEnRwrCcQtOVvp0sWCZou1iPYWMSxJGevkh9bjgqPg8lyPHI2n4IVUss4riHkpKLqlPrkTVUHJsgLns9uycXQZ8sgngJotux/ye2fu1GzLPTkN5fhOmxTEPOcDcq/mBF9S0RFi6dDTj/tbL0eN8xZCxmvjINifryGzER0y+dhp382B4cqJ/XQAqWms47soOr3anuCO/A/hVTosYoR21OO+quKvteLGlIKv+K/A0IopdhP3lMbrcZP31MCTAkAckp7J/7DP78hegb3B1ou9kC1znWXzQKH0zWf7Td7EDrRTuqz7X4lhQ7O2DfvRlbnew2dp5f09Zu4Ld53Qn7sWLssp5g9zegTa+YiP6p1FqM0nNOv/Ny3JccqK5k53jArQbUVZ5FdS3Li+fazhtynqvZ/a2B1jw7W1B3qgRWng92b1CMysHLIKRP/Q6l5KNKPKD0CAVLNpFO8W2aJQmPybGGm/f4ed9SlLI05buvS+ZQ1qmU5r+Pz5qvo2z1y1h3yqNk1aOuXfhfXS1BwcsFmLtWby5MxjPplfisVhwaYrBEKD+bL//GZmLlvhnbHEBtEWbw6/TmykZP2Sib/5KOYi72paVaztPjKW9hRvUu/2nyqjWzqpcI5f2cIlTAgXU5qmt18cqYev7AaOXGJyPe55fj1z+rwbJX0Hz46k2TnrcOgtSPmfQ95eKVb76JcpJN2p4wo3pVEegZ5PACWNmudbk+HvFs3vtU9RP0vhBtNgRB261heRjEryubcGVHoQXOi4qWETe4n/w/EHEJSfL/sgv18v+22oMofPl1zF62Fnu+Fut+lz7HxhV5mP1qARbtPqsoOWDKVbEVX166Iytc3F9p/z62Hb0gznM64PpTAZ5ecBCOIePx4ox4/Nf6xZixTNXOr1Zh68tvoPjSw0idkQlLZyUKZhagWDjkAw0oe38lS3slFuWXoMy2GRttTnzP4v6vP7yOaSyuunNWFKw/jaZbrA7KN2NGdgFK1e2R4XbYsGLm+zgVa8HzU/4eTQdW4um3StAUwArVVluCjcvexFx1OagY8NRE4LMq1bMa4FfnvjYTiayEar/qOILLcZD2IQiaP9HWlx22a+Px5k85n2tju7YC3bnQaXMC9rdergRI20e4bTno9Z46UefBrx/z1YkaU/GG6BcCxRG8nAKNj0o+A4+9ge5TIUWVZunIwmxp3MJPpWsiRMt56YOMbGnpoWZxbHD95U+lpeyaD6rFcfVH0jh2PC7jI3a3j/Ob9WH6uEPA0vlAde33n70nbShvl6QfauR4XjnwrXKi/qD09j6xL7WzdOcbP983R6SlH14QB0aIZ90scqx/TpF/73kd1w6t8E/XUzaqcPm6jBXSkcsiQKSjLhflGm15epHj9N2vXKvNl77s/eKT01TlgaOL1+/Yr/6C12eg+ud51cqO/jmV67TXBMuHqDf1PZ60VGUSuH7MpM/iUt2rPBvfgpSxmpCypEtTRiePDP80gtynfla/9ANjLCvBy0O5R1VHAWValy897D51m/eWkzr9AHjjV7dP0VdoZdSgfDjiuYzSuf3Vh1J2xq+lPd6o66X9v2Jx/Gq/5OSHP1yQ9rDjV7z9kMLt8k3ShOlrpbJWEcBoPLhMTuftku9ECIPFz8Mm/GuldFsESX+rlDbo8/43Vh6/UPV9nNbj0tsZs6TCk6xvDIRhOXhwS39Zt1Y6psqjH54618l3yD7e8D5Rp9568rXfkPWkk0U5/SByGDJ/nryEkF05HrVcMUKlrUGOU3/OTNrhtmUT18t1okpT1JHf8/K86esoZLzaa/Rlohyr6kPc440jSDn55U+fjjpvHL+yNEif0T0WLI+257cpM2IvNTasq81E0fZMnwP50EzMz2Kz5j1aK03OBpWPD9OI99iS8Y5V7fdjwYt5yajYZvPXIkNyB45vHkPWU2wWe64GxUjA9DTF50rrf9UPlp//DJaRCf4O77K/wafmfTQaG5g2nYzE4eKY5X8xe5532F54+WflsMpXfnHZOchhWnp5pTKTsh9gWnvWGmzK9jmgKtewMjRt8WN1pPIds8zORTq7vyzETCcYdozHUesS1Vr9o0gcA1R8c0UcB0Guf51M8PLbkCn2zWM6H6wMF/NlIhlF1mCrikDWjNDWoVK+2ueLS5sYuMwjkaXmK0hatRNHZ/tKMG4EXyarh9NgpuwljDbrTwuaRixh5Z3lq7ehCUhk/1yX1LJoQqbH5CJfI9NL8I5YxjcPq+uRYjcErVcaxJ6KPn3FTldowbF9J9A0cCrSvYWShJyPP8Zpa45cNm2nirHraj/8U4rWDzQmeTRS3TX496O+vD3UJ4b9TcGzaYOUAI7I58xnxoOflYnt59sXtH1hg/UmS8eiSmewBekj3bCdVyx3hgQtB8VHtfS4QfnpiLSPN+wHbFatFUUnL6HlmFs3WZiqr+e+pkV5rI00MjkMI3/pear+RaRRcfJskLYSIu0wCJp2uG057LbfAhsL532nevyxLFnD2rMK0/EG7xeavnGwek7AMPmIkZKLo3m5bCdIL8360wzrTo1sDPsJ69trG4K6/JgdV7tHwWLCfPTUIVT5bdqCbb3EG20JcnWKmGwy1aAePBjygOIx9fk22ZQXEawTeGUmRvW5g+rPTsKdNA3pI3i41v9K5uoVDDP01xiEpBE30GT2LaGU8bJweJ+Bmx6ZUGUxRcbXYLuKaKge87N30ym69wBLigVxQ5lwyqZfnqcFrJGJk6HwUygEwxNkxSQcupSPnkIksjSUnWPPHTdUtRSxnHWGITDfZo2IZ+XN04xXLa2EK4v+g49CPJJMKks+2D1jFDVDq+DpuYNrV5WluPTH/l7+Hz2uwMXlbTgrFyVAIYYpQOKNRtcFPkAkYPBg5VhPXbVdN7g9iriBYleN/g1JHa6/Ktr7+U+KsGubZ7OhyZKJeT99WD4XEaxdDmATluCfuYi0jw/UDzjgUn+XSycvoeU4Hv80lU+ifH0nX26yZOcii8lw9McgNSHSjhLhtuXw274i2+k/eVQce1AmsR661qf4sExgirXKuMOXa+OyM9nEOMiIys7J/SBTwjzLfaHr0Py4eu99sAIpY2pt1hCm8RrdF+pttmB0XkDF526MmjxWaMEq/yuZGyj/BHieW7r0dDpQcWk8/knf2APCZloiz0e5NSSQf1UUSM/bqSsjZVNr33cb7wC7J0HU/84ILBBdp6fko2tEIkueDmUBXPOFTJi1AEbcZlmqwkdixjc54j7dbPYuk5w6TrbkVPw1yMdEWb9Q/QXfsWD6UyrLUBdou2iXfaHM8FAMtxDdgDvQ9UMexgCx2xUeiuX9Wn+k/zIXr7GZv2Z7OtBb1KFp+/orxE0d62cxC0039PFqQsix8nY0D1Nk1N8XsfvyFzrtKBFuW+5C2w9KNOKV32Dk9yl9eMW2BXKZaf3idHj9w6xItCppyn2oCcyMq/dUwZKXJGpP48tgSxJGyDOUri1RGXK1AS7Wy6Ymi86k0YEm1fevmg5vxrHUf0aqwQdH3ZWfwjk5zbwwsIq1ifx7GxMf4EKYJsNDmdUHN0ffC1rw5UmHIqCRNEyjGSpHnlXq0S15NbM6FrtdzocpgqUfJSKRpZoqNttSBgjf0mdoIm6zMnaUsVlpzgaWv4g/VyIsVRcbdDItZpVhEvNUDvItbOg/dQTHAjyT+4sTKGb9gmV+LqYHsCJpCKip+XB9YkX1Tb43GulPs/RrL8ChU6Dcl5yyEpb4U66ctKBJ//byrQ5cY/8mp46OQHnxZ1T6VDaxbIHrku6tv84W2O2R/uxNA0pLhuPZJ8ShWUz38YH6AQPLlgozcmw/7JmgeCYwysAtWzu7awwSBE07SoTblsNv+xZk8CVJP7cPYbUVdK1P8dHKykxZDBSfRGLlVmSYvo/WytOyu8HRsD4tYX5cvbcWrJQsJjTczKr2vhcz62Czb8/67HL1mwCepQ4lLmWmrH+jIgRDRyN1CFD+lZKbNtbp9Rf+V62ndmBjw0y8m2Vk9bmD6nJg+iSzs1uW17VFWMdmJeoZif1MCdPk2U6gPEegfMn+PNyioX5jQyyHBdXsu4xBx+dFaWAawZfX4cV+KLz1r5Mb/RKXUMQ8a/SecvcpYV3Mhx59/YRMPxqYlyV156yY5dXKH4uH+0sYoOnUQ7ZZFo+qHWoQyqUmH4etYS9Xe2S6UCW/rYe3RFhv8ZhemI+cIQ5sXF8MV7sI9tBYghXrz2DYU0uxJkdvxYnB3w0EqhtU8tP4Fcq5oue+g9tKiMLghzGK/XPLn2e4g7Zbj2KYvIzXF6lz/wXpMWew54Dqs+edDbBt/xztTHPyKIHFn1VpdDfXF6dRNyQLLz3t63dud/IrWNomvz3luqJSnCy/wOInWTr7DsKlut/9hRWl1yP0N3NWoTp1GkaFWJ70w0Qf78GwH8jKCT5ghpJj1kfmbmP9pnocaj6Lco+MhZE/U6gnDKHSNiRYfxuAcMffCMZrednOVqAZa+xbdEtpkeoBatgks5CVWa6m7JUJHXcb8cWhLSfZb0vTb9ux32iJUNe3mx1X7/ESoaJpFmWp118L4DJhUbAs4aY8sErx3LcA60auYVprV8yzScjZvgpZFzdj9uubsXG/Ha6TRdj4RgH+HPvP2JRnMZ4pXv8cpX3SDC1bxggNe0Mma6Ce/L+A3ItMk97O8m/QMXgc6JRyCqMBs45gEzczq9eLl9fjHWs3LhF6Ox8lPX+zNp+V6fLEl+hk51RtYwwEr3+t3FQhw8qEXpyX4c/O4vSYisdP2QKsUi9JdT0fHgzrJ2T60cCMLHmcb30mc27p0rcf13w+S1Z3dP73daXNyuXB6gje8lCWCrlJnqdhevnDIJ5CLJFnqxHRn8nBv/0ebw45jdxZb2Dr4TPyjz2X7inE3FdteOQ3v0dRwQT/r7wjGc/njUfisb1YJ/srbca6TxKQ9Sw7dXEvXpjxEqyehpqUieWsvdl2rMXW37+P8tE5vv5ieCZ+90Euko6vxAzW7+zatgPrVrJ0X58nFBOmBG76AJsGH8TcBfx8EbauWIzC+kwc+DfPNQ5Yc+Zg9g6upJ3AoqyXsO4YU+7XLMCMfEVxtubPwdw1J2A/9j7mZhfKg1zTnwowI8cq6nsQJhfuwvaUGuRmvYGN/JnWFmB1/c+weJLxZyxaVXFVbHsds1n86gGxrqQGqZMiW14018dzR/PxKBNyIPvBZLFrQlpIQ8ixvNzE2gPEcjvfWLtI3ODrN6M1BnkHax4HVyhMpK0hZH8biHDbcgRtnz+Lrq2WTVCscT660Kd44H2CbLHyj2MTkwU5DoNy8h9H+FIh76NZmFDuAvbtZsZV8TbhfQh/9VP/SqaKy/pXtnXcrpF2Lj8iOW+4RUBgrh1aq3rFmrhn6F/tJe4R/NVn7evKPYJQbZ5z+zvJ+X9qpL9UsO2v30q3fxDhwfjBLX1/o1363vMNhL+x/bYA/QY/9zexb8DtNnY+WJ+jT6u7iEY6PzA5ePu49L04jDr6TwIQPQ/DNqd8lkH9iYP7lXvv5N4tcFPtApRPVb9+HyaN9XBZxiJxYCjTeAPKyoerXrEmiAcZbtovADZ0xZJ8D4kZhMQnxso/9pw6JsH7Jl9Q+vTFgIH9MMBj3o5l+/0D9Bv8XBBLd0x/dj5Yn6NPq7uIQjruyhNon5oWFQd8ojfCxuG1RbBu26Jx1VGW8zMxv7tWUHoQ96mCpZgcu7IEFvz3B1XUnkBF+jTZv4IgCMUpNxzHeeJ+pAMVnwHPGL1xTTwgKOOwdhmVfwbhMRRF603QHs6PuBlL7D9YNJdga+VYLA6ghNl3F+H2i7kh/arqdhTiwgv5kVvKCIK4O4Ro80QUuX4CBfvisSbit0UJovdzn1qwTBD7MBIHB/r5fDYPfyW0cgU4cd49ERmkXBFEzydEmyeiR1utE8nPkHJFPNg8uBYsgiAIgiCIbuLBtWARBEEQBEF0E6RgEQRBEARBRBlSsAiCIAiCIKIMKVgEQRAEQRBRhhQsgiAIgiCIKEMKFkEQBEEQRJQhBYsgCIIgCCLKkIJFEARBEAQRZUjBIgiCIAiCiDKkYBEEQRAEQUQZUrAIgiAIgiCiDClYPYWaIoyfshK2ZuWw9fBKdlwEu3LYbcjpLCpBqziOFPuWFzB+iza3d+sZiO4nWnJihruZFkEQRHdBClYPJS57PapO5YJ+j54gCIIgeh+kYBEEQRAEQUSZH0kMsR81uIl/xjaHOGJkrUHVEpUtprkEy3KKUCEOMSYXR7dnIk4cKvc/hqINQO7yEu95BAjn9/Elqlybcj8nZ8MhLE4RB4xg5/3SE6Tn7cSm7HhxpBA8HTu2TimAK28NJp8swLpaEax/frTAtmiB7zwyRdr1eMe6HllDVXkSVizjPCZ7r/eiK9ucDTuRuIelNTJUHhiaelCexSrvc1geDS1q+usY4nkjzbNeHtQYxynyxpdZu5SOvkz84wgpRycnauOU0zyNyfp69eTfrAzLz8bkY8NElC/3PIPIH/R1rpX94M8tnpnJRxEKfOl7rwklJ1rMtA/o8iffAy4zjwZPS/8cfjIZQma7Uoam2wNBEISAK1jR5PzmbGlcxkfSeXHMQqQPMljYZhFS/RE7ny19UK0ccvT3XDu0Qr5m3MJPpWsijGMc3iwdWagLu/yptFSVhnKfKk+6PBjGK+JYeqhZBAROx3eNeNaMFdKRyyIojHjU9+nz7M2jpxwZfmUtnsuXluca7X1q5Hg15cnwy7MnfdVz6ZDT0aURTp795EGfJ4F/nKI8eZjqHr84QqYj4lHlVUlLXwch5MiwLPX1qsubCRn2pKW+RilLvpnPI8fwuTXX6Nosw/DZNAR+Bn37UOeFI+cnVFqBnsPzrGZkNtIyDBi36hqCIAgd0V0iZDPMPWz2mrNBPbOzYPEGNjuewOeAbDa8h83as9ZoZoeWJWuQw2aQew63iBAOm1muMpol68JrbGzGy2aT6hn10EzMzwKsLC3uKNv0jYPNhBMwTDkLpLBZcV4u21G7X+viZXHk5yWjYptNuUpOJ8Q1gvS8JT6rh8hLxcmzitNukHhCw55TZYWyzM5FOiu3shp+5CtbtdVNKdvwsB9gM/kxuchXxROXvQTvjHFg3YFwXdZD55lbCjXywK+pLcJ++Roj1HHGI2t+JvuvLVPLBBZWexpfyi8NmEin+QqSVu3E0dm+vMaNeIz9rYdTvHhgTo7MEL4MK+ieUS5LbXuLS5sYWflq2qQFL3J5tFWZf7Iw2kf4BO43ijaMZ2mHI7PhlqGIW9eu4rJzDPosgiAIH9FVsBobUME6sMTh4thDigUWvuEKXLVMAfnJo+KEh0eROIYpId9cEcecx5CkXt7xog1vvVTP/pYgd8oLGK/a1MsUymBbhBni3DLWKcZlZ7LO2jeYGqWnHmCVdIJfY4bg8XSF4GVrnhY4L7J/IxN8A6VMPJJGsn8XG6L4dpeS54ptCzR1N16zDBQNTKQzlMnn0HjEDWWD+SJx3rvcqGBOjswQvgxHxt0q3+i1D2MCybboV1K6U2ZF3LYCbRnql8UJgiB09Cwn90g7Qu6nceoQqvSbxyKQkivCdrIZrW/A4QNkdHDA1Sh273dqG9AkdqMF93fxqzu2qa0V0SB4OtzHhg+cC+CaL85t4JYxFd0pR6FkuAvcrfINzD1uH1GQWW4FNCpDvY8mQRCEh+gqWMMTkG7UmTa3CMXJyFLFETPUqWPDHkzkGbJ3KciY1sMlYokiHlnblY6xiC/bafLhP8tWz8oDzcSVazKRYXKwCh5PV7Agw++ZOErZmifQrF/M5LPGe5dSuo4iD9YzXVtACo2JdGqqYJUdlwMrHqbkSD+Yy1bd4JiR4ci4W+UbXvtwXVIrpEKughKo32D9ipxed8qsErd3iZ8gCMIk0VWwPH4jy9Ufl7Rja84CzJA/OCn8ZWwF2Kry/7Bv4eZ2dm8ks8GULMXPIkeXJrdG8I8VNpegcFsRcjUfvLSjzMYUOrbn6zRZHGtV/i7yfQ42c81SOmdPOsGuMUOQeLqKvITFylZtUVHKNgQ6pcDjo1Ooiqf18BbFx0blo+RH2BZInzyo88zftOOWIbWMdI3Q6SiKgFpBEH4/HkzIkaJk+Hx3ZDnULTMaEkqGRUj4RLl8g1mCTLUPoSiplBVFrsSBGk1agfoN1q/kKM8RscyawBP3DPWHdPkbiawM5XJlz7mM15XuQ7sEQTzYRH2J0LLkEI7m1av8SdgAn7WGzfaFEylfZrHmwrXcc/4F5F7kyyORvvLMOt/t3JKg9mHhn0rYqSyvMKVvk2xp8D+/aYlFZTHLRNEqoNBzDRvswK/xKn0inZE+Hxx+TeKGcJcJeDw78Q5U8awF8vXLUZEgyhYqn5uyCcpyViA8zrpK2YgBXi6zNUhUxaN8MkL32QMV3kGIXx+OUmCQZyWtKC9hhUiHf9j1aB6YkqOcU5YKedkJxceMHLE0juYlswmG53wVMliaXAELTggZFldFRJTK11BONJhpH/yaNchR+bEVYolsBVRjmJZ4Dk2/YVNZHCOQWdOIuHOYgueJW/7cg5WWCAmCCEy3fAert+H9NlFv/64Nm0lvrRyLxZpOnzttL0D5VP9vehEEQRAE0T30LCd3ogswRWptEazbtnh/z5CjLJNEuPxKEARBEEREkAWLcd9YsBjKs6j9ufgySu9/LoIgCILoTZCCRRAEQRAEEWVoiZAgCIIgCCLKkIJFEARBEAQRVYD/D8tPE75YR5MiAAAAAElFTkSuQmCC)\n",
        "\n",
        "Creating an AI model for simulating quantum states and probabilities involves training a model to predict the probabilities of obtaining specific measurement outcomes based on the initial quantum state."
      ],
      "metadata": {
        "id": "l58vmnoLj0C0"
      }
    },
    {
      "cell_type": "code",
      "source": [
        "import torch\n",
        "import torch.nn as nn\n",
        "import torch.optim as optim\n",
        "\n",
        "class QuantumStateProbabilityModel(nn.Module):\n",
        "    def __init__(self, num_outcomes):\n",
        "        super(QuantumStateProbabilityModel, self).__init__()\n",
        "        self.fc1 = nn.Linear(2, num_outcomes)  # Represents the initial quantum state\n",
        "        self.softmax = nn.Softmax(dim=1)\n",
        "\n",
        "    def forward(self, x):\n",
        "        x = self.fc1(x)\n",
        "        x = self.softmax(x)\n",
        "        return x\n",
        "\n",
        "def generate_quantum_state_data(num_samples, num_outcomes):\n",
        "    # Features: Random initial quantum states\n",
        "    features = torch.rand((num_samples, 2))\n",
        "\n",
        "    # Labels: Probabilities of specific outcomes (based on the squared magnitudes)\n",
        "    labels = torch.rand((num_samples, num_outcomes))\n",
        "    labels = labels / labels.sum(dim=1, keepdim=True)  # Normalize to ensure a valid probability distribution\n",
        "\n",
        "    return features, labels\n",
        "\n",
        "def train_quantum_state_model(model, features, labels, epochs=100, lr=0.01):\n",
        "    criterion = nn.MSELoss()\n",
        "    optimizer = optim.SGD(model.parameters(), lr=lr)\n",
        "\n",
        "    for epoch in range(epochs):\n",
        "        optimizer.zero_grad()\n",
        "        outputs = model(features)\n",
        "        loss = criterion(outputs, labels)\n",
        "        loss.backward()\n",
        "        optimizer.step()\n",
        "\n",
        "        if epoch % 10 == 0:\n",
        "            print(f\"Epoch {epoch}, Loss: {loss.item()}\")\n",
        "\n",
        "if __name__ == \"__main__\":\n",
        "    # Number of possible measurement outcomes\n",
        "    num_outcomes = 3\n",
        "\n",
        "    # Instantiate the Quantum State Probability model\n",
        "    quantum_state_model = QuantumStateProbabilityModel(num_outcomes)\n",
        "\n",
        "    # Generate quantum state training data\n",
        "    quantum_state_features, quantum_state_labels = generate_quantum_state_data(1000, num_outcomes)\n",
        "\n",
        "    # Train the Quantum State Probability model\n",
        "    train_quantum_state_model(quantum_state_model, quantum_state_features, quantum_state_labels)\n",
        "\n",
        "    # Test the Quantum State Probability model with new data\n",
        "    test_features, _ = generate_quantum_state_data(10, num_outcomes)\n",
        "    predictions = quantum_state_model(test_features)\n",
        "    print(\"Predictions:\", predictions)\n"
      ],
      "metadata": {
        "colab": {
          "base_uri": "https://localhost:8080/"
        },
        "id": "VI2JRAJjkGw6",
        "outputId": "23eb7c10-08cc-4dd0-afc9-a607ebfb6589"
      },
      "execution_count": null,
      "outputs": [
        {
          "output_type": "stream",
          "name": "stdout",
          "text": [
            "Epoch 0, Loss: 0.044165078550577164\n",
            "Epoch 10, Loss: 0.04403598979115486\n",
            "Epoch 20, Loss: 0.04390827938914299\n",
            "Epoch 30, Loss: 0.043781932443380356\n",
            "Epoch 40, Loss: 0.04365692287683487\n",
            "Epoch 50, Loss: 0.043533213436603546\n",
            "Epoch 60, Loss: 0.043410785496234894\n",
            "Epoch 70, Loss: 0.04328962787985802\n",
            "Epoch 80, Loss: 0.04316970705986023\n",
            "Epoch 90, Loss: 0.04305100440979004\n",
            "Predictions: tensor([[0.2318, 0.3789, 0.3893],\n",
            "        [0.1942, 0.3712, 0.4346],\n",
            "        [0.2204, 0.3872, 0.3924],\n",
            "        [0.2103, 0.3807, 0.4090],\n",
            "        [0.2230, 0.3852, 0.3918],\n",
            "        [0.2397, 0.3668, 0.3935],\n",
            "        [0.1594, 0.3755, 0.4652],\n",
            "        [0.1697, 0.3573, 0.4730],\n",
            "        [0.1602, 0.3772, 0.4626],\n",
            "        [0.2399, 0.3974, 0.3627]], grad_fn=<SoftmaxBackward0>)\n"
          ]
        }
      ]
    },
    {
      "cell_type": "markdown",
      "source": [
        "In this above AI simulation model example:\n",
        "\n",
        "The Quantum State Probability model is a simple neural network that takes two random numbers (representing the initial quantum state) and predicts the probabilities of specific outcomes.\n",
        "The generate_quantum_state_data function generates random quantum states and corresponding probabilities of specific outcomes.\n",
        "The model is trained to predict the probabilities based on the features representing the initial quantum state."
      ],
      "metadata": {
        "id": "eUQ0ly9ak7Sv"
      }
    },
    {
      "cell_type": "markdown",
      "source": [
        "# AI model of Probabilistic Nature\n",
        "\n",
        "Quantum mechanics is inherently probabilistic. Even if a quantum system is prepared in a definite state, the outcome of a measurement is not determined with certainty. Instead, it is governed by probabilities described by the Born rule. Creating an AI model to simulate the probabilistic nature of quantum mechanics involves training a model to generate outcomes based on probability distributions."
      ],
      "metadata": {
        "id": "qDT6MAgbl7Uh"
      }
    },
    {
      "cell_type": "code",
      "source": [
        "import torch\n",
        "import torch.nn as nn\n",
        "import torch.optim as optim\n",
        "\n",
        "class QuantumProbabilisticModel(nn.Module):\n",
        "    def __init__(self, num_possible_outcomes):\n",
        "        super(QuantumProbabilisticModel, self).__init__()\n",
        "        self.fc1 = nn.Linear(2, num_possible_outcomes)  # Represents the quantum state\n",
        "        self.softmax = nn.Softmax(dim=1)\n",
        "\n",
        "    def forward(self, x):\n",
        "        x = self.fc1(x)\n",
        "        x = self.softmax(x)\n",
        "        return x\n",
        "\n",
        "def generate_quantum_probabilistic_data(num_samples, num_possible_outcomes):\n",
        "    # Features: Random quantum states\n",
        "    features = torch.rand((num_samples, 2))\n",
        "\n",
        "    # Labels: Probabilities of possible outcomes (according to the Born rule)\n",
        "    labels = torch.rand((num_samples, num_possible_outcomes))\n",
        "    labels = labels / labels.sum(dim=1, keepdim=True)  # Normalize to ensure a valid probability distribution\n",
        "\n",
        "    return features, labels\n",
        "\n",
        "def train_quantum_probabilistic_model(model, features, labels, epochs=100, lr=0.01):\n",
        "    criterion = nn.MSELoss()\n",
        "    optimizer = optim.SGD(model.parameters(), lr=lr)\n",
        "\n",
        "    for epoch in range(epochs):\n",
        "        optimizer.zero_grad()\n",
        "        outputs = model(features)\n",
        "        loss = criterion(outputs, labels)\n",
        "        loss.backward()\n",
        "        optimizer.step()\n",
        "\n",
        "        if epoch % 10 == 0:\n",
        "            print(f\"Epoch {epoch}, Loss: {loss.item()}\")\n",
        "\n",
        "if __name__ == \"__main__\":\n",
        "    # Number of possible outcomes in a quantum measurement\n",
        "    num_possible_outcomes = 4\n",
        "\n",
        "    # Instantiate the Quantum Probabilistic model\n",
        "    quantum_probabilistic_model = QuantumProbabilisticModel(num_possible_outcomes)\n",
        "\n",
        "    # Generate quantum probabilistic training data\n",
        "    quantum_probabilistic_features, quantum_probabilistic_labels = generate_quantum_probabilistic_data(1000, num_possible_outcomes)\n",
        "\n",
        "    # Train the Quantum Probabilistic model\n",
        "    train_quantum_probabilistic_model(quantum_probabilistic_model, quantum_probabilistic_features, quantum_probabilistic_labels)\n",
        "\n",
        "    # Test the Quantum Probabilistic model with new data\n",
        "    test_features, _ = generate_quantum_probabilistic_data(10, num_possible_outcomes)\n",
        "    predictions = quantum_probabilistic_model(test_features)\n",
        "    print(\"Predictions:\", predictions)\n"
      ],
      "metadata": {
        "colab": {
          "base_uri": "https://localhost:8080/"
        },
        "id": "Crq007gMmf4V",
        "outputId": "37a9034b-daf3-4dd6-fccb-f41ecea7decf"
      },
      "execution_count": null,
      "outputs": [
        {
          "output_type": "stream",
          "name": "stdout",
          "text": [
            "Epoch 0, Loss: 0.023486793041229248\n",
            "Epoch 10, Loss: 0.023454952985048294\n",
            "Epoch 20, Loss: 0.02342350222170353\n",
            "Epoch 30, Loss: 0.023392435163259506\n",
            "Epoch 40, Loss: 0.023361748084425926\n",
            "Epoch 50, Loss: 0.023331427946686745\n",
            "Epoch 60, Loss: 0.023301485925912857\n",
            "Epoch 70, Loss: 0.023271894082427025\n",
            "Epoch 80, Loss: 0.023242659866809845\n",
            "Epoch 90, Loss: 0.023213781416416168\n",
            "Predictions: tensor([[0.1668, 0.2792, 0.2083, 0.3458],\n",
            "        [0.2664, 0.2364, 0.1811, 0.3161],\n",
            "        [0.2780, 0.2311, 0.1781, 0.3128],\n",
            "        [0.2137, 0.2354, 0.1973, 0.3535],\n",
            "        [0.2009, 0.2917, 0.1954, 0.3121],\n",
            "        [0.2169, 0.2628, 0.1938, 0.3265],\n",
            "        [0.1836, 0.2462, 0.2059, 0.3643],\n",
            "        [0.2030, 0.2914, 0.1947, 0.3109],\n",
            "        [0.2529, 0.2123, 0.1869, 0.3479],\n",
            "        [0.1973, 0.2392, 0.2021, 0.3613]], grad_fn=<SoftmaxBackward0>)\n"
          ]
        }
      ]
    },
    {
      "cell_type": "markdown",
      "source": [
        "# Measurement Operators:\n",
        "\n",
        "In quantum mechanics, observable properties are associated with Hermitian operators. The set of eigenstates of an observable forms a complete basis for the Hilbert space. Measurement operators correspond to these observables, and measurements project the state onto one of these eigenstates. Creating an AI model to simulate measurement operators involves training a model to project quantum states onto eigenstates corresponding to a given observable."
      ],
      "metadata": {
        "id": "iBtlL9YOnJhc"
      }
    },
    {
      "cell_type": "code",
      "source": [
        "import torch\n",
        "import torch.nn as nn\n",
        "import torch.optim as optim\n",
        "\n",
        "class MeasurementOperatorModel(nn.Module):\n",
        "    def __init__(self, num_possible_outcomes):\n",
        "        super(MeasurementOperatorModel, self).__init__()\n",
        "        self.fc1 = nn.Linear(2, num_possible_outcomes)  # Represents the quantum state\n",
        "        self.softmax = nn.Softmax(dim=1)\n",
        "\n",
        "    def forward(self, x):\n",
        "        x = self.fc1(x)\n",
        "        x = self.softmax(x)\n",
        "        return x\n",
        "\n",
        "def generate_measurement_operator_data(num_samples, num_possible_outcomes):\n",
        "    # Features: Random quantum states\n",
        "    features = torch.rand((num_samples, 2))\n",
        "\n",
        "    # Labels: Probabilities of possible outcomes (corresponding to the measurement operator)\n",
        "    labels = torch.rand((num_samples, num_possible_outcomes))\n",
        "    labels = labels / labels.sum(dim=1, keepdim=True)  # Normalize to ensure a valid probability distribution\n",
        "\n",
        "    return features, labels\n",
        "\n",
        "def train_measurement_operator_model(model, features, labels, epochs=100, lr=0.01):\n",
        "    criterion = nn.MSELoss()\n",
        "    optimizer = optim.SGD(model.parameters(), lr=lr)\n",
        "\n",
        "    for epoch in range(epochs):\n",
        "        optimizer.zero_grad()\n",
        "        outputs = model(features)\n",
        "        loss = criterion(outputs, labels)\n",
        "        loss.backward()\n",
        "        optimizer.step()\n",
        "\n",
        "        if epoch % 10 == 0:\n",
        "            print(f\"Epoch {epoch}, Loss: {loss.item()}\")\n",
        "\n",
        "if __name__ == \"__main__\":\n",
        "    # Number of possible outcomes in a quantum measurement\n",
        "    num_possible_outcomes = 3\n",
        "\n",
        "    # Instantiate the Measurement Operator model\n",
        "    measurement_operator_model = MeasurementOperatorModel(num_possible_outcomes)\n",
        "\n",
        "    # Generate measurement operator training data\n",
        "    measurement_operator_features, measurement_operator_labels = generate_measurement_operator_data(1000, num_possible_outcomes)\n",
        "\n",
        "    # Train the Measurement Operator model\n",
        "    train_measurement_operator_model(measurement_operator_model, measurement_operator_features, measurement_operator_labels)\n",
        "\n",
        "    # Test the Measurement Operator model with new data\n",
        "    test_features, _ = generate_measurement_operator_data(10, num_possible_outcomes)\n",
        "    predictions = measurement_operator_model(test_features)\n",
        "    print(\"Predictions:\", predictions)\n"
      ],
      "metadata": {
        "colab": {
          "base_uri": "https://localhost:8080/"
        },
        "id": "1nswtHKYn0Ay",
        "outputId": "6ea49f93-f39a-4b8c-9518-2afd38157157"
      },
      "execution_count": null,
      "outputs": [
        {
          "output_type": "stream",
          "name": "stdout",
          "text": [
            "Epoch 0, Loss: 0.0430985726416111\n",
            "Epoch 10, Loss: 0.04299001395702362\n",
            "Epoch 20, Loss: 0.04288230463862419\n",
            "Epoch 30, Loss: 0.04277542978525162\n",
            "Epoch 40, Loss: 0.04266941919922829\n",
            "Epoch 50, Loss: 0.042564257979393005\n",
            "Epoch 60, Loss: 0.04245995730161667\n",
            "Epoch 70, Loss: 0.04235650971531868\n",
            "Epoch 80, Loss: 0.04225393012166023\n",
            "Epoch 90, Loss: 0.04215221852064133\n",
            "Predictions: tensor([[0.2230, 0.4015, 0.3756],\n",
            "        [0.2257, 0.3454, 0.4289],\n",
            "        [0.2038, 0.3197, 0.4765],\n",
            "        [0.2345, 0.3900, 0.3755],\n",
            "        [0.2018, 0.3789, 0.4193],\n",
            "        [0.2383, 0.4511, 0.3107],\n",
            "        [0.2141, 0.3393, 0.4466],\n",
            "        [0.2233, 0.4365, 0.3402],\n",
            "        [0.2358, 0.4591, 0.3051],\n",
            "        [0.2148, 0.3702, 0.4151]], grad_fn=<SoftmaxBackward0>)\n"
          ]
        }
      ]
    },
    {
      "cell_type": "markdown",
      "source": [
        "# Non-Destructive Nature:\n",
        "\n",
        "Quantum measurements are generally non-destructive. After a measurement is made, the system is in the eigenstate corresponding to the measured outcome, and subsequent measurements of compatible observables can be made. Creating an AI model to simulate the non-destructive nature of quantum measurements involves training a model to update quantum states based on measurements without destroying the state."
      ],
      "metadata": {
        "id": "V51YcuYQnUlC"
      }
    },
    {
      "cell_type": "code",
      "source": [
        "import torch\n",
        "import torch.nn as nn\n",
        "import torch.optim as optim\n",
        "\n",
        "class NonDestructiveModel(nn.Module):\n",
        "    def __init__(self, num_possible_outcomes):\n",
        "        super(NonDestructiveModel, self).__init__()\n",
        "        self.fc1 = nn.Linear(2, num_possible_outcomes)  # Represents the quantum state\n",
        "        self.softmax = nn.Softmax(dim=1)\n",
        "\n",
        "    def forward(self, x):\n",
        "        x = self.fc1(x)\n",
        "        x = self.softmax(x)\n",
        "        return x\n",
        "\n",
        "def generate_non_destructive_data(num_samples, num_possible_outcomes):\n",
        "    # Features: Random quantum states\n",
        "    features = torch.rand((num_samples, 2))\n",
        "\n",
        "    # Labels: Probabilities of possible outcomes (corresponding to non-destructive measurement)\n",
        "    labels = torch.rand((num_samples, num_possible_outcomes))\n",
        "    labels = labels / labels.sum(dim=1, keepdim=True)  # Normalize to ensure a valid probability distribution\n",
        "\n",
        "    return features, labels\n",
        "\n",
        "def update_quantum_state_non_destructive(model, quantum_state, measurement_outcome):\n",
        "    # Perform a non-destructive measurement update based on the model predictions\n",
        "    model_output = model(measurement_outcome)\n",
        "\n",
        "    # Ensure the sizes match before element-wise multiplication\n",
        "    if model_output.size(1) != quantum_state.size(1):\n",
        "        raise RuntimeError(\"Model output size does not match quantum_state size. Expected {}, got {}.\".format(quantum_state.size(1), model_output.size(1)))\n",
        "\n",
        "    quantum_state = quantum_state * model_output\n",
        "    quantum_state = quantum_state / quantum_state.sum()  # Normalize to ensure a valid quantum state\n",
        "    return quantum_state\n",
        "\n",
        "def train_non_destructive_model(model, features, labels, epochs=100, lr=0.01):\n",
        "    criterion = nn.MSELoss()\n",
        "    optimizer = optim.SGD(model.parameters(), lr=lr)\n",
        "\n",
        "    for epoch in range(epochs):\n",
        "        optimizer.zero_grad()\n",
        "        outputs = model(features)\n",
        "        loss = criterion(outputs, labels)\n",
        "        loss.backward()\n",
        "        optimizer.step()\n",
        "\n",
        "        if epoch % 10 == 0:\n",
        "            print(f\"Epoch {epoch}, Loss: {loss.item()}\")\n",
        "\n",
        "if __name__ == \"__main__\":\n",
        "    # Number of possible outcomes in a quantum measurement\n",
        "    num_possible_outcomes = 2  # Adjust this value\n",
        "\n",
        "    # Instantiate the Non-Destructive model\n",
        "    non_destructive_model = NonDestructiveModel(num_possible_outcomes)\n",
        "\n",
        "    # Generate non-destructive measurement training data\n",
        "    non_destructive_features, non_destructive_labels = generate_non_destructive_data(1000, num_possible_outcomes)\n",
        "\n",
        "    # Train the Non-Destructive model\n",
        "    train_non_destructive_model(non_destructive_model, non_destructive_features, non_destructive_labels)\n",
        "\n",
        "    # Test the Non-Destructive model with new data\n",
        "    test_features, _ = generate_non_destructive_data(1, num_possible_outcomes)\n",
        "    quantum_state_before_measurement = torch.rand(1, 2)\n",
        "    print(\"Initial Quantum State:\", quantum_state_before_measurement)\n",
        "\n",
        "    # Perform a non-destructive measurement update\n",
        "    quantum_state_after_measurement = update_quantum_state_non_destructive(non_destructive_model, quantum_state_before_measurement, test_features)\n",
        "    print(\"Quantum State After Non-Destructive Measurement:\", quantum_state_after_measurement)\n"
      ],
      "metadata": {
        "colab": {
          "base_uri": "https://localhost:8080/"
        },
        "id": "b9aeRTR3qut7",
        "outputId": "e726943c-a63a-45a8-f789-cebf5224837b"
      },
      "execution_count": null,
      "outputs": [
        {
          "output_type": "stream",
          "name": "stdout",
          "text": [
            "Epoch 0, Loss: 0.08127854019403458\n",
            "Epoch 10, Loss: 0.07989267259836197\n",
            "Epoch 20, Loss: 0.07857050001621246\n",
            "Epoch 30, Loss: 0.0773109495639801\n",
            "Epoch 40, Loss: 0.07611268758773804\n",
            "Epoch 50, Loss: 0.07497426867485046\n",
            "Epoch 60, Loss: 0.07389409095048904\n",
            "Epoch 70, Loss: 0.07287043333053589\n",
            "Epoch 80, Loss: 0.07190149277448654\n",
            "Epoch 90, Loss: 0.0709853544831276\n",
            "Initial Quantum State: tensor([[0.2795, 0.7006]])\n",
            "Quantum State After Non-Destructive Measurement: tensor([[0.3352, 0.6648]], grad_fn=<DivBackward0>)\n"
          ]
        }
      ]
    },
    {
      "cell_type": "markdown",
      "source": [
        "In this above AI model example:\n",
        "\n",
        "The Non-Destructive model is a simple neural network that takes two random numbers (representing the quantum state) and predicts the probabilities of possible outcomes corresponding to a non-destructive measurement.\n",
        "\n",
        "The generate_non_destructive_data function generates random quantum states and corresponding probabilities based on non-destructive measurement.\n",
        "\n",
        "The update_quantum_state_non_destructive function simulates the non-destructive measurement update based on the model predictions.\n",
        "\n",
        "The model is trained to predict the probabilities based on the features representing the quantum state."
      ],
      "metadata": {
        "id": "Lviy8UyCrgjF"
      }
    },
    {
      "cell_type": "markdown",
      "source": [
        "# Wavefunction Collapse:\n",
        "\n",
        "The concept of wavefunction collapse describes the sudden transition of a quantum state from superposition to a definite state after measurement. This collapse is a fundamental aspect of the interpretational challenges in quantum mechanics.\n",
        "In this below AI model example, we start with a simple superposition state represented by the initial_state. The simulate_wavefunction_collapse function iteratively simulates the process of wavefunction collapse for a specified number of measurements. The collapse_wavefunction function randomly selects one of the states based on their probabilities (given by the squared magnitudes of the amplitudes) after each measurement."
      ],
      "metadata": {
        "id": "zd3T18OzncHh"
      }
    },
    {
      "cell_type": "code",
      "source": [
        "import numpy as np\n",
        "\n",
        "def normalize(state_vector):\n",
        "    \"\"\"Normalize a quantum state vector.\"\"\"\n",
        "    norm = np.linalg.norm(state_vector)\n",
        "    return state_vector / norm\n",
        "\n",
        "def collapse_wavefunction(state_vector):\n",
        "    \"\"\"Simulate the wavefunction collapse.\"\"\"\n",
        "    probabilities = np.abs(state_vector) ** 2\n",
        "    collapsed_state = np.random.choice(len(state_vector), p=probabilities)\n",
        "    new_state = np.zeros_like(state_vector)\n",
        "    new_state[collapsed_state] = 1.0\n",
        "    return new_state\n",
        "\n",
        "def simulate_wavefunction_collapse(initial_state, num_measurements):\n",
        "    \"\"\"Simulate the process of wavefunction collapse.\"\"\"\n",
        "    state_vector = normalize(initial_state)\n",
        "\n",
        "    for _ in range(num_measurements):\n",
        "        state_vector = collapse_wavefunction(state_vector)\n",
        "        print(\"Wavefunction After Collapse:\", state_vector)\n",
        "\n",
        "if __name__ == \"__main__\":\n",
        "    # Define an initial quantum state (superposition)\n",
        "    initial_state = np.array([1.0 / np.sqrt(2), 1.0 / np.sqrt(2)], dtype=complex)\n",
        "\n",
        "    # Simulate wavefunction collapse for a certain number of measurements\n",
        "    num_measurements = 5\n",
        "    simulate_wavefunction_collapse(initial_state, num_measurements)\n"
      ],
      "metadata": {
        "colab": {
          "base_uri": "https://localhost:8080/"
        },
        "id": "sa17Xy1txVOV",
        "outputId": "d05a554a-afdf-4dc2-c433-1e7dd61e5c1d"
      },
      "execution_count": null,
      "outputs": [
        {
          "output_type": "stream",
          "name": "stdout",
          "text": [
            "Wavefunction After Collapse: [0.+0.j 1.+0.j]\n",
            "Wavefunction After Collapse: [0.+0.j 1.+0.j]\n",
            "Wavefunction After Collapse: [0.+0.j 1.+0.j]\n",
            "Wavefunction After Collapse: [0.+0.j 1.+0.j]\n",
            "Wavefunction After Collapse: [0.+0.j 1.+0.j]\n"
          ]
        }
      ]
    },
    {
      "cell_type": "markdown",
      "source": [
        "# Quantum Circuits:\n",
        "\n",
        "Quantum algorithms are often represented using quantum circuits. The evolution of the quantum state through time is captured using a series of quantum gates. Quantum circuits are a graphical representation of the sequence of quantum gates applied to a set of qubits to perform a quantum computation. Quantum circuits play a crucial role in quantum computing and provide a framework for designing and analyzing quantum algorithms. Quantum circuit diagrams visually represent the flow of quantum information, helping researchers design and analyze quantum algorithms and protocols."
      ],
      "metadata": {
        "id": "Sc1hoH4GyyLr"
      }
    },
    {
      "cell_type": "markdown",
      "source": [
        "# Quantum Registers:\n",
        "\n",
        "Quantum circuits often involve multiple qubits organized into quantum registers. A quantum register is a collection of qubits treated as a single entity, and quantum gates operate on these registers to perform computations. To simulate a quantum register we can use the following AI model example that assumes the quantum register is represented as an array or list of qubits"
      ],
      "metadata": {
        "id": "4GEu6bErzkZh"
      }
    },
    {
      "cell_type": "code",
      "source": [
        "import numpy as np\n",
        "\n",
        "def initialize_quantum_register(num_qubits):\n",
        "    \"\"\"Initialize a quantum register with a default state.\"\"\"\n",
        "    return np.zeros(2 ** num_qubits, dtype=complex)\n",
        "\n",
        "def apply_quantum_gate(register, gate_matrix, target_qubits):\n",
        "    \"\"\"Apply a quantum gate to the specified qubits in the quantum register.\"\"\"\n",
        "    num_qubits = int(np.log2(len(register)))\n",
        "\n",
        "    if max(target_qubits) >= num_qubits:\n",
        "        raise ValueError(\"Target qubits are out of range for the given register.\")\n",
        "\n",
        "    gate_size = gate_matrix.shape[0]\n",
        "\n",
        "    if gate_size != 2 ** len(target_qubits):\n",
        "        raise ValueError(\"Gate matrix size does not match the number of target qubits.\")\n",
        "\n",
        "    reshaped_register = register.reshape((2,) * num_qubits)\n",
        "    target_slices = tuple(slice(None) if i in target_qubits else np.newaxis for i in range(num_qubits))\n",
        "\n",
        "    for i in range(num_qubits):\n",
        "        reshaped_register = np.sum(gate_matrix[:, i, np.newaxis, np.newaxis] * reshaped_register, axis=0)\n",
        "\n",
        "    register[:] = reshaped_register.flatten()\n",
        "\n",
        "def simulate_quantum_circuit(register, gates_and_targets):\n",
        "    \"\"\"Simulate a quantum circuit by applying a sequence of quantum gates.\"\"\"\n",
        "    for gate_matrix, target_qubits in gates_and_targets:\n",
        "        apply_quantum_gate(register, gate_matrix, target_qubits)\n",
        "\n",
        "if __name__ == \"__main__\":\n",
        "    # Example: Simulating a quantum register with Hadamard gate on qubit 0\n",
        "    num_qubits = 2\n",
        "    quantum_register = initialize_quantum_register(num_qubits)\n",
        "\n",
        "    hadamard_gate = 1 / np.sqrt(2) * np.array([[1, 1], [1, -1]], dtype=complex)\n",
        "\n",
        "    # Apply Hadamard gate to qubit 0\n",
        "    simulate_quantum_circuit(quantum_register, [(hadamard_gate, [0])])\n",
        "\n",
        "    print(\"Quantum Register State after Hadamard gate:\", quantum_register)\n"
      ],
      "metadata": {
        "colab": {
          "base_uri": "https://localhost:8080/"
        },
        "id": "uGJ9SkL_pUHQ",
        "outputId": "af07502e-f16a-4774-a902-c832c54ad498"
      },
      "execution_count": null,
      "outputs": [
        {
          "output_type": "stream",
          "name": "stdout",
          "text": [
            "Quantum Register State after Hadamard gate: [0.+0.j 0.+0.j 0.+0.j 0.+0.j]\n"
          ]
        }
      ]
    },
    {
      "cell_type": "markdown",
      "source": [
        "In this above AI model example, we initialize a quantum register with a default state and apply a Hadamard gate to the first qubit. The apply_quantum_gate function is used to apply a quantum gate to the specified qubits in the quantum register. The simulate_quantum_circuit function simulates a quantum circuit by applying a sequence of quantum gates."
      ],
      "metadata": {
        "id": "2G8uctkaqTLo"
      }
    },
    {
      "cell_type": "markdown",
      "source": [
        "# Initialization and Final Measurement:\n",
        "\n",
        "Quantum circuits typically start with the initialization of qubits in a known state and end with measurements that extract classical information from the quantum computation. Creating an AI model for quantum circuit initialization involves defining a model that can generate an initial quantum state. This below AI model example demonstrates a simple neural network (QuantumInitializer) that takes a single input and outputs a probability distribution representing the initial state of a quantum circuit with a specified number of qubits. The training process aims to make the output close to a uniform distribution."
      ],
      "metadata": {
        "id": "MOCkvhpxz0Rs"
      }
    },
    {
      "cell_type": "code",
      "source": [
        "import torch\n",
        "import torch.nn as nn\n",
        "import torch.optim as optim\n",
        "import numpy as np\n",
        "\n",
        "class QuantumInitializer(nn.Module):\n",
        "    def __init__(self, num_qubits):\n",
        "        super(QuantumInitializer, self).__init__()\n",
        "        self.num_qubits = num_qubits\n",
        "        self.fc = nn.Linear(1, 2 ** num_qubits)  # Single input, output size is 2^num_qubits\n",
        "\n",
        "    def forward(self, input):\n",
        "        quantum_state = self.fc(input)\n",
        "        quantum_state = torch.softmax(quantum_state, dim=1)  # Applying softmax to get a valid probability distribution\n",
        "        return quantum_state\n",
        "\n",
        "def train_quantum_initializer(model, optimizer, num_epochs, batch_size):\n",
        "    criterion = nn.MSELoss()\n",
        "\n",
        "    for epoch in range(num_epochs):\n",
        "        optimizer.zero_grad()\n",
        "\n",
        "        # Generate random input for training\n",
        "        input_data = torch.rand(batch_size, 1)\n",
        "\n",
        "        # Forward pass\n",
        "        quantum_state = model(input_data)\n",
        "\n",
        "        # Target: Uniform distribution (ideal for initialization)\n",
        "        target_state = torch.ones_like(quantum_state) / 2**model.num_qubits\n",
        "\n",
        "        # Calculate loss\n",
        "        loss = criterion(quantum_state, target_state)\n",
        "\n",
        "        # Backward pass and optimization step\n",
        "        loss.backward()\n",
        "        optimizer.step()\n",
        "\n",
        "        if epoch % 10 == 0:\n",
        "            print(f\"Epoch {epoch}, Loss: {loss.item()}\")\n",
        "\n",
        "if __name__ == \"__main__\":\n",
        "    num_qubits = 3\n",
        "    quantum_initializer = QuantumInitializer(num_qubits)\n",
        "    optimizer = optim.SGD(quantum_initializer.parameters(), lr=0.01)\n",
        "\n",
        "    # Training the quantum initializer\n",
        "    train_quantum_initializer(quantum_initializer, optimizer, num_epochs=1000, batch_size=32)\n",
        "\n",
        "    # Testing the quantum initializer\n",
        "    test_input = torch.tensor([[0.5]])  # Example input for testing\n",
        "    initial_quantum_state = quantum_initializer(test_input)\n",
        "    print(\"Initial Quantum State:\")\n",
        "    print(initial_quantum_state)\n"
      ],
      "metadata": {
        "colab": {
          "base_uri": "https://localhost:8080/"
        },
        "id": "2pfLrEbIqytX",
        "outputId": "3bb4d136-8fed-43d5-d543-0e1fcf6e7912"
      },
      "execution_count": null,
      "outputs": [
        {
          "output_type": "stream",
          "name": "stdout",
          "text": [
            "Epoch 0, Loss: 0.005997529719024897\n",
            "Epoch 10, Loss: 0.005658844485878944\n",
            "Epoch 20, Loss: 0.005926876328885555\n",
            "Epoch 30, Loss: 0.0063107311725616455\n",
            "Epoch 40, Loss: 0.00682693300768733\n",
            "Epoch 50, Loss: 0.006699929013848305\n",
            "Epoch 60, Loss: 0.006268417928367853\n",
            "Epoch 70, Loss: 0.006757739465683699\n",
            "Epoch 80, Loss: 0.005623385775834322\n",
            "Epoch 90, Loss: 0.005957373417913914\n",
            "Epoch 100, Loss: 0.006257439497858286\n",
            "Epoch 110, Loss: 0.005192480515688658\n",
            "Epoch 120, Loss: 0.005422297399491072\n",
            "Epoch 130, Loss: 0.006615526042878628\n",
            "Epoch 140, Loss: 0.006249020807445049\n",
            "Epoch 150, Loss: 0.0061378078535199165\n",
            "Epoch 160, Loss: 0.006013885606080294\n",
            "Epoch 170, Loss: 0.005853176116943359\n",
            "Epoch 180, Loss: 0.006012528203427792\n",
            "Epoch 190, Loss: 0.0059488858096301556\n",
            "Epoch 200, Loss: 0.0060842749662697315\n",
            "Epoch 210, Loss: 0.0054378146305680275\n",
            "Epoch 220, Loss: 0.005723049398511648\n",
            "Epoch 230, Loss: 0.0064021688885986805\n",
            "Epoch 240, Loss: 0.006186416372656822\n",
            "Epoch 250, Loss: 0.005807085428386927\n",
            "Epoch 260, Loss: 0.00560541870072484\n",
            "Epoch 270, Loss: 0.006051147822290659\n",
            "Epoch 280, Loss: 0.005953460466116667\n",
            "Epoch 290, Loss: 0.006593406666070223\n",
            "Epoch 300, Loss: 0.005290977656841278\n",
            "Epoch 310, Loss: 0.005588599946349859\n",
            "Epoch 320, Loss: 0.005765245761722326\n",
            "Epoch 330, Loss: 0.00495954742655158\n",
            "Epoch 340, Loss: 0.0057601649314165115\n",
            "Epoch 350, Loss: 0.005801007151603699\n",
            "Epoch 360, Loss: 0.006593241821974516\n",
            "Epoch 370, Loss: 0.005815119948238134\n",
            "Epoch 380, Loss: 0.005889060441404581\n",
            "Epoch 390, Loss: 0.0056302244774997234\n",
            "Epoch 400, Loss: 0.005773990880697966\n",
            "Epoch 410, Loss: 0.005720110610127449\n",
            "Epoch 420, Loss: 0.006354647222906351\n",
            "Epoch 430, Loss: 0.0055597391910851\n",
            "Epoch 440, Loss: 0.005167257972061634\n",
            "Epoch 450, Loss: 0.006041585933417082\n",
            "Epoch 460, Loss: 0.005632535554468632\n",
            "Epoch 470, Loss: 0.005350141786038876\n",
            "Epoch 480, Loss: 0.006017192732542753\n",
            "Epoch 490, Loss: 0.005680372007191181\n",
            "Epoch 500, Loss: 0.005282286554574966\n",
            "Epoch 510, Loss: 0.005450265947729349\n",
            "Epoch 520, Loss: 0.005180084612220526\n",
            "Epoch 530, Loss: 0.005539874080568552\n",
            "Epoch 540, Loss: 0.005143438000231981\n",
            "Epoch 550, Loss: 0.005574957467615604\n",
            "Epoch 560, Loss: 0.005946093238890171\n",
            "Epoch 570, Loss: 0.00551039120182395\n",
            "Epoch 580, Loss: 0.0055802250280976295\n",
            "Epoch 590, Loss: 0.006141383200883865\n",
            "Epoch 600, Loss: 0.005514270626008511\n",
            "Epoch 610, Loss: 0.005216272547841072\n",
            "Epoch 620, Loss: 0.005345799960196018\n",
            "Epoch 630, Loss: 0.005070610903203487\n",
            "Epoch 640, Loss: 0.0058703552931547165\n",
            "Epoch 650, Loss: 0.005305407103151083\n",
            "Epoch 660, Loss: 0.005670146085321903\n",
            "Epoch 670, Loss: 0.005605798214673996\n",
            "Epoch 680, Loss: 0.005081282928586006\n",
            "Epoch 690, Loss: 0.005318400915712118\n",
            "Epoch 700, Loss: 0.0049336692318320274\n",
            "Epoch 710, Loss: 0.00524629931896925\n",
            "Epoch 720, Loss: 0.005240066908299923\n",
            "Epoch 730, Loss: 0.005572785157710314\n",
            "Epoch 740, Loss: 0.004875509534031153\n",
            "Epoch 750, Loss: 0.004748360253870487\n",
            "Epoch 760, Loss: 0.004939967300742865\n",
            "Epoch 770, Loss: 0.005207277834415436\n",
            "Epoch 780, Loss: 0.005360410548746586\n",
            "Epoch 790, Loss: 0.005089474841952324\n",
            "Epoch 800, Loss: 0.005089723505079746\n",
            "Epoch 810, Loss: 0.005104659590870142\n",
            "Epoch 820, Loss: 0.00558101199567318\n",
            "Epoch 830, Loss: 0.005415679886937141\n",
            "Epoch 840, Loss: 0.004929522983729839\n",
            "Epoch 850, Loss: 0.005643609445542097\n",
            "Epoch 860, Loss: 0.0051649329252541065\n",
            "Epoch 870, Loss: 0.005602126009762287\n",
            "Epoch 880, Loss: 0.0052010673098266125\n",
            "Epoch 890, Loss: 0.004853143822401762\n",
            "Epoch 900, Loss: 0.0051528881303966045\n",
            "Epoch 910, Loss: 0.005750718526542187\n",
            "Epoch 920, Loss: 0.005019413307309151\n",
            "Epoch 930, Loss: 0.0048693763092160225\n",
            "Epoch 940, Loss: 0.004851301200687885\n",
            "Epoch 950, Loss: 0.0048700859770178795\n",
            "Epoch 960, Loss: 0.005196756217628717\n",
            "Epoch 970, Loss: 0.0047937785275280476\n",
            "Epoch 980, Loss: 0.005610289052128792\n",
            "Epoch 990, Loss: 0.005427650175988674\n",
            "Initial Quantum State:\n",
            "tensor([[0.2734, 0.0837, 0.1887, 0.0921, 0.1064, 0.0513, 0.1277, 0.0766]],\n",
            "       grad_fn=<SoftmaxBackward0>)\n"
          ]
        }
      ]
    },
    {
      "cell_type": "markdown",
      "source": [
        "# Quantum Gate Composition:\n",
        "\n",
        "Quantum gates are composed sequentially to form a quantum circuit. The sequence of gates determines the evolution of the quantum state from the initial to the final state. Creating an AI model for quantum gate composition involves defining a model that can sequentially apply a series of quantum gates to an initial quantum state. Below is a AI model example using a classical neural network to represent the composition of quantum gates."
      ],
      "metadata": {
        "id": "s3l431w8z46P"
      }
    },
    {
      "cell_type": "code",
      "source": [
        "import torch\n",
        "import torch.nn as nn\n",
        "import torch.optim as optim\n",
        "\n",
        "class QuantumGateComposition(nn.Module):\n",
        "    def __init__(self, num_qubits):\n",
        "        super(QuantumGateComposition, self).__init__()\n",
        "        self.num_qubits = num_qubits\n",
        "        self.fc = nn.Linear(2 ** num_qubits, 2 ** num_qubits * 2)  # Double the output size for complex amplitudes\n",
        "\n",
        "    def forward(self, quantum_state):\n",
        "        # Apply the composed quantum gates\n",
        "        composed_gates = self.fc(quantum_state)\n",
        "        composed_gates = composed_gates.view(-1, 2, 2 ** self.num_qubits)\n",
        "\n",
        "        # Normalize the amplitudes to ensure a valid quantum state\n",
        "        composed_gates = composed_gates / torch.linalg.norm(composed_gates, dim=(1, 2), keepdim=True)\n",
        "\n",
        "        return composed_gates.flatten()\n",
        "\n",
        "def train_quantum_gate_composition(model, optimizer, num_epochs, batch_size):\n",
        "    criterion = nn.MSELoss()\n",
        "\n",
        "    for epoch in range(num_epochs):\n",
        "        optimizer.zero_grad()\n",
        "\n",
        "        # Generate random input (representing initial quantum state) for training\n",
        "        initial_quantum_state = torch.rand(batch_size, 2 ** model.num_qubits)\n",
        "\n",
        "        # Forward pass\n",
        "        final_quantum_state = model(initial_quantum_state)\n",
        "\n",
        "        # Target: Random quantum state (ideal for gate composition)\n",
        "        target_state = torch.rand_like(final_quantum_state)\n",
        "\n",
        "\n",
        "        # Calculate loss\n",
        "        loss = criterion(final_quantum_state, target_state)\n",
        "\n",
        "        # Backward pass and optimization step\n",
        "        loss.backward()\n",
        "        optimizer.step()\n",
        "\n",
        "        if epoch % 10 == 0:\n",
        "            print(f\"Epoch {epoch}, Loss: {loss.item()}\")\n",
        "\n",
        "if __name__ == \"__main__\":\n",
        "    num_qubits = 3\n",
        "    quantum_gate_composition = QuantumGateComposition(num_qubits)\n",
        "    optimizer = optim.SGD(quantum_gate_composition.parameters(), lr=0.01)\n",
        "\n",
        "    # Training the quantum gate composition model\n",
        "    train_quantum_gate_composition(quantum_gate_composition, optimizer, num_epochs=1000, batch_size=32)\n",
        "\n",
        "    # Testing the quantum gate composition model\n",
        "    test_input = torch.rand(1, 2 ** num_qubits)  # Example input for testing\n",
        "    final_quantum_state = quantum_gate_composition(test_input)\n",
        "    print(\"Final Quantum State after Gate Composition:\")\n",
        "    print(final_quantum_state)\n"
      ],
      "metadata": {
        "colab": {
          "base_uri": "https://localhost:8080/"
        },
        "id": "_IUwPk1R2aq7",
        "outputId": "85f292aa-f43c-4252-d218-fbdb670d8d06"
      },
      "execution_count": null,
      "outputs": [
        {
          "output_type": "stream",
          "name": "stdout",
          "text": [
            "Epoch 0, Loss: 0.325446754693985\n",
            "Epoch 10, Loss: 0.3283093273639679\n",
            "Epoch 20, Loss: 0.3339358866214752\n",
            "Epoch 30, Loss: 0.30977964401245117\n",
            "Epoch 40, Loss: 0.33140674233436584\n",
            "Epoch 50, Loss: 0.3262985050678253\n",
            "Epoch 60, Loss: 0.2987072467803955\n",
            "Epoch 70, Loss: 0.31263047456741333\n",
            "Epoch 80, Loss: 0.30074626207351685\n",
            "Epoch 90, Loss: 0.31921494007110596\n",
            "Epoch 100, Loss: 0.303164541721344\n",
            "Epoch 110, Loss: 0.30245766043663025\n",
            "Epoch 120, Loss: 0.2701588273048401\n",
            "Epoch 130, Loss: 0.2918855547904968\n",
            "Epoch 140, Loss: 0.2638351023197174\n",
            "Epoch 150, Loss: 0.26680368185043335\n",
            "Epoch 160, Loss: 0.2957133650779724\n",
            "Epoch 170, Loss: 0.2974089980125427\n",
            "Epoch 180, Loss: 0.2928229570388794\n",
            "Epoch 190, Loss: 0.26921799778938293\n",
            "Epoch 200, Loss: 0.2570601999759674\n",
            "Epoch 210, Loss: 0.2517358660697937\n",
            "Epoch 220, Loss: 0.25616100430488586\n",
            "Epoch 230, Loss: 0.2549876272678375\n",
            "Epoch 240, Loss: 0.23648542165756226\n",
            "Epoch 250, Loss: 0.25098171830177307\n",
            "Epoch 260, Loss: 0.24815434217453003\n",
            "Epoch 270, Loss: 0.25876080989837646\n",
            "Epoch 280, Loss: 0.22740936279296875\n",
            "Epoch 290, Loss: 0.22950878739356995\n",
            "Epoch 300, Loss: 0.23091518878936768\n",
            "Epoch 310, Loss: 0.2046162188053131\n",
            "Epoch 320, Loss: 0.21967165172100067\n",
            "Epoch 330, Loss: 0.23809655010700226\n",
            "Epoch 340, Loss: 0.2109101563692093\n",
            "Epoch 350, Loss: 0.21737879514694214\n",
            "Epoch 360, Loss: 0.20496051013469696\n",
            "Epoch 370, Loss: 0.2277722805738449\n",
            "Epoch 380, Loss: 0.21590887010097504\n",
            "Epoch 390, Loss: 0.21517378091812134\n",
            "Epoch 400, Loss: 0.21278023719787598\n",
            "Epoch 410, Loss: 0.1961454451084137\n",
            "Epoch 420, Loss: 0.2100803256034851\n",
            "Epoch 430, Loss: 0.2192598134279251\n",
            "Epoch 440, Loss: 0.20084106922149658\n",
            "Epoch 450, Loss: 0.1932738721370697\n",
            "Epoch 460, Loss: 0.18275900185108185\n",
            "Epoch 470, Loss: 0.20839519798755646\n",
            "Epoch 480, Loss: 0.2145257294178009\n",
            "Epoch 490, Loss: 0.21561667323112488\n",
            "Epoch 500, Loss: 0.20716321468353271\n",
            "Epoch 510, Loss: 0.20121578872203827\n",
            "Epoch 520, Loss: 0.18533429503440857\n",
            "Epoch 530, Loss: 0.20266540348529816\n",
            "Epoch 540, Loss: 0.18567098677158356\n",
            "Epoch 550, Loss: 0.19419793784618378\n",
            "Epoch 560, Loss: 0.1950850933790207\n",
            "Epoch 570, Loss: 0.18753370642662048\n",
            "Epoch 580, Loss: 0.17086055874824524\n",
            "Epoch 590, Loss: 0.18371030688285828\n",
            "Epoch 600, Loss: 0.19427765905857086\n",
            "Epoch 610, Loss: 0.17781056463718414\n",
            "Epoch 620, Loss: 0.17635557055473328\n",
            "Epoch 630, Loss: 0.18814200162887573\n",
            "Epoch 640, Loss: 0.19106686115264893\n",
            "Epoch 650, Loss: 0.17163562774658203\n",
            "Epoch 660, Loss: 0.18560530245304108\n",
            "Epoch 670, Loss: 0.16975565254688263\n",
            "Epoch 680, Loss: 0.18010033667087555\n",
            "Epoch 690, Loss: 0.18240982294082642\n",
            "Epoch 700, Loss: 0.18247316777706146\n",
            "Epoch 710, Loss: 0.17350809276103973\n",
            "Epoch 720, Loss: 0.17586395144462585\n",
            "Epoch 730, Loss: 0.16873958706855774\n",
            "Epoch 740, Loss: 0.1727772057056427\n",
            "Epoch 750, Loss: 0.15695831179618835\n",
            "Epoch 760, Loss: 0.1773955225944519\n",
            "Epoch 770, Loss: 0.1780083030462265\n",
            "Epoch 780, Loss: 0.16334137320518494\n",
            "Epoch 790, Loss: 0.17488791048526764\n",
            "Epoch 800, Loss: 0.1645871251821518\n",
            "Epoch 810, Loss: 0.17421427369117737\n",
            "Epoch 820, Loss: 0.16014742851257324\n",
            "Epoch 830, Loss: 0.16329587996006012\n",
            "Epoch 840, Loss: 0.16366875171661377\n",
            "Epoch 850, Loss: 0.17549799382686615\n",
            "Epoch 860, Loss: 0.16069568693637848\n",
            "Epoch 870, Loss: 0.15743191540241241\n",
            "Epoch 880, Loss: 0.16521239280700684\n",
            "Epoch 890, Loss: 0.17588923871517181\n",
            "Epoch 900, Loss: 0.17412155866622925\n",
            "Epoch 910, Loss: 0.16141454875469208\n",
            "Epoch 920, Loss: 0.16730204224586487\n",
            "Epoch 930, Loss: 0.16613538563251495\n",
            "Epoch 940, Loss: 0.16375693678855896\n",
            "Epoch 950, Loss: 0.166648268699646\n",
            "Epoch 960, Loss: 0.17796126008033752\n",
            "Epoch 970, Loss: 0.1621207445859909\n",
            "Epoch 980, Loss: 0.161030575633049\n",
            "Epoch 990, Loss: 0.16723321378231049\n",
            "Final Quantum State after Gate Composition:\n",
            "tensor([0.1845, 0.2686, 0.1907, 0.0851, 0.3533, 0.2998, 0.2959, 0.2055, 0.3003,\n",
            "        0.2523, 0.3657, 0.2410, 0.1951, 0.1487, 0.1936, 0.2499],\n",
            "       grad_fn=<ViewBackward0>)\n"
          ]
        }
      ]
    },
    {
      "cell_type": "markdown",
      "source": [
        "# Quantum Algorithm Design:\n",
        "\n",
        "Quantum circuits are the primary tool for designing and implementing quantum algorithms. Quantum algorithms, such as Shor's algorithm and Grover's algorithm, are expressed as sequences of quantum gates in quantum circuits.\n",
        "\n",
        "While traditional quantum algorithm design is a complex and specialized task, machine learning can assist in finding patterns and optimizing parameters for specific problems. Below is a example using a machine learning model for quantum algorithm design."
      ],
      "metadata": {
        "id": "1YCIbHp6z9ou"
      }
    },
    {
      "cell_type": "code",
      "source": [
        "import torch\n",
        "import torch.nn as nn\n",
        "import torch.optim as optim\n",
        "\n",
        "class QuantumAlgorithmDesignModel(nn.Module):\n",
        "    def __init__(self, num_qubits):\n",
        "        super(QuantumAlgorithmDesignModel, self).__init__()\n",
        "        self.num_qubits = num_qubits\n",
        "        self.fc1 = nn.Linear(2 ** num_qubits, 64)\n",
        "        self.relu = nn.ReLU()\n",
        "        self.fc2 = nn.Linear(64, 1)\n",
        "\n",
        "    def forward(self, x):\n",
        "        x = self.fc1(x)\n",
        "        x = self.relu(x)\n",
        "        x = self.fc2(x)\n",
        "        return x\n",
        "\n",
        "def train_quantum_algorithm_design(model, optimizer, num_epochs, batch_size):\n",
        "    criterion = nn.MSELoss()\n",
        "\n",
        "    for epoch in range(num_epochs):\n",
        "        optimizer.zero_grad()\n",
        "\n",
        "        # Generate random input (representing quantum algorithm parameters) for training\n",
        "        algorithm_parameters = torch.rand(batch_size, 2 ** model.num_qubits)\n",
        "\n",
        "        # Forward pass\n",
        "        algorithm_score = model(algorithm_parameters)\n",
        "\n",
        "        # Target: Define a scoring mechanism based on algorithm performance\n",
        "        target_score = custom_scoring_function(algorithm_parameters)\n",
        "\n",
        "        # Calculate loss\n",
        "        loss = criterion(algorithm_score, target_score)\n",
        "\n",
        "        # Backward pass and optimization step\n",
        "        loss.backward()\n",
        "        optimizer.step()\n",
        "\n",
        "        if epoch % 10 == 0:\n",
        "            print(f\"Epoch {epoch}, Loss: {loss.item()}\")\n",
        "\n",
        "def custom_scoring_function(algorithm_parameters):\n",
        "    # Define a simple scoring function (e.g., maximize quantum parallelism and entanglement)\n",
        "    score = torch.sum(algorithm_parameters, dim=1)\n",
        "    return score.view(-1, 1)\n",
        "\n",
        "if __name__ == \"__main__\":\n",
        "    num_qubits = 2\n",
        "    quantum_algorithm_model = QuantumAlgorithmDesignModel(num_qubits)\n",
        "    optimizer = optim.Adam(quantum_algorithm_model.parameters(), lr=0.01)\n",
        "\n",
        "    # Training the quantum algorithm design model\n",
        "    train_quantum_algorithm_design(quantum_algorithm_model, optimizer, num_epochs=1000, batch_size=32)\n",
        "\n",
        "    # Evaluate the trained model on a new set of parameters\n",
        "    test_parameters = torch.rand(1, 2 ** num_qubits)\n",
        "    predicted_score = quantum_algorithm_model(test_parameters)\n",
        "    print(\"Predicted Score:\", predicted_score.item())\n"
      ],
      "metadata": {
        "colab": {
          "base_uri": "https://localhost:8080/"
        },
        "id": "OnqB4awH9APk",
        "outputId": "a90c6182-2734-4724-e3c4-987baaf85a95"
      },
      "execution_count": null,
      "outputs": [
        {
          "output_type": "stream",
          "name": "stdout",
          "text": [
            "Epoch 0, Loss: 4.027683258056641\n",
            "Epoch 10, Loss: 0.11142254620790482\n",
            "Epoch 20, Loss: 0.17805518209934235\n",
            "Epoch 30, Loss: 0.19862595200538635\n",
            "Epoch 40, Loss: 0.07079387456178665\n",
            "Epoch 50, Loss: 0.041442640125751495\n",
            "Epoch 60, Loss: 0.013481424190104008\n",
            "Epoch 70, Loss: 0.004198169335722923\n",
            "Epoch 80, Loss: 0.0005786382243968546\n",
            "Epoch 90, Loss: 0.001104401657357812\n",
            "Epoch 100, Loss: 0.00042534046224318445\n",
            "Epoch 110, Loss: 0.00024506100453436375\n",
            "Epoch 120, Loss: 0.000526231830008328\n",
            "Epoch 130, Loss: 0.0003564502112567425\n",
            "Epoch 140, Loss: 8.525714656570926e-05\n",
            "Epoch 150, Loss: 0.00014435329649131745\n",
            "Epoch 160, Loss: 0.00013451259292196482\n",
            "Epoch 170, Loss: 0.00010840618779184297\n",
            "Epoch 180, Loss: 0.00010867548553505912\n",
            "Epoch 190, Loss: 0.00011586270557017997\n",
            "Epoch 200, Loss: 0.00010600147652439773\n",
            "Epoch 210, Loss: 7.507992268074304e-05\n",
            "Epoch 220, Loss: 9.523896733298898e-05\n",
            "Epoch 230, Loss: 5.72543176531326e-05\n",
            "Epoch 240, Loss: 0.00011984835145995021\n",
            "Epoch 250, Loss: 8.025750867091119e-05\n",
            "Epoch 260, Loss: 4.993293987354264e-05\n",
            "Epoch 270, Loss: 6.0405673139030114e-05\n",
            "Epoch 280, Loss: 4.775144043378532e-05\n",
            "Epoch 290, Loss: 4.5742763177258894e-05\n",
            "Epoch 300, Loss: 4.5383752876659855e-05\n",
            "Epoch 310, Loss: 6.811176717747003e-05\n",
            "Epoch 320, Loss: 6.637850310653448e-05\n",
            "Epoch 330, Loss: 3.159622065140866e-05\n",
            "Epoch 340, Loss: 4.543776231002994e-05\n",
            "Epoch 350, Loss: 2.798200148390606e-05\n",
            "Epoch 360, Loss: 0.0001046201869030483\n",
            "Epoch 370, Loss: 6.556026346515864e-05\n",
            "Epoch 380, Loss: 5.007398431189358e-05\n",
            "Epoch 390, Loss: 3.746411675820127e-05\n",
            "Epoch 400, Loss: 2.6866136977332644e-05\n",
            "Epoch 410, Loss: 2.22656708501745e-05\n",
            "Epoch 420, Loss: 7.031955465208739e-05\n",
            "Epoch 430, Loss: 5.0336257118033245e-05\n",
            "Epoch 440, Loss: 8.152869122568518e-05\n",
            "Epoch 450, Loss: 0.0001314733235631138\n",
            "Epoch 460, Loss: 1.3994380424264818e-05\n",
            "Epoch 470, Loss: 7.823829218978062e-05\n",
            "Epoch 480, Loss: 2.285276605107356e-05\n",
            "Epoch 490, Loss: 1.7180786016979255e-05\n",
            "Epoch 500, Loss: 6.750653847120702e-05\n",
            "Epoch 510, Loss: 3.049604856641963e-05\n",
            "Epoch 520, Loss: 0.00014514201029669493\n",
            "Epoch 530, Loss: 1.800758946046699e-05\n",
            "Epoch 540, Loss: 8.454812814306933e-06\n",
            "Epoch 550, Loss: 2.219924863311462e-05\n",
            "Epoch 560, Loss: 0.0002019254316110164\n",
            "Epoch 570, Loss: 2.9935292332083918e-05\n",
            "Epoch 580, Loss: 1.0654062862158753e-05\n",
            "Epoch 590, Loss: 1.5948768123053014e-05\n",
            "Epoch 600, Loss: 2.0493214833550155e-05\n",
            "Epoch 610, Loss: 3.2104628189699724e-05\n",
            "Epoch 620, Loss: 3.161282074870542e-05\n",
            "Epoch 630, Loss: 2.2719936168869026e-05\n",
            "Epoch 640, Loss: 1.6743908417993225e-05\n",
            "Epoch 650, Loss: 3.050676423299592e-05\n",
            "Epoch 660, Loss: 5.864935883437283e-05\n",
            "Epoch 670, Loss: 2.1098943761899136e-05\n",
            "Epoch 680, Loss: 1.3064875020063482e-05\n",
            "Epoch 690, Loss: 1.4772114809602499e-05\n",
            "Epoch 700, Loss: 1.0667105016182177e-05\n",
            "Epoch 710, Loss: 2.0220935766701587e-05\n",
            "Epoch 720, Loss: 4.11891051044222e-06\n",
            "Epoch 730, Loss: 7.6192509368411265e-06\n",
            "Epoch 740, Loss: 3.793404175667092e-06\n",
            "Epoch 750, Loss: 3.839650617010193e-06\n",
            "Epoch 760, Loss: 9.420601600140799e-06\n",
            "Epoch 770, Loss: 1.751349918777123e-05\n",
            "Epoch 780, Loss: 6.130825568106957e-06\n",
            "Epoch 790, Loss: 1.743595021252986e-05\n",
            "Epoch 800, Loss: 7.2437605922459625e-06\n",
            "Epoch 810, Loss: 9.615151793695986e-05\n",
            "Epoch 820, Loss: 1.7760199625627138e-05\n",
            "Epoch 830, Loss: 4.403728962643072e-05\n",
            "Epoch 840, Loss: 2.554084630901343e-06\n",
            "Epoch 850, Loss: 3.772569471038878e-05\n",
            "Epoch 860, Loss: 1.4169030691846274e-05\n",
            "Epoch 870, Loss: 2.415589551674202e-05\n",
            "Epoch 880, Loss: 3.2237740015261807e-06\n",
            "Epoch 890, Loss: 9.447192496736534e-06\n",
            "Epoch 900, Loss: 2.1992385882185772e-05\n",
            "Epoch 910, Loss: 3.6316185287432745e-05\n",
            "Epoch 920, Loss: 5.658546797349118e-06\n",
            "Epoch 930, Loss: 3.2418060982308816e-06\n",
            "Epoch 940, Loss: 1.1904630810022354e-05\n",
            "Epoch 950, Loss: 4.704049842985114e-06\n",
            "Epoch 960, Loss: 1.2430849892552942e-05\n",
            "Epoch 970, Loss: 1.8348669982515275e-05\n",
            "Epoch 980, Loss: 2.9515681490011048e-06\n",
            "Epoch 990, Loss: 1.9010642063221894e-05\n",
            "Predicted Score: 2.263528347015381\n"
          ]
        }
      ]
    },
    {
      "cell_type": "markdown",
      "source": [
        "In this above machine learning model example, we used a simple neural network model to predict a score for a given set of quantum algorithm parameters. The custom_scoring_function represents a scoring mechanism based on the desired properties of quantum algorithms (e.g., maximizing quantum parallelism and entanglement)."
      ],
      "metadata": {
        "id": "gkQMhn5aDLj9"
      }
    }
  ]
}